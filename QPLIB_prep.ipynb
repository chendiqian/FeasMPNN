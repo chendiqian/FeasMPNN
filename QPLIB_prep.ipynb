{
 "cells": [
  {
   "cell_type": "code",
   "execution_count": null,
   "id": "3b0a6da5-ca98-420f-a467-e0562ff8dab2",
   "metadata": {},
   "outputs": [],
   "source": [
    "import gurobipy as gp\n",
    "import numpy as np\n",
    "import pandas as pd"
   ]
  },
  {
   "cell_type": "code",
   "execution_count": null,
   "id": "0e8201b1-111f-4c46-80ec-3b4d00e43e01",
   "metadata": {},
   "outputs": [],
   "source": [
    "datos = pd.read_csv('PATH/TO/instancedata.csv')"
   ]
  },
  {
   "cell_type": "markdown",
   "id": "16d17537-afb2-4393-9f0d-2310c54e211f",
   "metadata": {},
   "source": [
    "find LCQPs"
   ]
  },
  {
   "cell_type": "code",
   "execution_count": null,
   "id": "2c0f8334-e4b9-483b-a899-8948fb5b1312",
   "metadata": {},
   "outputs": [],
   "source": [
    "datos = datos[datos['conscurvature'] == 'linear']\n",
    "datos = datos.drop(columns=['conscurvature'])"
   ]
  },
  {
   "cell_type": "markdown",
   "id": "f8bad277-d285-429d-b22e-030fe55cf6b9",
   "metadata": {},
   "source": [
    "remove the indefinite ones, the rest are all convex, no concave, no linear"
   ]
  },
  {
   "cell_type": "code",
   "execution_count": null,
   "id": "0751a6e6-7061-4a2d-94d7-8937ef896092",
   "metadata": {},
   "outputs": [],
   "source": [
    "datos = datos[datos['objcurvature'] == 'convex']\n",
    "datos = datos.drop(columns=['objcurvature', 'nobjquadnegev', 'convex'])"
   ]
  },
  {
   "cell_type": "code",
   "execution_count": null,
   "id": "1e126e3c-3e2d-4752-9627-abc3b8309a9b",
   "metadata": {},
   "outputs": [],
   "source": [
    "datos = datos[~np.isnan(datos['solobjvalue'])]\n",
    "# datos = datos[datos['solobjvalue'] != 0]\n",
    "# datos = datos.drop(columns=['solobjvalue'])"
   ]
  },
  {
   "cell_type": "code",
   "execution_count": null,
   "id": "25b1749b-44d7-4b82-94a7-e450460fdae8",
   "metadata": {},
   "outputs": [],
   "source": [
    "datos = datos.drop(columns=['nsos1', 'nsos2', 'nintvars', 'nquadfunc', 'objsense', 'objquadproblevfrac', 'njacobiannlnz', 'objtype', 'nnlfunc', 'nldensity', 'nnlsemi',\n",
    "                           'ndiagquadcons', 'nnlintvars', 'nindefinitenlcons', 'solinfeasibility', 'nobjnz', 'nobjnlnz', 'nlnz', 'nz', 'njacobiannz',\n",
    "                           'nlaghessiandiagnz', 'solsource', 'donor', 'nsemi', 'nquadcons', 'nobjquadnz', 'nlaghessiannz', 'nconvexnlcons', 'nlincons', 'nlinfunc',\n",
    "                           'nobjquaddiagnz', 'laghessianmaxblocksize', 'nconcavenlcons', 'nlaghessianblocks', 'laghessianminblocksize', 'nobjquadposev',\n",
    "                           'nnlbinvars', 'ncontvars', 'nnlvars', 'nbinvars', 'nsingleboundedvars', 'nboundedvars', 'laghessianavgblocksize'])"
   ]
  },
  {
   "cell_type": "code",
   "execution_count": null,
   "id": "485a92e2-f259-44ae-9efa-93b0d3e0da09",
   "metadata": {},
   "outputs": [],
   "source": [
    "datos"
   ]
  },
  {
   "cell_type": "code",
   "execution_count": null,
   "id": "1fc2dcd5-b44f-4f42-b34b-57edde5a229f",
   "metadata": {},
   "outputs": [],
   "source": [
    "target = 'QPLIB_8790'"
   ]
  },
  {
   "cell_type": "code",
   "execution_count": null,
   "id": "d549d7c5-269c-4984-9d7e-52618228d374",
   "metadata": {},
   "outputs": [],
   "source": []
  },
  {
   "cell_type": "code",
   "execution_count": null,
   "id": "68eb93bc-bbe1-4815-97e8-110378c1f854",
   "metadata": {},
   "outputs": [],
   "source": [
    "import gurobipy as gp\n",
    "cat = np.concatenate"
   ]
  },
  {
   "cell_type": "code",
   "execution_count": null,
   "id": "9c8747c0-ed59-4bd3-b186-25d8e95ed13d",
   "metadata": {},
   "outputs": [],
   "source": []
  },
  {
   "cell_type": "code",
   "execution_count": null,
   "id": "f718dcee-135a-4760-a946-3a03178f2111",
   "metadata": {},
   "outputs": [],
   "source": [
    "def get_array(name):\n",
    "    model = gp.read(f\"PATH/TO/lp/{name}.lp\")\n",
    "    model = model.relax()\n",
    "    assert np.all(np.array(model.getAttr(\"vtype\", model.getVars())) == 'C')\n",
    "    assert model.ModelSense == 1  # 1 for min, -1 for max\n",
    "\n",
    "    A     = model.getA().todense()\n",
    "    sense = np.array(model.getAttr(\"Sense\", model.getConstrs()))\n",
    "    b = np.array(model.getAttr(\"rhs\", model.getConstrs()))\n",
    "    \n",
    "    Aeq = np.array(A[sense == '=', :])\n",
    "    Ale = np.array(A[sense == '<', :])\n",
    "    Age = np.array(A[sense == '>', :])\n",
    "    \n",
    "    beq = np.array(b[sense == '='])\n",
    "    ble = np.array(b[sense == '<'])\n",
    "    bge = np.array(b[sense == '>'])\n",
    "    \n",
    "    Ale = cat([Ale, -Age], axis=0)\n",
    "    ble = cat([ble, -bge], axis=0)\n",
    "    # sense[sense == '>'] = '<'\n",
    "\n",
    "    model.setAttr(\"LB\", model.getVars(), 0)\n",
    "    model.setAttr(\"UB\", model.getVars(), np.inf)\n",
    "    model.update()\n",
    "\n",
    "    lb = np.array(model.getAttr(\"LB\", model.getVars()))\n",
    "    ub = np.array(model.getAttr(\"UB\", model.getVars()))\n",
    "\n",
    "    Q = model.getQ().todense()\n",
    "    c = np.array(model.getAttr(\"obj\", model.getVars()))\n",
    "    return Q, c, Aeq, Ale, beq, ble, lb, ub, model"
   ]
  },
  {
   "cell_type": "code",
   "execution_count": null,
   "id": "7c3e0b38-85e7-4504-8c56-cb4e3c05abe0",
   "metadata": {},
   "outputs": [],
   "source": [
    "Q, c, Aeq, Ale, beq, ble, lb, ub, old_model = get_array(target)"
   ]
  },
  {
   "cell_type": "code",
   "execution_count": null,
   "id": "eef397f6-0c71-441b-9fb6-92703f48df2b",
   "metadata": {},
   "outputs": [],
   "source": [
    "old_model.optimize()"
   ]
  },
  {
   "cell_type": "code",
   "execution_count": null,
   "id": "24c71fb4-aa67-4111-a159-8e70dec729f5",
   "metadata": {},
   "outputs": [],
   "source": [
    "all_vars = old_model.getVars()\n",
    "values = old_model.getAttr(\"X\", all_vars)\n",
    "solution = np.array(values)\n",
    "obj = old_model.getObjective().getValue()"
   ]
  },
  {
   "cell_type": "code",
   "execution_count": null,
   "id": "1792b2a4-c98d-41ad-aa7b-a23126979f16",
   "metadata": {},
   "outputs": [],
   "source": []
  },
  {
   "cell_type": "code",
   "execution_count": null,
   "id": "dcba69d1-9517-4ec7-8ea3-31d98099c96c",
   "metadata": {},
   "outputs": [],
   "source": []
  },
  {
   "cell_type": "code",
   "execution_count": null,
   "id": "0a74bff5-4933-4b34-a341-34e5244f89d5",
   "metadata": {},
   "outputs": [],
   "source": [
    "Ale = cat([Ale, np.eye(Ale.shape[0])], axis=1)\n",
    "Aeq = cat([Aeq, np.zeros((Aeq.shape[0], Ale.shape[0]))], axis=1)\n",
    "A = cat([Ale, Aeq], axis=0)\n",
    "b = cat([ble, beq], axis=0)"
   ]
  },
  {
   "cell_type": "code",
   "execution_count": null,
   "id": "14ab915a-1a45-4ecc-9f3b-9b5812057502",
   "metadata": {},
   "outputs": [],
   "source": [
    "P = np.zeros((A.shape[1], A.shape[1]))\n",
    "P[:Q.shape[0], :Q.shape[1]] = Q\n",
    "P /= np.abs(P).max()"
   ]
  },
  {
   "cell_type": "code",
   "execution_count": null,
   "id": "14f41d4e-d4dc-43a4-a35e-26c6743fcbf0",
   "metadata": {},
   "outputs": [],
   "source": [
    "q = cat([c, np.zeros(Ale.shape[0])], axis=0)\n",
    "q /= np.abs(q).max()"
   ]
  },
  {
   "cell_type": "code",
   "execution_count": null,
   "id": "becb5db1-f66c-41b7-a818-468f787b633c",
   "metadata": {},
   "outputs": [],
   "source": [
    "model = gp.Model(\"qp\")\n",
    "x = model.addMVar(A.shape[1])\n",
    "model.setObjective(0.5 * x @ P @ x + (x * q).sum())\n",
    "model.addConstr(A @ x == b)\n",
    "# m.optimize()"
   ]
  },
  {
   "cell_type": "code",
   "execution_count": null,
   "id": "e4f3a5a5-b217-4231-b8a4-9ac368442431",
   "metadata": {},
   "outputs": [],
   "source": [
    "model.presolve()"
   ]
  },
  {
   "cell_type": "code",
   "execution_count": null,
   "id": "8d5ab777-6264-438d-b576-e108f25c0ec0",
   "metadata": {},
   "outputs": [],
   "source": [
    "model.optimize()"
   ]
  },
  {
   "cell_type": "code",
   "execution_count": null,
   "id": "b2c84c2c-ce13-4432-8c0b-e6a8410f4c74",
   "metadata": {},
   "outputs": [],
   "source": [
    "all_vars = model.getVars()\n",
    "values = model.getAttr(\"X\", all_vars)\n",
    "solution = np.array(values)\n",
    "obj = model.getObjective().getValue()"
   ]
  },
  {
   "cell_type": "code",
   "execution_count": null,
   "id": "2252b01a-2701-4564-9923-6575a8eddb99",
   "metadata": {},
   "outputs": [],
   "source": [
    "solution"
   ]
  },
  {
   "cell_type": "code",
   "execution_count": null,
   "id": "1bf6dc27-6da0-4d08-a1e1-288d3a2a1ca8",
   "metadata": {},
   "outputs": [],
   "source": [
    "obj"
   ]
  },
  {
   "cell_type": "code",
   "execution_count": null,
   "id": "2bf35545-ede9-43fd-926f-288ed4f8d211",
   "metadata": {},
   "outputs": [],
   "source": []
  },
  {
   "cell_type": "code",
   "execution_count": null,
   "id": "26f773b2-45d0-4df3-8df0-e7a5fe3f3cfe",
   "metadata": {},
   "outputs": [],
   "source": [
    "from generate_instances import normalize_cons"
   ]
  },
  {
   "cell_type": "code",
   "execution_count": null,
   "id": "bbf9544c-3bd7-4a07-862f-e996342b789e",
   "metadata": {},
   "outputs": [],
   "source": [
    "A, b = normalize_cons(A, b)"
   ]
  },
  {
   "cell_type": "code",
   "execution_count": null,
   "id": "56c4263c-7aa4-4ffe-b4a4-852b1bf4779a",
   "metadata": {},
   "outputs": [],
   "source": []
  },
  {
   "cell_type": "code",
   "execution_count": null,
   "id": "4967147d-b58c-4c69-a35a-c629d312c05b",
   "metadata": {},
   "outputs": [],
   "source": [
    "from scipy.linalg import qr"
   ]
  },
  {
   "cell_type": "code",
   "execution_count": null,
   "id": "aca52640-397d-47e8-8171-d97c7c81be4a",
   "metadata": {},
   "outputs": [],
   "source": [
    "lmat, _ = qr(A.T)"
   ]
  },
  {
   "cell_type": "code",
   "execution_count": null,
   "id": "630c1ffb-c14a-415a-8278-e85d70a0f8dd",
   "metadata": {},
   "outputs": [],
   "source": [
    "m, n = A.shape\n",
    "nulls = lmat[:, m:]"
   ]
  },
  {
   "cell_type": "code",
   "execution_count": null,
   "id": "83da8a80-005b-4275-a757-4027af9f68df",
   "metadata": {},
   "outputs": [],
   "source": [
    "np.abs(A @ nulls).max()"
   ]
  },
  {
   "cell_type": "code",
   "execution_count": null,
   "id": "cc253f1e-c69f-4ea4-8328-9d8f14c1c28b",
   "metadata": {},
   "outputs": [],
   "source": [
    "nulls.T @ nulls"
   ]
  },
  {
   "cell_type": "code",
   "execution_count": null,
   "id": "bddecee5-dbcb-4dd0-8ecc-effa0e5ace3d",
   "metadata": {},
   "outputs": [],
   "source": [
    "np.abs(nulls).max(0).min()"
   ]
  },
  {
   "cell_type": "code",
   "execution_count": null,
   "id": "91af5b2c-1f62-40c4-b025-7858c8e27939",
   "metadata": {},
   "outputs": [],
   "source": []
  },
  {
   "cell_type": "code",
   "execution_count": null,
   "id": "69792c25-3d9e-495e-abbe-bbd405093062",
   "metadata": {},
   "outputs": [],
   "source": [
    "from scipy.optimize import linprog"
   ]
  },
  {
   "cell_type": "code",
   "execution_count": null,
   "id": "bc0e736b-ff7f-4d39-9c23-123a593ed42c",
   "metadata": {},
   "outputs": [],
   "source": [
    "m, n = A.shape"
   ]
  },
  {
   "cell_type": "code",
   "execution_count": null,
   "id": "9634f608-1aee-42c8-8fa1-3cecf1dc9c51",
   "metadata": {},
   "outputs": [],
   "source": [
    "sol = linprog(c=np.concatenate([np.zeros(n), np.array([-1.])], axis=0), \n",
    "                      A_ub=np.concatenate([-np.eye(n), np.ones((n, 1))], axis=1), \n",
    "                      b_ub=np.zeros(n), \n",
    "                      A_eq=np.concatenate([A, np.zeros((m, 1))], axis=1), b_eq=b, \n",
    "                      # we set upper bound in case unbounded e.g. svm\n",
    "                      bounds=(0., None), method='highs')"
   ]
  },
  {
   "cell_type": "code",
   "execution_count": null,
   "id": "17f482a8-cd20-43ac-a7c0-b20f814d6177",
   "metadata": {},
   "outputs": [],
   "source": [
    "sol.x.min()"
   ]
  },
  {
   "cell_type": "code",
   "execution_count": null,
   "id": "9cd3bea5-207c-484d-b3b1-136dc19a2495",
   "metadata": {},
   "outputs": [],
   "source": []
  },
  {
   "cell_type": "code",
   "execution_count": null,
   "id": "c2d89a8e-b2ae-41b9-b1b3-2334a3330376",
   "metadata": {},
   "outputs": [],
   "source": [
    "from torch_geometric.data import HeteroData\n",
    "import torch"
   ]
  },
  {
   "cell_type": "code",
   "execution_count": null,
   "id": "219d5927-00c2-43ab-94d8-b3b2714b47ef",
   "metadata": {},
   "outputs": [],
   "source": [
    "A = torch.from_numpy(A).to(torch.float)\n",
    "b = torch.from_numpy(b).to(torch.float)\n",
    "q = torch.from_numpy(q).to(torch.float)\n",
    "solution = torch.from_numpy(solution).to(torch.float)\n",
    "x_feasible = torch.from_numpy(sol.x[:-1]).to(torch.float)\n",
    "\n",
    "P = torch.from_numpy(P).to(torch.float)\n",
    "A_where = torch.where(A)\n",
    "P_where = torch.where(P)\n",
    "\n",
    "data = HeteroData(\n",
    "    cons={\n",
    "        'num_nodes': A.shape[0],\n",
    "        'x': torch.empty(A.shape[0]),\n",
    "         },\n",
    "    vals={\n",
    "        'num_nodes': A.shape[1],\n",
    "        'x': torch.empty(A.shape[1]),\n",
    "    },\n",
    "    # we create a tripartite graph, but we may NOT use the global node\n",
    "    obj={\n",
    "            'num_nodes': 1,\n",
    "            'x': torch.zeros(1, 1).float(),\n",
    "        },\n",
    "    cons__to__vals={'edge_index': torch.vstack(A_where),\n",
    "                    'edge_attr': A[A_where][:, None]},\n",
    "    vals__to__vals={'edge_index': torch.vstack(P_where),\n",
    "                    'edge_attr': P[P_where][:, None]},\n",
    "    obj__to__vals={'edge_index': torch.vstack([torch.zeros(A.shape[1]).long(),\n",
    "                                               torch.arange(A.shape[1])]),\n",
    "                    'edge_attr': torch.ones(A.shape[1], 1).float()},\n",
    "    obj__to__cons={'edge_index': torch.vstack([torch.zeros(A.shape[0]).long(),\n",
    "                                               torch.arange(A.shape[0])]),\n",
    "                    'edge_attr': torch.ones(A.shape[0], 1).float()},\n",
    "    x_solution=solution,\n",
    "    x_feasible=x_feasible,\n",
    "    obj_solution=obj,\n",
    "    b=b,\n",
    "    q=q,\n",
    "    nulls=torch.from_numpy(nulls).float().reshape(-1)\n",
    ")"
   ]
  },
  {
   "cell_type": "code",
   "execution_count": null,
   "id": "b02fa391-a81d-45c7-8c26-91e7d9559219",
   "metadata": {},
   "outputs": [],
   "source": [
    "torch.save(data, f'qplib_pt/{target}.pt')"
   ]
  },
  {
   "cell_type": "code",
   "execution_count": null,
   "id": "a647a858-4c43-40ad-bd11-128a3d8d9314",
   "metadata": {},
   "outputs": [],
   "source": []
  }
 ],
 "metadata": {
  "kernelspec": {
   "display_name": "Python 3 (ipykernel)",
   "language": "python",
   "name": "python3"
  },
  "language_info": {
   "codemirror_mode": {
    "name": "ipython",
    "version": 3
   },
   "file_extension": ".py",
   "mimetype": "text/x-python",
   "name": "python",
   "nbconvert_exporter": "python",
   "pygments_lexer": "ipython3",
   "version": "3.10.14"
  }
 },
 "nbformat": 4,
 "nbformat_minor": 5
}
