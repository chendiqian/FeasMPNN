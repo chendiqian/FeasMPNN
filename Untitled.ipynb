{
 "cells": [
  {
   "cell_type": "code",
   "execution_count": null,
   "id": "b7313b55-ee2a-4cea-b64d-60905f81c7d1",
   "metadata": {},
   "outputs": [],
   "source": [
    "%load_ext autoreload\n",
    "%autoreload 2\n",
    "%load_ext line_profiler"
   ]
  },
  {
   "cell_type": "code",
   "execution_count": null,
   "id": "c9d6f4cc-1a96-42ce-9ab3-dc30955fb8d8",
   "metadata": {},
   "outputs": [],
   "source": [
    "from data.dataset import LPDataset\n",
    "import torch\n",
    "import numpy as np\n",
    "\n",
    "dataset = LPDataset('./mis_eq')\n",
    "g = dataset[0]"
   ]
  },
  {
   "cell_type": "code",
   "execution_count": null,
   "id": "d191cbc7-d4f1-431b-8a56-6acab85031cb",
   "metadata": {},
   "outputs": [],
   "source": [
    "device = 'cuda' if torch.cuda.is_available() else 'cpu'"
   ]
  },
  {
   "cell_type": "code",
   "execution_count": null,
   "id": "c1c0b44c-39c7-4cca-a6a7-46b31b566285",
   "metadata": {},
   "outputs": [],
   "source": [
    "from models.hetero_gnn import TripartiteHeteroGNN"
   ]
  },
  {
   "cell_type": "code",
   "execution_count": null,
   "id": "2acd8cef-69a7-4a85-9103-e729a0ac3365",
   "metadata": {},
   "outputs": [],
   "source": [
    "model = TripartiteHeteroGNN(conv='gcnconv',\n",
    "                            hid_dim=128,\n",
    "                            num_conv_layers=6,\n",
    "                            num_pred_layers=2,\n",
    "                            num_mlp_layers=2,\n",
    "                            dropout=0.,\n",
    "                            norm='graphnorm',\n",
    "                            use_res=False,\n",
    "                            conv_sequence='cov').to(device)"
   ]
  },
  {
   "cell_type": "code",
   "execution_count": null,
   "id": "3c908281-fa3e-4d16-b239-c9439f6d9faf",
   "metadata": {},
   "outputs": [],
   "source": [
    "from data.utils import collate_fn_lp"
   ]
  },
  {
   "cell_type": "code",
   "execution_count": null,
   "id": "537e6e65-ecc0-496f-98df-553ee5c2fd87",
   "metadata": {},
   "outputs": [],
   "source": [
    "batch = collate_fn_lp([g])\n",
    "\n",
    "batch.x_start = torch.rand(batch.x_dict['vals'].shape[0])\n",
    "\n",
    "batch = batch.to(device)\n",
    "_ = model(batch)"
   ]
  },
  {
   "cell_type": "code",
   "execution_count": null,
   "id": "0bbb808f-da04-49ad-b495-67c548328394",
   "metadata": {},
   "outputs": [],
   "source": []
  },
  {
   "cell_type": "code",
   "execution_count": null,
   "id": "32934581-b321-4ac5-bb80-0adf170ea398",
   "metadata": {},
   "outputs": [],
   "source": [
    "model.load_state_dict(torch.load('best_model.pt', map_location=device))\n",
    "model.eval()"
   ]
  },
  {
   "cell_type": "code",
   "execution_count": null,
   "id": "129c6eb8-b7e3-40d3-b007-bf4c6937ca27",
   "metadata": {},
   "outputs": [],
   "source": []
  },
  {
   "cell_type": "code",
   "execution_count": null,
   "id": "73ad83fc-f706-4293-ba0c-161eb0e5a55c",
   "metadata": {},
   "outputs": [],
   "source": [
    "from torch_sparse import SparseTensor\n",
    "\n",
    "A = SparseTensor(row=g.A_row,\n",
    "                 col=g.A_col,\n",
    "                 value=g.A_val, is_sorted=True,\n",
    "                 trust_data=True).to_dense().numpy()\n",
    "b = g.b.numpy()\n",
    "c = g.c.numpy()"
   ]
  },
  {
   "cell_type": "code",
   "execution_count": null,
   "id": "496ea812-2b23-4bb1-8741-b771712e2a43",
   "metadata": {},
   "outputs": [],
   "source": [
    "batch.x_start = torch.rand(batch.x_dict['vals'].shape[0])\n",
    "\n",
    "# direction\n",
    "x_direction = batch.x_solution - batch.x_start\n",
    "batch.x_label = x_direction / x_direction.abs().max() + 1.e-7"
   ]
  },
  {
   "cell_type": "code",
   "execution_count": null,
   "id": "1c8c07bc-d5e8-49df-bb7f-499636339406",
   "metadata": {},
   "outputs": [],
   "source": [
    "grad_x = model(batch)"
   ]
  },
  {
   "cell_type": "code",
   "execution_count": null,
   "id": "8ef2ce67-b8c2-4612-b92a-e2f0d2d5789d",
   "metadata": {},
   "outputs": [],
   "source": [
    "from trainer import Trainer"
   ]
  },
  {
   "cell_type": "code",
   "execution_count": null,
   "id": "9911c1f6-f579-4526-ab2f-24e618567ffc",
   "metadata": {},
   "outputs": [],
   "source": [
    "trainer = Trainer(device, 'l2', 1)"
   ]
  },
  {
   "cell_type": "code",
   "execution_count": null,
   "id": "a7959ee5-525c-49cb-8034-421ec52af453",
   "metadata": {},
   "outputs": [],
   "source": [
    "trainer.get_loss(grad_x, batch.x_label, batch['vals'].batch)"
   ]
  },
  {
   "cell_type": "code",
   "execution_count": null,
   "id": "b0bc2d8f-bd05-45dc-b327-9059634a0a89",
   "metadata": {},
   "outputs": [],
   "source": []
  },
  {
   "cell_type": "code",
   "execution_count": null,
   "id": "adbb415b-5b1b-41a8-a33a-307b360ce92d",
   "metadata": {},
   "outputs": [],
   "source": [
    "from scipy.linalg import pinv\n",
    "\n",
    "A_inv = pinv(A)\n",
    "A_inv_b = A_inv @ b"
   ]
  },
  {
   "cell_type": "code",
   "execution_count": null,
   "id": "e5ed25e3-b7ca-4728-9bd9-59ee56079739",
   "metadata": {},
   "outputs": [],
   "source": [
    "x = np.random.rand(batch.x_dict['vals'].shape[0])\n",
    "\n",
    "obj_trace = []\n",
    "\n",
    "pbar = range(20)\n",
    "for iteration in pbar:\n",
    "    print(f'obj: {c.dot(x)}')\n",
    "    obj_trace.append(c.dot(x))\n",
    "    batch.x_start = torch.from_numpy(x).to(torch.float).to(device)\n",
    "\n",
    "    with torch.no_grad():\n",
    "        grad_x = model(batch)\n",
    "    label = batch.x_solution - batch.x_start\n",
    "    label /= label.abs().max() + 1.e-7\n",
    "\n",
    "    print(f'eval: {trainer.get_loss(grad_x, label, batch[\"vals\"].batch)}')\n",
    "\n",
    "    grad_x = grad_x.cpu().numpy()[:, -1]\n",
    "\n",
    "    alpha = 1.\n",
    "    gradx_mask_lower = grad_x < 0\n",
    "    if np.any(gradx_mask_lower):\n",
    "        alpha = min(alpha, (-x[gradx_mask_lower] / grad_x[gradx_mask_lower]).min())\n",
    "    gradx_mask_upper = grad_x > 0\n",
    "    if np.any(gradx_mask_upper):\n",
    "        alpha = min(alpha, ((1. - x[gradx_mask_upper]) / grad_x[gradx_mask_upper]).min())\n",
    "    gradx_mask_upper = np.logical_and(grad_x > 0, x < A_inv_b)\n",
    "    if np.any(gradx_mask_upper):\n",
    "        alpha = min(alpha, ((A_inv_b[gradx_mask_upper] - x[gradx_mask_upper]) / grad_x[gradx_mask_upper]).min())\n",
    "\n",
    "    x = x + alpha * grad_x"
   ]
  },
  {
   "cell_type": "code",
   "execution_count": null,
   "id": "a9e70a83-0f8c-4f69-a682-5bf28bb1ef57",
   "metadata": {},
   "outputs": [],
   "source": []
  },
  {
   "cell_type": "code",
   "execution_count": null,
   "id": "fc3e4aa6-85de-4766-afb1-048a6d6a4cd8",
   "metadata": {},
   "outputs": [],
   "source": [
    "import matplotlib.pyplot as plt"
   ]
  },
  {
   "cell_type": "code",
   "execution_count": null,
   "id": "b789cc4c-bd42-40e8-b693-4285af2b2995",
   "metadata": {},
   "outputs": [],
   "source": [
    "plt.plot(obj_trace)\n",
    "plt.axhline(y=-9.506, color='r', linestyle='dashed')"
   ]
  },
  {
   "cell_type": "code",
   "execution_count": null,
   "id": "7529c2c8-756b-41da-ba89-eba5b73870a8",
   "metadata": {},
   "outputs": [],
   "source": []
  },
  {
   "cell_type": "code",
   "execution_count": null,
   "id": "cf924e65-c51b-427f-837b-3dc9137d9509",
   "metadata": {},
   "outputs": [],
   "source": [
    "from solver.linprog import linprog"
   ]
  },
  {
   "cell_type": "code",
   "execution_count": null,
   "id": "cf41cf4b-a9a1-4839-a93a-bbc9ffca0c12",
   "metadata": {},
   "outputs": [],
   "source": [
    "xs = np.stack(linprog(c, A_ub=A, b_ub=b, bounds=(0, 1), options={'maxiter': 20}, callback=lambda res: res.x).intermediate, axis=0)"
   ]
  },
  {
   "cell_type": "code",
   "execution_count": null,
   "id": "db5733c5-0a8c-40a7-9d0e-22a969ccdd66",
   "metadata": {},
   "outputs": [],
   "source": [
    "xs.dot(c)"
   ]
  },
  {
   "cell_type": "code",
   "execution_count": null,
   "id": "a57bbe33-b3e7-4787-949d-2d02b5fb5deb",
   "metadata": {},
   "outputs": [],
   "source": []
  }
 ],
 "metadata": {
  "kernelspec": {
   "display_name": "Python 3 (ipykernel)",
   "language": "python",
   "name": "python3"
  },
  "language_info": {
   "codemirror_mode": {
    "name": "ipython",
    "version": 3
   },
   "file_extension": ".py",
   "mimetype": "text/x-python",
   "name": "python",
   "nbconvert_exporter": "python",
   "pygments_lexer": "ipython3",
   "version": "3.10.12"
  }
 },
 "nbformat": 4,
 "nbformat_minor": 5
}
