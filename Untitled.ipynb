{
 "cells": [
  {
   "cell_type": "code",
   "execution_count": null,
   "id": "b7313b55-ee2a-4cea-b64d-60905f81c7d1",
   "metadata": {},
   "outputs": [],
   "source": [
    "%load_ext autoreload\n",
    "%autoreload 2\n",
    "%load_ext line_profiler"
   ]
  },
  {
   "cell_type": "code",
   "execution_count": null,
   "id": "c9d6f4cc-1a96-42ce-9ab3-dc30955fb8d8",
   "metadata": {},
   "outputs": [],
   "source": [
    "from data.dataset import LPDataset\n",
    "import torch\n",
    "import numpy as np\n",
    "\n",
    "dataset = LPDataset('./mis_eq')\n",
    "g = dataset[0]"
   ]
  },
  {
   "cell_type": "code",
   "execution_count": null,
   "id": "5ebf2dca-d65a-41f3-b8ca-af5f0017fae1",
   "metadata": {},
   "outputs": [],
   "source": []
  },
  {
   "cell_type": "code",
   "execution_count": null,
   "id": "d191cbc7-d4f1-431b-8a56-6acab85031cb",
   "metadata": {},
   "outputs": [],
   "source": [
    "device = 'cuda' if torch.cuda.is_available() else 'cpu'"
   ]
  },
  {
   "cell_type": "code",
   "execution_count": null,
   "id": "c1c0b44c-39c7-4cca-a6a7-46b31b566285",
   "metadata": {},
   "outputs": [],
   "source": [
    "from models.hetero_gnn import TripartiteHeteroGNN\n",
    "from models.cycle_model import CycleGNN"
   ]
  },
  {
   "cell_type": "code",
   "execution_count": null,
   "id": "2acd8cef-69a7-4a85-9103-e729a0ac3365",
   "metadata": {},
   "outputs": [],
   "source": [
    "gnn = TripartiteHeteroGNN(conv='gcnconv',\n",
    "                            hid_dim=128,\n",
    "                            num_conv_layers=6,\n",
    "                            num_pred_layers=2,\n",
    "                            num_mlp_layers=2,\n",
    "                            dropout=0.,\n",
    "                            norm='graphnorm',\n",
    "                            use_res=False,\n",
    "                            conv_sequence='cov').to(device)"
   ]
  },
  {
   "cell_type": "code",
   "execution_count": null,
   "id": "ec5a7633-4a07-4959-a723-1ed4e5fc954c",
   "metadata": {},
   "outputs": [],
   "source": [
    "model = CycleGNN(4, gnn).to(device)"
   ]
  },
  {
   "cell_type": "code",
   "execution_count": null,
   "id": "e2e0641e-f665-4e3a-9db8-0ac0c01b95da",
   "metadata": {},
   "outputs": [],
   "source": []
  },
  {
   "cell_type": "code",
   "execution_count": null,
   "id": "3c908281-fa3e-4d16-b239-c9439f6d9faf",
   "metadata": {},
   "outputs": [],
   "source": [
    "from data.utils import collate_fn_lp, feasible_start_point"
   ]
  },
  {
   "cell_type": "code",
   "execution_count": null,
   "id": "b9676554-856d-49bf-95b2-53742fdfaacf",
   "metadata": {},
   "outputs": [],
   "source": [
    "from torch_sparse import SparseTensor"
   ]
  },
  {
   "cell_type": "code",
   "execution_count": null,
   "id": "526fd3b1-fa91-45b5-8106-5e0b6393ea58",
   "metadata": {},
   "outputs": [],
   "source": [
    "from solver.linprog_ip import _ip_hsd"
   ]
  },
  {
   "cell_type": "code",
   "execution_count": null,
   "id": "51fc4be7-3be4-40da-a9b4-4e060792b3c4",
   "metadata": {},
   "outputs": [],
   "source": [
    "g = feasible_start_point(g, True)\n",
    "x_start = g.x_start.clone()\n",
    "batch = collate_fn_lp([g])\n",
    "batch = batch.to(device)\n",
    "_ = gnn(batch)"
   ]
  },
  {
   "cell_type": "code",
   "execution_count": null,
   "id": "22598756-2190-4a2c-9d3c-a6058c66c0e3",
   "metadata": {},
   "outputs": [],
   "source": [
    "x_start"
   ]
  },
  {
   "cell_type": "code",
   "execution_count": null,
   "id": "bdcfe80b-c819-4856-891d-43b657568c1f",
   "metadata": {},
   "outputs": [],
   "source": [
    "from torch_sparse import SparseTensor"
   ]
  },
  {
   "cell_type": "code",
   "execution_count": null,
   "id": "cea45f8c-9f30-4c83-89d6-edd2f7a0f92d",
   "metadata": {},
   "outputs": [],
   "source": [
    "A = SparseTensor(row=g.A_row,\n",
    "                 col=g.A_col,\n",
    "                 value=g.A_val, is_sorted=True,\n",
    "                 trust_data=True)\n",
    "b = g.b"
   ]
  },
  {
   "cell_type": "code",
   "execution_count": null,
   "id": "25086b52-31ab-4801-851a-1501cbb5189d",
   "metadata": {},
   "outputs": [],
   "source": [
    "(A @ x_start[:, None]).squeeze() - b"
   ]
  },
  {
   "cell_type": "code",
   "execution_count": null,
   "id": "1123a17f-6211-4b1e-81ee-d95858a496a3",
   "metadata": {},
   "outputs": [],
   "source": []
  },
  {
   "cell_type": "code",
   "execution_count": null,
   "id": "32934581-b321-4ac5-bb80-0adf170ea398",
   "metadata": {},
   "outputs": [],
   "source": [
    "model.load_state_dict(torch.load('best_model.pt', map_location=device))\n",
    "model.eval()"
   ]
  },
  {
   "cell_type": "code",
   "execution_count": null,
   "id": "129c6eb8-b7e3-40d3-b007-bf4c6937ca27",
   "metadata": {},
   "outputs": [],
   "source": []
  },
  {
   "cell_type": "code",
   "execution_count": null,
   "id": "496ea812-2b23-4bb1-8741-b771712e2a43",
   "metadata": {},
   "outputs": [],
   "source": [
    "batch.x_start = x_start.clone()\n",
    "xs = model(batch)"
   ]
  },
  {
   "cell_type": "code",
   "execution_count": null,
   "id": "294725d2-2315-4f09-b85c-aceba0ba5057",
   "metadata": {},
   "outputs": [],
   "source": [
    "xs"
   ]
  },
  {
   "cell_type": "code",
   "execution_count": null,
   "id": "78647f44-2425-41c7-a2b9-f0ff5f0f3d18",
   "metadata": {},
   "outputs": [],
   "source": [
    "(A @ batch.x_start[:, None]).squeeze() - b"
   ]
  },
  {
   "cell_type": "code",
   "execution_count": null,
   "id": "8ef2ce67-b8c2-4612-b92a-e2f0d2d5789d",
   "metadata": {},
   "outputs": [],
   "source": [
    "from trainer import Trainer"
   ]
  },
  {
   "cell_type": "code",
   "execution_count": null,
   "id": "9911c1f6-f579-4526-ab2f-24e618567ffc",
   "metadata": {},
   "outputs": [],
   "source": [
    "trainer = Trainer(device, 'l2', 1)"
   ]
  },
  {
   "cell_type": "code",
   "execution_count": null,
   "id": "a7959ee5-525c-49cb-8034-421ec52af453",
   "metadata": {},
   "outputs": [],
   "source": [
    "trainer.get_loss(xs, batch['vals'].batch)"
   ]
  },
  {
   "cell_type": "code",
   "execution_count": null,
   "id": "1a506771-4fa1-4d20-b2f4-6014e8125595",
   "metadata": {},
   "outputs": [],
   "source": []
  },
  {
   "cell_type": "code",
   "execution_count": null,
   "id": "8a752a78-be53-4f99-ad95-ea3db4640753",
   "metadata": {},
   "outputs": [],
   "source": []
  }
 ],
 "metadata": {
  "kernelspec": {
   "display_name": "Python 3 (ipykernel)",
   "language": "python",
   "name": "python3"
  },
  "language_info": {
   "codemirror_mode": {
    "name": "ipython",
    "version": 3
   },
   "file_extension": ".py",
   "mimetype": "text/x-python",
   "name": "python",
   "nbconvert_exporter": "python",
   "pygments_lexer": "ipython3",
   "version": "3.10.12"
  }
 },
 "nbformat": 4,
 "nbformat_minor": 5
}
