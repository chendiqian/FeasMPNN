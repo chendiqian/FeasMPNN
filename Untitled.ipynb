{
 "cells": [
  {
   "cell_type": "code",
   "execution_count": 1,
   "id": "b7313b55-ee2a-4cea-b64d-60905f81c7d1",
   "metadata": {},
   "outputs": [],
   "source": [
    "%load_ext autoreload\n",
    "%autoreload 2\n",
    "%load_ext line_profiler"
   ]
  },
  {
   "cell_type": "code",
   "execution_count": 2,
   "id": "2f1f7c19-9554-43a8-a7c5-172ec0782432",
   "metadata": {},
   "outputs": [],
   "source": [
    "from scipy.sparse.linalg import svds"
   ]
  },
  {
   "cell_type": "code",
   "execution_count": 10,
   "id": "0ae68f31-be3d-4b48-8cdc-3566c19081ed",
   "metadata": {},
   "outputs": [],
   "source": [
    "from data.dataset import LPDataset\n",
    "import torch\n",
    "import numpy as np\n",
    "\n",
    "dataset = LPDataset('datasets/svd_mid_fac')"
   ]
  },
  {
   "cell_type": "code",
   "execution_count": null,
   "id": "bff0f81a-1948-4bc4-bb87-33c41c7cb1ea",
   "metadata": {},
   "outputs": [],
   "source": []
  },
  {
   "cell_type": "code",
   "execution_count": null,
   "id": "78e91224-3339-4736-94e4-a922b44e003c",
   "metadata": {},
   "outputs": [],
   "source": [
    "import torch\n",
    "import torch.nn as nn\n",
    "\n",
    "# RBF Layer\n",
    "\n",
    "class RBF(nn.Module):\n",
    "    \"\"\"\n",
    "    Transforms incoming data using a given radial basis function:\n",
    "    u_{i} = rbf(||x - c_{i}|| / s_{i})\n",
    "\n",
    "    Arguments:\n",
    "        in_features: size of each input sample\n",
    "        out_features: size of each output sample\n",
    "\n",
    "    Shape:\n",
    "        - Input: (N, in_features) where N is an arbitrary batch size\n",
    "        - Output: (N, out_features) where N is an arbitrary batch size\n",
    "\n",
    "    Attributes:\n",
    "        centres: the learnable centres of shape (out_features, in_features).\n",
    "            The values are initialised from a standard normal distribution.\n",
    "            Normalising inputs to have mean 0 and standard deviation 1 is\n",
    "            recommended.\n",
    "        \n",
    "        log_sigmas: logarithm of the learnable scaling factors of shape (out_features).\n",
    "        \n",
    "        basis_func: the radial basis function used to transform the scaled\n",
    "            distances.\n",
    "    \"\"\"\n",
    "\n",
    "    def __init__(self, in_features, out_features, basis_func):\n",
    "        super(RBF, self).__init__()\n",
    "        self.in_features = in_features\n",
    "        self.out_features = out_features\n",
    "        self.centres = nn.Parameter(torch.Tensor(out_features, in_features))\n",
    "        self.log_sigmas = nn.Parameter(torch.Tensor(out_features))\n",
    "        self.basis_func = basis_func\n",
    "        self.reset_parameters()\n",
    "\n",
    "    def reset_parameters(self):\n",
    "        nn.init.normal_(self.centres, 0, 1)\n",
    "        nn.init.constant_(self.log_sigmas, 0)\n",
    "\n",
    "    def forward(self, input):\n",
    "        size = (input.size(0), self.out_features, self.in_features)\n",
    "        x = input.unsqueeze(1).expand(size)\n",
    "        c = self.centres.unsqueeze(0).expand(size)\n",
    "        distances = (x - c).pow(2).sum(-1).pow(0.5) / torch.exp(self.log_sigmas).unsqueeze(0)\n",
    "        return self.basis_func(distances)\n",
    "\n",
    "\n",
    "\n",
    "# RBFs\n",
    "\n",
    "def gaussian(alpha):\n",
    "    phi = torch.exp(-1*alpha.pow(2))\n",
    "    return phi"
   ]
  },
  {
   "cell_type": "code",
   "execution_count": null,
   "id": "48724461-1a9f-49ba-a5d8-b131e9ba85f8",
   "metadata": {},
   "outputs": [],
   "source": []
  },
  {
   "cell_type": "code",
   "execution_count": null,
   "id": "c3be127e-2202-4ed3-b990-7bdbd44286fd",
   "metadata": {},
   "outputs": [],
   "source": []
  },
  {
   "cell_type": "code",
   "execution_count": null,
   "id": "694a47e7-2216-4070-901f-ac8a76b3c391",
   "metadata": {},
   "outputs": [],
   "source": [
    "from tqdm import tqdm"
   ]
  },
  {
   "cell_type": "code",
   "execution_count": null,
   "id": "b4115c15-0098-40c2-a440-ed442e518424",
   "metadata": {},
   "outputs": [],
   "source": [
    "new_g = []\n",
    "for g in tqdm(dataset):\n",
    "    a = SparseTensor(col=g.A_col, row=g.A_row, value=g.A_val).to_dense().numpy()\n",
    "    u, s, d = svds(a, k=5)\n",
    "    g['cons'].x = torch.from_numpy(u).float()\n",
    "    g['vals'].x = torch.from_numpy(d.T.copy()).float()\n",
    "    del g['obj'], g[('vals', 'to', 'obj')], g[('cons', 'to', 'obj')], g[('obj', 'to', 'cons')], g[('obj', 'to', 'vals')]\n",
    "    new_g.append(g)"
   ]
  },
  {
   "cell_type": "code",
   "execution_count": null,
   "id": "17a263c5-7736-4766-8171-668e3fb69d2f",
   "metadata": {},
   "outputs": [],
   "source": [
    "from torch_geometric.data.collate import collate\n",
    "\n",
    "data, slices, _ = collate(\n",
    "            new_g[0].__class__,\n",
    "            data_list=new_g,\n",
    "            increment=False,\n",
    "            add_batch=False,\n",
    "        )"
   ]
  },
  {
   "cell_type": "code",
   "execution_count": null,
   "id": "48609eb7-9460-42b7-aa1d-365ef53a7ac1",
   "metadata": {},
   "outputs": [],
   "source": [
    "torch.save((data, slices), 'data.pt')"
   ]
  },
  {
   "cell_type": "code",
   "execution_count": null,
   "id": "38853aa1-f423-4072-b94c-b1efb2d665d4",
   "metadata": {},
   "outputs": [],
   "source": []
  },
  {
   "cell_type": "code",
   "execution_count": null,
   "id": "c9d6f4cc-1a96-42ce-9ab3-dc30955fb8d8",
   "metadata": {},
   "outputs": [],
   "source": [
    "from data.dataset import LPDataset\n",
    "import torch\n",
    "import numpy as np\n",
    "\n",
    "dataset = LPDataset('datasets/svd_mid_fac')"
   ]
  },
  {
   "cell_type": "code",
   "execution_count": 11,
   "id": "7826572a-4f97-4090-9477-c90522f9e9c0",
   "metadata": {},
   "outputs": [],
   "source": [
    "g = dataset[1]"
   ]
  },
  {
   "cell_type": "code",
   "execution_count": null,
   "id": "9e7c0da9-816f-4894-b2f5-f9443983a275",
   "metadata": {},
   "outputs": [],
   "source": [
    "a = SparseTensor(col=g.A_col, row=g.A_row, value=g.A_val).to_dense()"
   ]
  },
  {
   "cell_type": "code",
   "execution_count": null,
   "id": "7b99d8e8-45ad-4be2-b36a-dccd305b29c4",
   "metadata": {},
   "outputs": [],
   "source": [
    "a.unique()"
   ]
  },
  {
   "cell_type": "code",
   "execution_count": null,
   "id": "dc45bb0d-071f-4c57-9e8b-b8fb5d997aa6",
   "metadata": {},
   "outputs": [],
   "source": [
    "g.c"
   ]
  },
  {
   "cell_type": "code",
   "execution_count": null,
   "id": "14dfcb1e-81f0-4434-b422-3d9cf6e7aa12",
   "metadata": {},
   "outputs": [],
   "source": []
  },
  {
   "cell_type": "code",
   "execution_count": null,
   "id": "ad5a5b57-5179-4c56-b6ab-0c7bcc024a3d",
   "metadata": {},
   "outputs": [],
   "source": []
  },
  {
   "cell_type": "code",
   "execution_count": null,
   "id": "d191cbc7-d4f1-431b-8a56-6acab85031cb",
   "metadata": {},
   "outputs": [],
   "source": [
    "device = 'cuda' if torch.cuda.is_available() else 'cpu'"
   ]
  },
  {
   "cell_type": "code",
   "execution_count": null,
   "id": "c1c0b44c-39c7-4cca-a6a7-46b31b566285",
   "metadata": {},
   "outputs": [],
   "source": [
    "from models.hetero_gnn import TripartiteHeteroGNN\n",
    "from models.cycle_model import CycleGNN"
   ]
  },
  {
   "cell_type": "code",
   "execution_count": null,
   "id": "2acd8cef-69a7-4a85-9103-e729a0ac3365",
   "metadata": {},
   "outputs": [],
   "source": [
    "gnn = TripartiteHeteroGNN(conv='gcnconv',\n",
    "                            hid_dim=256,\n",
    "                            num_conv_layers=4,\n",
    "                            num_pred_layers=2,\n",
    "                            num_mlp_layers=2,\n",
    "                            dropout=0.,\n",
    "                            norm='graphnorm',\n",
    "                            use_res=False,\n",
    "                            conv_sequence='cov').to(device)"
   ]
  },
  {
   "cell_type": "code",
   "execution_count": null,
   "id": "ec5a7633-4a07-4959-a723-1ed4e5fc954c",
   "metadata": {},
   "outputs": [],
   "source": [
    "model = CycleGNN(8, 32, gnn).to(device)"
   ]
  },
  {
   "cell_type": "code",
   "execution_count": null,
   "id": "e2e0641e-f665-4e3a-9db8-0ac0c01b95da",
   "metadata": {},
   "outputs": [],
   "source": []
  },
  {
   "cell_type": "code",
   "execution_count": null,
   "id": "3c908281-fa3e-4d16-b239-c9439f6d9faf",
   "metadata": {},
   "outputs": [],
   "source": [
    "from data.collate_func import collate_fn_lp"
   ]
  },
  {
   "cell_type": "code",
   "execution_count": null,
   "id": "b9676554-856d-49bf-95b2-53742fdfaacf",
   "metadata": {},
   "outputs": [],
   "source": [
    "from torch_sparse import SparseTensor"
   ]
  },
  {
   "cell_type": "code",
   "execution_count": null,
   "id": "51fc4be7-3be4-40da-a9b4-4e060792b3c4",
   "metadata": {},
   "outputs": [],
   "source": [
    "g = dataset[1]\n",
    "batch = collate_fn_lp([g], device)\n",
    "batch = batch.to(device)\n",
    "_ = gnn(batch)"
   ]
  },
  {
   "cell_type": "code",
   "execution_count": null,
   "id": "57859a98-d380-465c-ae56-5c3b5439b9d2",
   "metadata": {},
   "outputs": [],
   "source": []
  },
  {
   "cell_type": "code",
   "execution_count": null,
   "id": "42f59a70-c7d1-4a94-833e-3ff71d1a8949",
   "metadata": {},
   "outputs": [],
   "source": [
    "A = SparseTensor(row=g.A_row,\n",
    "                 col=g.A_col,\n",
    "                 value=g.A_val, is_sorted=True,\n",
    "                 trust_data=True).to_dense()\n",
    "b = g.b"
   ]
  },
  {
   "cell_type": "code",
   "execution_count": null,
   "id": "cbb03971-b680-4eba-891b-682011625a1b",
   "metadata": {},
   "outputs": [],
   "source": [
    "(A @ batch.x_start - b).abs().max()"
   ]
  },
  {
   "cell_type": "code",
   "execution_count": null,
   "id": "e989a124-a8e3-49bb-8907-6e6d5f597b2e",
   "metadata": {},
   "outputs": [],
   "source": []
  },
  {
   "cell_type": "code",
   "execution_count": null,
   "id": "32934581-b321-4ac5-bb80-0adf170ea398",
   "metadata": {},
   "outputs": [],
   "source": [
    "model.load_state_dict(torch.load('best_model.pt', map_location=device))\n",
    "model.eval()"
   ]
  },
  {
   "cell_type": "code",
   "execution_count": null,
   "id": "c93b9b4a-162c-4f07-baca-ab602bcdc6c2",
   "metadata": {},
   "outputs": [],
   "source": []
  },
  {
   "cell_type": "code",
   "execution_count": null,
   "id": "496ea812-2b23-4bb1-8741-b771712e2a43",
   "metadata": {},
   "outputs": [],
   "source": [
    "xs = model.evaluation(batch)"
   ]
  },
  {
   "cell_type": "code",
   "execution_count": null,
   "id": "f2926b05-dd9f-4280-854f-9df4efe4a909",
   "metadata": {},
   "outputs": [],
   "source": []
  }
 ],
 "metadata": {
  "kernelspec": {
   "display_name": "Python 3 (ipykernel)",
   "language": "python",
   "name": "python3"
  },
  "language_info": {
   "codemirror_mode": {
    "name": "ipython",
    "version": 3
   },
   "file_extension": ".py",
   "mimetype": "text/x-python",
   "name": "python",
   "nbconvert_exporter": "python",
   "pygments_lexer": "ipython3",
   "version": "3.10.12"
  }
 },
 "nbformat": 4,
 "nbformat_minor": 5
}
