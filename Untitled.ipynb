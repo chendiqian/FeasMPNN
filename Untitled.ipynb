{
 "cells": [
  {
   "cell_type": "code",
   "execution_count": 1,
   "id": "b7313b55-ee2a-4cea-b64d-60905f81c7d1",
   "metadata": {},
   "outputs": [],
   "source": [
    "%load_ext autoreload\n",
    "%autoreload 2\n",
    "%load_ext line_profiler"
   ]
  },
  {
   "cell_type": "code",
   "execution_count": 92,
   "id": "0ae68f31-be3d-4b48-8cdc-3566c19081ed",
   "metadata": {},
   "outputs": [],
   "source": [
    "from data.dataset import LPDataset\n",
    "import torch\n",
    "import numpy as np\n",
    "from scipy.sparse.linalg import svds\n",
    "from tqdm import tqdm\n",
    "from torch_sparse import SparseTensor\n",
    "\n",
    "dataset = LPDataset('datasets/setc_eq')"
   ]
  },
  {
   "cell_type": "code",
   "outputs": [],
   "source": [],
   "metadata": {
    "collapsed": false
   },
   "id": "f021d3a530e26ae4"
  },
  {
   "cell_type": "code",
   "outputs": [],
   "source": [],
   "metadata": {
    "collapsed": false
   },
   "id": "5b63c8f237ac6d1c"
  },
  {
   "cell_type": "code",
   "outputs": [],
   "source": [
    "new_g = []\n",
    "for g in tqdm(dataset):\n",
    "    a = SparseTensor(col=g.A_col, row=g.A_row, value=g.A_val).to_dense().numpy()\n",
    "    u, s, d = svds(a, k=5)\n",
    "    g['cons'].x = torch.from_numpy(u).float()\n",
    "    g['vals'].x = torch.from_numpy(d.T.copy()).float()\n",
    "    del g['obj'], g[('vals', 'to', 'obj')], g[('cons', 'to', 'obj')], g[('obj', 'to', 'cons')], g[('obj', 'to', 'vals')]\n",
    "    new_g.append(g)\n"
   ],
   "metadata": {
    "collapsed": false
   },
   "id": "6605633b428a08be"
  },
  {
   "cell_type": "code",
   "execution_count": null,
   "id": "bff0f81a-1948-4bc4-bb87-33c41c7cb1ea",
   "metadata": {},
   "outputs": [],
   "source": [
    "from torch_geometric.data.collate import collate\n",
    "\n",
    "data, slices, _ = collate(\n",
    "            new_g[0].__class__,\n",
    "            data_list=new_g,\n",
    "            increment=False,\n",
    "            add_batch=False,\n",
    "        )"
   ]
  },
  {
   "cell_type": "code",
   "outputs": [],
   "source": [
    "torch.save((data, slices), 'data.pt')"
   ],
   "metadata": {
    "collapsed": false
   },
   "id": "89e821f35554f33a"
  },
  {
   "cell_type": "code",
   "outputs": [],
   "source": [],
   "metadata": {
    "collapsed": false
   },
   "id": "6f41a6c7f6ac4f00"
  },
  {
   "cell_type": "code",
   "execution_count": 60,
   "id": "b12f03f4-eb24-4924-87b4-e24de446e093",
   "metadata": {},
   "outputs": [],
   "source": [
    "ds = torch.load('/Users/qianchendi/Downloads/large_setc/processed/batch0.pt')"
   ]
  },
  {
   "cell_type": "code",
   "execution_count": 93,
   "id": "e357ee27-797e-4954-a159-dce99937af00",
   "metadata": {},
   "outputs": [],
   "source": [
    "g = dataset[0]"
   ]
  },
  {
   "cell_type": "code",
   "execution_count": 94,
   "id": "8a5e99cf-51e9-4a2c-b225-114137938a2a",
   "metadata": {},
   "outputs": [
    {
     "data": {
      "text/plain": [
       "HeteroData(\n",
       "  x_solution=[46],\n",
       "  x_feasible=[46],\n",
       "  obj_solution=[1],\n",
       "  c=[46],\n",
       "  b=[31],\n",
       "  A_row=[82],\n",
       "  A_col=[82],\n",
       "  A_val=[82],\n",
       "  proj_matrix=[2116],\n",
       "  cons={ x=[31, 2] },\n",
       "  vals={ x=[46, 2] },\n",
       "  obj={ x=[1, 2] },\n",
       "  (cons, to, vals)={\n",
       "    edge_index=[2, 82],\n",
       "    edge_attr=[82, 1],\n",
       "  },\n",
       "  (vals, to, obj)={\n",
       "    edge_index=[2, 46],\n",
       "    edge_attr=[46, 1],\n",
       "  },\n",
       "  (cons, to, obj)={\n",
       "    edge_index=[2, 31],\n",
       "    edge_attr=[31, 1],\n",
       "  }\n",
       ")"
      ]
     },
     "execution_count": 94,
     "metadata": {},
     "output_type": "execute_result"
    }
   ],
   "source": [
    "g"
   ]
  },
  {
   "cell_type": "code",
   "execution_count": null,
   "id": "69df2527-8d3f-4df7-9fc7-c87951f6bf97",
   "metadata": {},
   "outputs": [],
   "source": []
  },
  {
   "cell_type": "code",
   "execution_count": 112,
   "id": "c03cf8c3-17a7-4619-ab21-e035bfed6509",
   "metadata": {},
   "outputs": [],
   "source": [
    "vals = g['cons', 'to', 'vals'].edge_attr.squeeze()\n",
    "vals[vals != 0.] = 1."
   ]
  },
  {
   "cell_type": "code",
   "execution_count": 209,
   "id": "4818daf1-f174-4770-8d79-1f11b4519ca9",
   "metadata": {},
   "outputs": [],
   "source": [
    "A = SparseTensor(row=g['cons', 'to', 'vals'].edge_index[0],\n",
    "                         col=g['cons', 'to', 'vals'].edge_index[1],\n",
    "                         value=vals,\n",
    "                         is_sorted=True, trust_data=True)"
   ]
  },
  {
   "cell_type": "code",
   "execution_count": null,
   "id": "f110c0b9-7674-4ffa-a8f3-f9c8d8d7bf2b",
   "metadata": {},
   "outputs": [],
   "source": []
  },
  {
   "cell_type": "code",
   "execution_count": 89,
   "id": "d191cbc7-d4f1-431b-8a56-6acab85031cb",
   "metadata": {},
   "outputs": [],
   "source": [
    "device = 'cuda' if torch.cuda.is_available() else 'cpu'"
   ]
  },
  {
   "cell_type": "code",
   "execution_count": 81,
   "id": "c1c0b44c-39c7-4cca-a6a7-46b31b566285",
   "metadata": {},
   "outputs": [],
   "source": [
    "from models.hetero_gnn import BipartiteHeteroGNN\n",
    "from models.cycle_model import CycleGNN"
   ]
  },
  {
   "cell_type": "code",
   "execution_count": 98,
   "id": "2acd8cef-69a7-4a85-9103-e729a0ac3365",
   "metadata": {},
   "outputs": [],
   "source": [
    "gnn = BipartiteHeteroGNN(conv='gcnconv',\n",
    "                         hid_dim=128,\n",
    "                         num_conv_layers=18,\n",
    "                         num_pred_layers=2,\n",
    "                         num_mlp_layers=2,\n",
    "                         norm='graphnorm')"
   ]
  },
  {
   "cell_type": "code",
   "execution_count": null,
   "id": "ec5a7633-4a07-4959-a723-1ed4e5fc954c",
   "metadata": {},
   "outputs": [],
   "source": [
    "model = CycleGNN(8, 32, gnn).to(device)"
   ]
  },
  {
   "cell_type": "code",
   "execution_count": null,
   "id": "e2e0641e-f665-4e3a-9db8-0ac0c01b95da",
   "metadata": {},
   "outputs": [],
   "source": []
  },
  {
   "cell_type": "code",
   "execution_count": 86,
   "id": "3c908281-fa3e-4d16-b239-c9439f6d9faf",
   "metadata": {},
   "outputs": [],
   "source": [
    "from data.collate_func import collate_fn_lp_bi"
   ]
  },
  {
   "cell_type": "code",
   "execution_count": 95,
   "id": "51fc4be7-3be4-40da-a9b4-4e060792b3c4",
   "metadata": {},
   "outputs": [],
   "source": [
    "g = dataset[1]\n",
    "batch = collate_fn_lp_bi([g], device)\n",
    "batch = batch.to(device)\n",
    "_ = gnn(batch)"
   ]
  },
  {
   "cell_type": "code",
   "execution_count": 99,
   "id": "368cf23c-0590-4b78-9661-ecc038fa3981",
   "metadata": {},
   "outputs": [
    {
     "data": {
      "text/plain": [
       "tensor([ 0.0671,  0.1391,  0.0421,  0.0383,  0.1096,  0.1109,  0.1260,  0.0447,\n",
       "         0.0438,  0.0730,  0.2452,  0.0170,  0.1443,  0.0845,  0.0517, -0.0920,\n",
       "        -0.0650, -0.0288, -0.0592, -0.0203, -0.0484, -0.0271, -0.0754, -0.0108,\n",
       "        -0.0155, -0.0404, -0.0895, -0.0228,  0.0087, -0.0519, -0.0470,  0.0087,\n",
       "         0.0040, -0.0273,  0.0062,  0.0126,  0.0367,  0.0381,  0.0300, -0.0236,\n",
       "        -0.0520, -0.0261,  0.0113, -0.0321,  0.0005,  0.0310,  0.0426,  0.0098],\n",
       "       grad_fn=<SqueezeBackward0>)"
      ]
     },
     "execution_count": 99,
     "metadata": {},
     "output_type": "execute_result"
    }
   ],
   "source": [
    "gnn(batch)"
   ]
  },
  {
   "cell_type": "code",
   "execution_count": null,
   "id": "c48f223c-38e9-4d93-9387-5639e1f444e4",
   "metadata": {},
   "outputs": [],
   "source": []
  },
  {
   "cell_type": "code",
   "execution_count": 100,
   "id": "48e7580d-814b-4a5d-ab4d-26bbbd640683",
   "metadata": {},
   "outputs": [
    {
     "data": {
      "text/plain": [
       "tensor([[-0.1916, -0.2368, -0.3732,  ...,  0.4810, -0.0725, -0.0372],\n",
       "        [-0.1953, -0.2352, -0.3730,  ...,  0.4907, -0.0721, -0.0389],\n",
       "        [-0.0693, -0.2285, -0.3954,  ...,  0.2495, -0.0195,  0.0701],\n",
       "        ...,\n",
       "        [-0.0274, -0.2057, -0.3914,  ...,  0.2352, -0.0187,  0.0756],\n",
       "        [-0.0274, -0.2057, -0.3914,  ...,  0.2352, -0.0187,  0.0756],\n",
       "        [-0.0274, -0.2057, -0.3914,  ...,  0.2352, -0.0187,  0.0756]],\n",
       "       grad_fn=<AddmmBackward0>)"
      ]
     },
     "execution_count": 100,
     "metadata": {},
     "output_type": "execute_result"
    }
   ],
   "source": [
    "gnn.obj_encoder(g.c[:, None])"
   ]
  },
  {
   "cell_type": "code",
   "execution_count": null,
   "id": "c7cc5f14-ac34-4de0-9121-4bfd5cc7bf21",
   "metadata": {},
   "outputs": [],
   "source": []
  },
  {
   "cell_type": "code",
   "execution_count": null,
   "id": "365fdf93-12b7-42da-89be-29c8d76f537b",
   "metadata": {},
   "outputs": [],
   "source": []
  },
  {
   "cell_type": "code",
   "execution_count": null,
   "id": "76260438-cc50-42c6-b544-2203fa827a7c",
   "metadata": {},
   "outputs": [],
   "source": []
  },
  {
   "cell_type": "code",
   "execution_count": null,
   "id": "cbb03971-b680-4eba-891b-682011625a1b",
   "metadata": {},
   "outputs": [],
   "source": [
    "(A @ batch.x_start - b).abs().max()"
   ]
  },
  {
   "cell_type": "code",
   "execution_count": null,
   "id": "e989a124-a8e3-49bb-8907-6e6d5f597b2e",
   "metadata": {},
   "outputs": [],
   "source": []
  },
  {
   "cell_type": "code",
   "execution_count": null,
   "id": "32934581-b321-4ac5-bb80-0adf170ea398",
   "metadata": {},
   "outputs": [],
   "source": [
    "model.load_state_dict(torch.load('best_model.pt', map_location=device))\n",
    "model.eval()"
   ]
  },
  {
   "cell_type": "code",
   "execution_count": null,
   "id": "c93b9b4a-162c-4f07-baca-ab602bcdc6c2",
   "metadata": {},
   "outputs": [],
   "source": []
  },
  {
   "cell_type": "code",
   "execution_count": null,
   "id": "496ea812-2b23-4bb1-8741-b771712e2a43",
   "metadata": {},
   "outputs": [],
   "source": [
    "xs = model.evaluation(batch)"
   ]
  },
  {
   "cell_type": "code",
   "execution_count": null,
   "id": "f2926b05-dd9f-4280-854f-9df4efe4a909",
   "metadata": {},
   "outputs": [],
   "source": []
  }
 ],
 "metadata": {
  "kernelspec": {
   "display_name": "Python 3 (ipykernel)",
   "language": "python",
   "name": "python3"
  },
  "language_info": {
   "codemirror_mode": {
    "name": "ipython",
    "version": 3
   },
   "file_extension": ".py",
   "mimetype": "text/x-python",
   "name": "python",
   "nbconvert_exporter": "python",
   "pygments_lexer": "ipython3",
   "version": "3.10.12"
  }
 },
 "nbformat": 4,
 "nbformat_minor": 5
}
