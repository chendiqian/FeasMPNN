{
 "cells": [
  {
   "cell_type": "code",
   "execution_count": 1,
   "id": "b7313b55-ee2a-4cea-b64d-60905f81c7d1",
   "metadata": {},
   "outputs": [],
   "source": [
    "%load_ext autoreload\n",
    "%autoreload 2\n",
    "%load_ext line_profiler"
   ]
  },
  {
   "cell_type": "code",
   "execution_count": 2,
   "id": "3532ded9-fc27-4e41-b241-825c5a3f1f81",
   "metadata": {},
   "outputs": [],
   "source": [
    "import numpy as np\n",
    "import torch"
   ]
  },
  {
   "cell_type": "code",
   "execution_count": 3,
   "id": "c9d6f4cc-1a96-42ce-9ab3-dc30955fb8d8",
   "metadata": {},
   "outputs": [],
   "source": [
    "from data.dataset import LPDataset\n",
    "\n",
    "dataset = LPDataset('./mis')\n",
    "g = dataset[0]"
   ]
  },
  {
   "cell_type": "code",
   "execution_count": 4,
   "id": "d191cbc7-d4f1-431b-8a56-6acab85031cb",
   "metadata": {},
   "outputs": [],
   "source": [
    "device = 'cuda' if torch.cuda.is_available() else 'cpu'"
   ]
  },
  {
   "cell_type": "code",
   "execution_count": 27,
   "id": "c1c0b44c-39c7-4cca-a6a7-46b31b566285",
   "metadata": {},
   "outputs": [],
   "source": [
    "from models.hetero_gnn import TripartiteHeteroGNN"
   ]
  },
  {
   "cell_type": "code",
   "execution_count": 28,
   "id": "2acd8cef-69a7-4a85-9103-e729a0ac3365",
   "metadata": {},
   "outputs": [],
   "source": [
    "model = TripartiteHeteroGNN(conv='gcnconv',\n",
    "                            hid_dim=128,\n",
    "                            num_conv_layers=4,\n",
    "                            num_pred_layers=2,\n",
    "                            num_mlp_layers=2,\n",
    "                            dropout=0.,\n",
    "                            norm='graphnorm',\n",
    "                            use_res=False,\n",
    "                            conv_sequence='cov').to(device)"
   ]
  },
  {
   "cell_type": "code",
   "execution_count": 29,
   "id": "3c908281-fa3e-4d16-b239-c9439f6d9faf",
   "metadata": {},
   "outputs": [],
   "source": [
    "from data.utils import collate_fn_lp"
   ]
  },
  {
   "cell_type": "code",
   "execution_count": 34,
   "id": "537e6e65-ecc0-496f-98df-553ee5c2fd87",
   "metadata": {},
   "outputs": [],
   "source": [
    "batch = collate_fn_lp([g])\n",
    "\n",
    "batch.x_start = torch.rand(batch.x_dict['vals'].shape[0])\n",
    "batch.l_start = torch.rand(batch.x_dict['cons'].shape[0])\n",
    "batch.s_start = torch.rand(batch.x_dict['vals'].shape[0])\n",
    "\n",
    "batch = batch.to(device)\n",
    "_ = model(batch)"
   ]
  },
  {
   "cell_type": "code",
   "execution_count": null,
   "id": "0bbb808f-da04-49ad-b495-67c548328394",
   "metadata": {},
   "outputs": [],
   "source": []
  },
  {
   "cell_type": "code",
   "execution_count": 33,
   "id": "32934581-b321-4ac5-bb80-0adf170ea398",
   "metadata": {},
   "outputs": [
    {
     "data": {
      "text/plain": [
       "TripartiteHeteroGNN(\n",
       "  (encoder): ModuleDict(\n",
       "    (vals): MLP(-1, 128, 128)\n",
       "    (slack): MLP(-1, 128, 128)\n",
       "    (cons): MLP(-1, 128, 128)\n",
       "    (obj): MLP(-1, 128, 128)\n",
       "  )\n",
       "  (start_pos_encoder): ModuleDict(\n",
       "    (x): MLP(-1, 128, 128)\n",
       "    (l): MLP(-1, 128, 128)\n",
       "    (s): MLP(-1, 128, 128)\n",
       "  )\n",
       "  (gcns): ModuleList(\n",
       "    (0-3): 4 x HeteroConv(num_relations=10)\n",
       "  )\n",
       "  (pred_x): MLP(-1, 128, 1)\n",
       "  (pred_l): MLP(-1, 128, 1)\n",
       "  (pred_s): MLP(-1, 128, 1)\n",
       ")"
      ]
     },
     "execution_count": 33,
     "metadata": {},
     "output_type": "execute_result"
    }
   ],
   "source": [
    "model.load_state_dict(torch.load('best_model.pt', map_location=device))\n",
    "model.eval()"
   ]
  },
  {
   "cell_type": "code",
   "execution_count": null,
   "id": "129c6eb8-b7e3-40d3-b007-bf4c6937ca27",
   "metadata": {},
   "outputs": [],
   "source": []
  },
  {
   "cell_type": "code",
   "execution_count": 37,
   "id": "73ad83fc-f706-4293-ba0c-161eb0e5a55c",
   "metadata": {},
   "outputs": [],
   "source": [
    "from torch_sparse import SparseTensor\n",
    "\n",
    "A = SparseTensor(row=g.A_row,\n",
    "                 col=g.A_col,\n",
    "                 value=g.A_val, is_sorted=True,\n",
    "                 trust_data=True).to_dense().numpy()\n",
    "b = g.b.numpy()\n",
    "c = g.c.numpy()"
   ]
  },
  {
   "cell_type": "code",
   "execution_count": 77,
   "id": "496ea812-2b23-4bb1-8741-b771712e2a43",
   "metadata": {},
   "outputs": [],
   "source": [
    "sol = ipm_overleaf(c, A, b, 'rand', 'cho', 1)\n",
    "x, l, s = sol['x'], sol['lambd'], sol['s']\n",
    "\n",
    "batch.x_start = torch.from_numpy(x).to(torch.float).to(device)\n",
    "batch.l_start = torch.from_numpy(l).to(torch.float).to(device)\n",
    "batch.s_start = torch.from_numpy(s).to(torch.float).to(device)\n",
    "\n",
    "# direction\n",
    "x_direction = batch.x_solution - batch.x_start\n",
    "batch.x_label = x_direction / x_direction.abs().max() + 1.e-7\n",
    "l_direction = batch.l_solution - batch.l_start\n",
    "batch.l_label = l_direction / l_direction.abs().max() + 1.e-7\n",
    "s_direction = batch.s_solution - batch.s_start\n",
    "batch.s_label = s_direction / s_direction.abs().max() + 1.e-7"
   ]
  },
  {
   "cell_type": "code",
   "execution_count": 78,
   "id": "1c8c07bc-d5e8-49df-bb7f-499636339406",
   "metadata": {},
   "outputs": [],
   "source": [
    "grad_x, grad_lambda, grad_s = model(batch)"
   ]
  },
  {
   "cell_type": "code",
   "execution_count": 79,
   "id": "8ef2ce67-b8c2-4612-b92a-e2f0d2d5789d",
   "metadata": {},
   "outputs": [],
   "source": [
    "from trainer import Trainer"
   ]
  },
  {
   "cell_type": "code",
   "execution_count": 80,
   "id": "9911c1f6-f579-4526-ab2f-24e618567ffc",
   "metadata": {},
   "outputs": [],
   "source": [
    "trainer = Trainer(device, 'l2', 1)"
   ]
  },
  {
   "cell_type": "code",
   "execution_count": 82,
   "id": "a7959ee5-525c-49cb-8034-421ec52af453",
   "metadata": {},
   "outputs": [
    {
     "data": {
      "text/plain": [
       "(tensor(0.0459, device='cuda:0', grad_fn=<MeanBackward0>),\n",
       " tensor(0.1091, device='cuda:0'))"
      ]
     },
     "execution_count": 82,
     "metadata": {},
     "output_type": "execute_result"
    }
   ],
   "source": [
    "trainer.get_loss(grad_x, batch.x_label, batch['vals'].batch)"
   ]
  },
  {
   "cell_type": "code",
   "execution_count": 84,
   "id": "6adc2da2-df72-451f-83f0-253a7873c05e",
   "metadata": {},
   "outputs": [
    {
     "data": {
      "text/plain": [
       "(tensor(0.1019, device='cuda:0', grad_fn=<MeanBackward0>),\n",
       " tensor(0.1817, device='cuda:0'))"
      ]
     },
     "execution_count": 84,
     "metadata": {},
     "output_type": "execute_result"
    }
   ],
   "source": [
    "trainer.get_loss(grad_lambda, batch.l_label, batch['cons'].batch)"
   ]
  },
  {
   "cell_type": "code",
   "execution_count": 85,
   "id": "3e60ea37-63de-46ac-9a94-183320a70b01",
   "metadata": {},
   "outputs": [
    {
     "data": {
      "text/plain": [
       "(tensor(0.0383, device='cuda:0', grad_fn=<MeanBackward0>),\n",
       " tensor(0.0786, device='cuda:0'))"
      ]
     },
     "execution_count": 85,
     "metadata": {},
     "output_type": "execute_result"
    }
   ],
   "source": [
    "trainer.get_loss(grad_s, batch.s_label, batch['vals'].batch)"
   ]
  },
  {
   "cell_type": "code",
   "execution_count": null,
   "id": "b0bc2d8f-bd05-45dc-b327-9059634a0a89",
   "metadata": {},
   "outputs": [],
   "source": []
  },
  {
   "cell_type": "code",
   "execution_count": null,
   "id": "86a557ad-d0f4-44a0-9648-d90e3c7baed0",
   "metadata": {},
   "outputs": [],
   "source": []
  },
  {
   "cell_type": "code",
   "execution_count": 69,
   "id": "d701f174-fa4a-477b-ac9c-c0b9420c40aa",
   "metadata": {},
   "outputs": [],
   "source": [
    "from solver.customized_solver import smart_start, mu, ipm_overleaf"
   ]
  },
  {
   "cell_type": "code",
   "execution_count": 75,
   "id": "e5ed25e3-b7ca-4728-9bd9-59ee56079739",
   "metadata": {},
   "outputs": [
    {
     "name": "stdout",
     "output_type": "stream",
     "text": [
      "-10.881860935684543\n",
      "-11.434326656252395\n",
      "-11.517511233311396\n",
      "-11.517511231817494\n",
      "-11.517511231817494\n",
      "-11.517511231817494\n",
      "-11.517511231817494\n",
      "-11.517511231817494\n",
      "-11.517511231817494\n",
      "-11.517511231817494\n",
      "-11.517511231817494\n",
      "-11.517511231817494\n",
      "-11.517511231817494\n",
      "-11.517511231817494\n",
      "-11.517511231817494\n",
      "-11.517511231817494\n",
      "-11.517511231817494\n",
      "-11.517511231817494\n",
      "-11.517511231817494\n",
      "-11.517511231817494\n"
     ]
    }
   ],
   "source": [
    "sol = ipm_overleaf(c, A, b, 'rand', 'cho', 1)\n",
    "x, l, s = sol['x'], sol['lambd'], sol['s']\n",
    "\n",
    "pbar = range(20)\n",
    "for iteration in pbar:\n",
    "    batch.x_start = torch.from_numpy(x).to(torch.float).to(device)\n",
    "    batch.l_start = torch.from_numpy(l).to(torch.float).to(device)\n",
    "    batch.s_start = torch.from_numpy(s).to(torch.float).to(device)\n",
    "\n",
    "    with torch.no_grad():\n",
    "        grad_x, grad_lambda, grad_s = model(batch)\n",
    "    grad_x = grad_x.cpu().numpy()\n",
    "    grad_lambda = grad_lambda.cpu().numpy()\n",
    "    grad_s = grad_s.cpu().numpy()\n",
    "\n",
    "    alpha = 1.\n",
    "    gradx_mask = grad_x < 0\n",
    "    if np.any(gradx_mask):\n",
    "        alpha = min(alpha, (-x[gradx_mask] / grad_x[gradx_mask]).min())\n",
    "    grads_mask = grad_s < 0\n",
    "    if np.any(grads_mask):\n",
    "        alpha = min(alpha, (-s[grads_mask] / grad_s[grads_mask]).min())\n",
    "    alpha_l = alpha_s = alpha_x = alpha\n",
    "\n",
    "    x = x + alpha_x * grad_x\n",
    "    l = l + alpha_l * grad_lambda\n",
    "    s = s + alpha_s * grad_s\n",
    "\n",
    "    print(c.dot(x))"
   ]
  },
  {
   "cell_type": "code",
   "execution_count": null,
   "id": "9f568d48-fd8a-4eac-b0ac-92df06465fb6",
   "metadata": {},
   "outputs": [],
   "source": []
  },
  {
   "cell_type": "code",
   "execution_count": 76,
   "id": "401c400d-3a68-442a-8efc-8d15aef1a282",
   "metadata": {},
   "outputs": [
    {
     "name": "stdout",
     "output_type": "stream",
     "text": [
      "-7.310022502596555\n",
      "-6.675549841136554\n",
      "-6.347937096078859\n",
      "-6.971093664843341\n",
      "-7.238996728733692\n",
      "-7.296180736528512\n",
      "-7.319735853176443\n",
      "-7.32925907873007\n",
      "-7.332097043511313\n",
      "-7.332961337408215\n",
      "-7.333221624327923\n",
      "-7.333299810510066\n",
      "-7.3333232756146\n",
      "-7.33333031576442\n",
      "-7.333332427751247\n",
      "-7.3333330649950526\n",
      "-7.333333249535123\n",
      "-7.333333306987967\n",
      "-7.333333325367692\n",
      "-7.333333335584685\n"
     ]
    }
   ],
   "source": [
    "import warnings\n",
    "from collections import namedtuple\n",
    "\n",
    "import numpy as np\n",
    "from scipy.linalg import LinAlgError\n",
    "from scipy.linalg import cho_factor, cho_solve, lstsq\n",
    "from scipy.sparse import spmatrix\n",
    "from scipy.sparse.linalg import cg as sp_cg\n",
    "\n",
    "sigma = 0.3\n",
    "lin_solver = 'cho'\n",
    "\n",
    "x, lambd, s = smart_start(A, b, c, 'rand')\n",
    "_mu = mu(x, s)\n",
    "\n",
    "pbar = range(20)\n",
    "for iteration in pbar:\n",
    "    try:\n",
    "        s_inv = (s + 1.e-7) ** -1\n",
    "        xs_inv = x * s_inv\n",
    "        if isinstance(A, spmatrix):\n",
    "            A_XS_inv = A.multiply(xs_inv[None])\n",
    "        else:\n",
    "            A_XS_inv = A * xs_inv[None]\n",
    "        M = A_XS_inv @ A.transpose()\n",
    "        rhs = b - A @ x + A_XS_inv @ c - M @ lambd - A @ s_inv * sigma * _mu\n",
    "\n",
    "        # solve M @ x = rhs\n",
    "        if isinstance(M, spmatrix):\n",
    "            grad_lambda = sp_cg(M, rhs)[0]\n",
    "        else:\n",
    "            if lin_solver == 'cho':\n",
    "                c_and_lower = cho_factor(M)\n",
    "                grad_lambda = cho_solve(c_and_lower, rhs)\n",
    "            elif lin_solver == 'lstsq':\n",
    "                grad_lambda = lstsq(M, rhs)[0]\n",
    "            else:\n",
    "                raise NotImplementedError\n",
    "\n",
    "        AT_lambda_plut_dlambda = A.transpose() @ (lambd + grad_lambda)\n",
    "        grad_s = - AT_lambda_plut_dlambda - s + c\n",
    "        grad_x = s_inv * sigma * _mu + xs_inv * (AT_lambda_plut_dlambda - c)\n",
    "\n",
    "        alpha = 1.\n",
    "        gradx_mask = grad_x < 0\n",
    "        if np.any(gradx_mask):\n",
    "            alpha = min(alpha, (-x[gradx_mask] / grad_x[gradx_mask]).min())\n",
    "        grads_mask = grad_s < 0\n",
    "        if np.any(grads_mask):\n",
    "            alpha = min(alpha, (-s[grads_mask] / grad_s[grads_mask]).min())\n",
    "        alpha_l = alpha_s = alpha_x = alpha\n",
    "\n",
    "        x = x + alpha_x * grad_x\n",
    "        lambd = lambd + alpha_l * grad_lambda\n",
    "        s = s + alpha_s * grad_s\n",
    "        _mu = mu(x, s)\n",
    "\n",
    "        print(c.dot(x))\n",
    "\n",
    "    except (LinAlgError, FloatingPointError, ValueError, ZeroDivisionError):\n",
    "        warnings.warn(f'Instability occured at iter {iteration}, turning to lstsq')\n",
    "        lin_solver = 'lstsq'"
   ]
  },
  {
   "cell_type": "code",
   "execution_count": null,
   "id": "eedea748-95fe-4f3f-96ee-2534c48274e2",
   "metadata": {},
   "outputs": [],
   "source": []
  }
 ],
 "metadata": {
  "kernelspec": {
   "display_name": "Python 3 (ipykernel)",
   "language": "python",
   "name": "python3"
  },
  "language_info": {
   "codemirror_mode": {
    "name": "ipython",
    "version": 3
   },
   "file_extension": ".py",
   "mimetype": "text/x-python",
   "name": "python",
   "nbconvert_exporter": "python",
   "pygments_lexer": "ipython3",
   "version": "3.10.13"
  }
 },
 "nbformat": 4,
 "nbformat_minor": 5
}
