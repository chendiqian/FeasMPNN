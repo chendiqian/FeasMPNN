{
 "cells": [
  {
   "cell_type": "code",
   "execution_count": 1,
   "id": "b7313b55-ee2a-4cea-b64d-60905f81c7d1",
   "metadata": {},
   "outputs": [],
   "source": [
    "%load_ext autoreload\n",
    "%autoreload 2\n",
    "%load_ext line_profiler"
   ]
  },
  {
   "cell_type": "code",
   "execution_count": 112,
   "id": "366ca869-8363-451e-89c5-3f211ca395be",
   "metadata": {},
   "outputs": [],
   "source": [
    "from scipy.linalg import pinv, null_space"
   ]
  },
  {
   "cell_type": "code",
   "execution_count": 137,
   "id": "b315508e-d3b0-4f09-8558-f31b2dca5573",
   "metadata": {},
   "outputs": [],
   "source": [
    "A = np.random.randn(80, 100)\n",
    "A[A < 0.6] = 0.\n",
    "x = np.random.rand(A.shape[1])"
   ]
  },
  {
   "cell_type": "code",
   "execution_count": 144,
   "id": "0ef1c80d-3e96-46a0-b689-13ab469da153",
   "metadata": {},
   "outputs": [
    {
     "name": "stdout",
     "output_type": "stream",
     "text": [
      "42.7 ms ± 3.4 ms per loop (mean ± std. dev. of 7 runs, 10 loops each)\n"
     ]
    }
   ],
   "source": [
    "%%timeit\n",
    "A_inv = pinv(A)\n",
    "proj = np.eye(A.shape[1]) - A_inv @ A\n",
    "x1 = proj @ x"
   ]
  },
  {
   "cell_type": "code",
   "execution_count": null,
   "id": "efeac1e9-caed-4942-8c32-866f5616bb7c",
   "metadata": {},
   "outputs": [],
   "source": []
  },
  {
   "cell_type": "code",
   "execution_count": 145,
   "id": "3f94742e-6e1e-4b82-b615-22edaa2ac6c3",
   "metadata": {},
   "outputs": [
    {
     "name": "stdout",
     "output_type": "stream",
     "text": [
      "4.3 ms ± 277 µs per loop (mean ± std. dev. of 7 runs, 100 loops each)\n"
     ]
    }
   ],
   "source": [
    "%%timeit\n",
    "nulls = null_space(A)\n",
    "proj = nulls @ (nulls / (nulls * nulls).sum(0)).T\n",
    "x2 = proj @ x"
   ]
  },
  {
   "cell_type": "code",
   "execution_count": null,
   "id": "348a64ee-9e67-4ce2-8e4c-4335c036c82e",
   "metadata": {},
   "outputs": [],
   "source": []
  },
  {
   "cell_type": "code",
   "execution_count": null,
   "id": "a7ac7dd6-f90a-4e4a-90aa-793387bf0090",
   "metadata": {},
   "outputs": [],
   "source": []
  },
  {
   "cell_type": "code",
   "execution_count": 73,
   "id": "c9d6f4cc-1a96-42ce-9ab3-dc30955fb8d8",
   "metadata": {},
   "outputs": [],
   "source": [
    "from data.dataset import LPDataset\n",
    "import torch\n",
    "import numpy as np\n",
    "\n",
    "dataset = LPDataset('./mis_ineq')\n",
    "g = dataset[0]"
   ]
  },
  {
   "cell_type": "code",
   "execution_count": 24,
   "id": "d191cbc7-d4f1-431b-8a56-6acab85031cb",
   "metadata": {},
   "outputs": [],
   "source": [
    "device = 'cuda' if torch.cuda.is_available() else 'cpu'"
   ]
  },
  {
   "cell_type": "code",
   "execution_count": 25,
   "id": "c1c0b44c-39c7-4cca-a6a7-46b31b566285",
   "metadata": {},
   "outputs": [],
   "source": [
    "from models.hetero_gnn import TripartiteHeteroGNN"
   ]
  },
  {
   "cell_type": "code",
   "execution_count": 26,
   "id": "2acd8cef-69a7-4a85-9103-e729a0ac3365",
   "metadata": {},
   "outputs": [],
   "source": [
    "model = TripartiteHeteroGNN(conv='gcnconv',\n",
    "                            hid_dim=128,\n",
    "                            num_conv_layers=6,\n",
    "                            num_pred_layers=2,\n",
    "                            num_mlp_layers=2,\n",
    "                            pred_all=False,\n",
    "                            share_pred=False,\n",
    "                            dropout=0.,\n",
    "                            norm='graphnorm',\n",
    "                            use_res=False,\n",
    "                            conv_sequence='cov').to(device)"
   ]
  },
  {
   "cell_type": "code",
   "execution_count": 27,
   "id": "3c908281-fa3e-4d16-b239-c9439f6d9faf",
   "metadata": {},
   "outputs": [],
   "source": [
    "from data.utils import collate_fn_lp"
   ]
  },
  {
   "cell_type": "code",
   "execution_count": 28,
   "id": "537e6e65-ecc0-496f-98df-553ee5c2fd87",
   "metadata": {},
   "outputs": [],
   "source": [
    "batch = collate_fn_lp([g])\n",
    "\n",
    "batch.x_start = torch.rand(batch.x_dict['vals'].shape[0])\n",
    "\n",
    "batch = batch.to(device)\n",
    "_ = model(batch)"
   ]
  },
  {
   "cell_type": "code",
   "execution_count": null,
   "id": "0bbb808f-da04-49ad-b495-67c548328394",
   "metadata": {},
   "outputs": [],
   "source": []
  },
  {
   "cell_type": "code",
   "execution_count": 29,
   "id": "32934581-b321-4ac5-bb80-0adf170ea398",
   "metadata": {},
   "outputs": [
    {
     "data": {
      "text/plain": [
       "TripartiteHeteroGNN(\n",
       "  (encoder): ModuleDict(\n",
       "    (vals): MLP(-1, 128, 128)\n",
       "    (cons): MLP(-1, 128, 128)\n",
       "    (obj): MLP(-1, 128, 128)\n",
       "  )\n",
       "  (start_pos_encoder): MLP(-1, 128, 128)\n",
       "  (gcns): ModuleList(\n",
       "    (0-5): 6 x HeteroConv(num_relations=6)\n",
       "  )\n",
       "  (predictor): MLP(-1, 128, 1)\n",
       ")"
      ]
     },
     "execution_count": 29,
     "metadata": {},
     "output_type": "execute_result"
    }
   ],
   "source": [
    "model.load_state_dict(torch.load('best_model.pt', map_location=device))\n",
    "model.eval()"
   ]
  },
  {
   "cell_type": "code",
   "execution_count": null,
   "id": "129c6eb8-b7e3-40d3-b007-bf4c6937ca27",
   "metadata": {},
   "outputs": [],
   "source": []
  },
  {
   "cell_type": "code",
   "execution_count": 90,
   "id": "73ad83fc-f706-4293-ba0c-161eb0e5a55c",
   "metadata": {},
   "outputs": [],
   "source": [
    "from torch_sparse import SparseTensor\n",
    "\n",
    "A = SparseTensor(row=g.A_row,\n",
    "                 col=g.A_col,\n",
    "                 value=g.A_val, is_sorted=True,\n",
    "                 trust_data=True).to_dense().numpy()\n",
    "b = g.b.numpy()\n",
    "c = g.c.numpy()"
   ]
  },
  {
   "cell_type": "code",
   "execution_count": 31,
   "id": "496ea812-2b23-4bb1-8741-b771712e2a43",
   "metadata": {},
   "outputs": [],
   "source": [
    "batch.x_start = torch.rand(batch.x_dict['vals'].shape[0])\n",
    "\n",
    "# direction\n",
    "x_direction = batch.x_solution - batch.x_start\n",
    "batch.x_label = x_direction / x_direction.abs().max() + 1.e-7"
   ]
  },
  {
   "cell_type": "code",
   "execution_count": 32,
   "id": "1c8c07bc-d5e8-49df-bb7f-499636339406",
   "metadata": {},
   "outputs": [],
   "source": [
    "grad_x = model(batch)"
   ]
  },
  {
   "cell_type": "code",
   "execution_count": 33,
   "id": "8ef2ce67-b8c2-4612-b92a-e2f0d2d5789d",
   "metadata": {},
   "outputs": [],
   "source": [
    "from trainer import Trainer"
   ]
  },
  {
   "cell_type": "code",
   "execution_count": 34,
   "id": "9911c1f6-f579-4526-ab2f-24e618567ffc",
   "metadata": {},
   "outputs": [],
   "source": [
    "trainer = Trainer(device, 'l2', 1)"
   ]
  },
  {
   "cell_type": "code",
   "execution_count": 35,
   "id": "a7959ee5-525c-49cb-8034-421ec52af453",
   "metadata": {},
   "outputs": [
    {
     "data": {
      "text/plain": [
       "(tensor(0.0897, grad_fn=<MeanBackward0>), tensor(0.1763))"
      ]
     },
     "execution_count": 35,
     "metadata": {},
     "output_type": "execute_result"
    }
   ],
   "source": [
    "trainer.get_loss(grad_x, batch.x_label, batch['vals'].batch)"
   ]
  },
  {
   "cell_type": "code",
   "execution_count": null,
   "id": "b0bc2d8f-bd05-45dc-b327-9059634a0a89",
   "metadata": {},
   "outputs": [],
   "source": []
  },
  {
   "cell_type": "code",
   "execution_count": 36,
   "id": "adbb415b-5b1b-41a8-a33a-307b360ce92d",
   "metadata": {},
   "outputs": [],
   "source": [
    "from scipy.linalg import pinv\n",
    "\n",
    "A_inv = pinv(A)\n",
    "A_inv_b = A_inv @ b"
   ]
  },
  {
   "cell_type": "code",
   "execution_count": null,
   "id": "e5ed25e3-b7ca-4728-9bd9-59ee56079739",
   "metadata": {},
   "outputs": [],
   "source": [
    "x = np.random.rand(batch.x_dict['vals'].shape[0])\n",
    "\n",
    "obj_trace = []\n",
    "\n",
    "pbar = range(20)\n",
    "for iteration in pbar:\n",
    "    print(f'obj: {c.dot(x)}')\n",
    "    obj_trace.append(c.dot(x))\n",
    "    batch.x_start = torch.from_numpy(x).to(torch.float).to(device)\n",
    "\n",
    "    with torch.no_grad():\n",
    "        grad_x = model(batch)\n",
    "    label = batch.x_solution - batch.x_start\n",
    "    label /= label.abs().max() + 1.e-7\n",
    "\n",
    "    print(f'eval: {trainer.get_loss(grad_x, label, batch[\"vals\"].batch)}')\n",
    "\n",
    "    grad_x = grad_x.cpu().numpy()[:, -1]\n",
    "\n",
    "    alpha = 1.\n",
    "    gradx_mask_lower = grad_x < 0\n",
    "    if np.any(gradx_mask_lower):\n",
    "        alpha = min(alpha, (-x[gradx_mask_lower] / grad_x[gradx_mask_lower]).min())\n",
    "    gradx_mask_upper = grad_x > 0\n",
    "    if np.any(gradx_mask_upper):\n",
    "        alpha = min(alpha, ((1. - x[gradx_mask_upper]) / grad_x[gradx_mask_upper]).min())\n",
    "    gradx_mask_upper = np.logical_and(grad_x > 0, x < A_inv_b)\n",
    "    if np.any(gradx_mask_upper):\n",
    "        alpha = min(alpha, ((A_inv_b[gradx_mask_upper] - x[gradx_mask_upper]) / grad_x[gradx_mask_upper]).min())\n",
    "\n",
    "    x = x + alpha * grad_x"
   ]
  },
  {
   "cell_type": "code",
   "execution_count": null,
   "id": "a9e70a83-0f8c-4f69-a682-5bf28bb1ef57",
   "metadata": {},
   "outputs": [],
   "source": []
  },
  {
   "cell_type": "code",
   "execution_count": 62,
   "id": "fc3e4aa6-85de-4766-afb1-048a6d6a4cd8",
   "metadata": {},
   "outputs": [],
   "source": [
    "import matplotlib.pyplot as plt"
   ]
  },
  {
   "cell_type": "code",
   "execution_count": 63,
   "id": "b789cc4c-bd42-40e8-b693-4285af2b2995",
   "metadata": {},
   "outputs": [
    {
     "data": {
      "text/plain": [
       "<matplotlib.lines.Line2D at 0x17ee05330>"
      ]
     },
     "execution_count": 63,
     "metadata": {},
     "output_type": "execute_result"
    },
    {
     "data": {
      "image/png": "[encoded data removed]",
      "text/plain": [
       "<Figure size 640x480 with 1 Axes>"
      ]
     },
     "metadata": {},
     "output_type": "display_data"
    }
   ],
   "source": [
    "plt.plot(obj_trace)\n",
    "plt.axhline(y=-9.506, color='r', linestyle='dashed')"
   ]
  },
  {
   "cell_type": "code",
   "execution_count": null,
   "id": "7529c2c8-756b-41da-ba89-eba5b73870a8",
   "metadata": {},
   "outputs": [],
   "source": []
  },
  {
   "cell_type": "code",
   "execution_count": 43,
   "id": "cf924e65-c51b-427f-837b-3dc9137d9509",
   "metadata": {},
   "outputs": [],
   "source": [
    "from solver.linprog import linprog"
   ]
  },
  {
   "cell_type": "code",
   "execution_count": 59,
   "id": "cf41cf4b-a9a1-4839-a93a-bbc9ffca0c12",
   "metadata": {},
   "outputs": [],
   "source": [
    "xs = np.stack(linprog(c, A_ub=A, b_ub=b, bounds=(0, 1), options={'maxiter': 20}, callback=lambda res: res.x).intermediate, axis=0)"
   ]
  },
  {
   "cell_type": "code",
   "execution_count": 60,
   "id": "db5733c5-0a8c-40a7-9d0e-22a969ccdd66",
   "metadata": {},
   "outputs": [
    {
     "data": {
      "text/plain": [
       "array([-18.        , -10.6731087 ,  -9.50606819,  -9.00528255,\n",
       "        -9.00000029,  -9.        ])"
      ]
     },
     "execution_count": 60,
     "metadata": {},
     "output_type": "execute_result"
    }
   ],
   "source": [
    "xs.dot(c)"
   ]
  },
  {
   "cell_type": "code",
   "execution_count": null,
   "id": "a57bbe33-b3e7-4787-949d-2d02b5fb5deb",
   "metadata": {},
   "outputs": [],
   "source": []
  }
 ],
 "metadata": {
  "kernelspec": {
   "display_name": "Python 3 (ipykernel)",
   "language": "python",
   "name": "python3"
  },
  "language_info": {
   "codemirror_mode": {
    "name": "ipython",
    "version": 3
   },
   "file_extension": ".py",
   "mimetype": "text/x-python",
   "name": "python",
   "nbconvert_exporter": "python",
   "pygments_lexer": "ipython3",
   "version": "3.10.12"
  }
 },
 "nbformat": 4,
 "nbformat_minor": 5
}
