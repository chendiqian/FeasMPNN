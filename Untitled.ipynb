{
 "cells": [
  {
   "cell_type": "code",
   "execution_count": 1,
   "id": "b7313b55-ee2a-4cea-b64d-60905f81c7d1",
   "metadata": {},
   "outputs": [],
   "source": [
    "%load_ext autoreload\n",
    "%autoreload 2\n",
    "%load_ext line_profiler"
   ]
  },
  {
   "cell_type": "code",
   "execution_count": 2,
   "id": "c9d6f4cc-1a96-42ce-9ab3-dc30955fb8d8",
   "metadata": {},
   "outputs": [],
   "source": [
    "from data.dataset import LPDataset\n",
    "import torch\n",
    "import numpy as np\n",
    "\n",
    "dataset = LPDataset('./mid_mis')"
   ]
  },
  {
   "cell_type": "code",
   "execution_count": null,
   "id": "aab739e7-241c-45f8-8503-a617bf71aad2",
   "metadata": {},
   "outputs": [],
   "source": []
  },
  {
   "cell_type": "code",
   "execution_count": 3,
   "id": "7826572a-4f97-4090-9477-c90522f9e9c0",
   "metadata": {},
   "outputs": [],
   "source": [
    "g = dataset[9121]"
   ]
  },
  {
   "cell_type": "code",
   "execution_count": 4,
   "id": "d191cbc7-d4f1-431b-8a56-6acab85031cb",
   "metadata": {},
   "outputs": [],
   "source": [
    "device = 'cuda' if torch.cuda.is_available() else 'cpu'"
   ]
  },
  {
   "cell_type": "code",
   "execution_count": 5,
   "id": "c1c0b44c-39c7-4cca-a6a7-46b31b566285",
   "metadata": {},
   "outputs": [],
   "source": [
    "from models.hetero_gnn import TripartiteHeteroGNN\n",
    "from models.cycle_model import CycleGNN"
   ]
  },
  {
   "cell_type": "code",
   "execution_count": 20,
   "id": "2acd8cef-69a7-4a85-9103-e729a0ac3365",
   "metadata": {},
   "outputs": [],
   "source": [
    "gnn = TripartiteHeteroGNN(conv='gcnconv',\n",
    "                            hid_dim=256,\n",
    "                            num_conv_layers=4,\n",
    "                            num_pred_layers=2,\n",
    "                            num_mlp_layers=2,\n",
    "                            dropout=0.,\n",
    "                            norm='graphnorm',\n",
    "                            use_res=False,\n",
    "                            conv_sequence='cov').to(device)"
   ]
  },
  {
   "cell_type": "code",
   "execution_count": 21,
   "id": "ec5a7633-4a07-4959-a723-1ed4e5fc954c",
   "metadata": {},
   "outputs": [],
   "source": [
    "model = CycleGNN(8, 32, gnn).to(device)"
   ]
  },
  {
   "cell_type": "code",
   "execution_count": null,
   "id": "e2e0641e-f665-4e3a-9db8-0ac0c01b95da",
   "metadata": {},
   "outputs": [],
   "source": []
  },
  {
   "cell_type": "code",
   "execution_count": 8,
   "id": "3c908281-fa3e-4d16-b239-c9439f6d9faf",
   "metadata": {},
   "outputs": [],
   "source": [
    "from data.utils import collate_fn_lp"
   ]
  },
  {
   "cell_type": "code",
   "execution_count": 9,
   "id": "b9676554-856d-49bf-95b2-53742fdfaacf",
   "metadata": {},
   "outputs": [],
   "source": [
    "from torch_sparse import SparseTensor"
   ]
  },
  {
   "cell_type": "code",
   "execution_count": 33,
   "id": "51fc4be7-3be4-40da-a9b4-4e060792b3c4",
   "metadata": {},
   "outputs": [],
   "source": [
    "g = dataset[1]\n",
    "batch = collate_fn_lp([g], device)\n",
    "batch = batch.to(device)\n",
    "_ = gnn(batch)"
   ]
  },
  {
   "cell_type": "code",
   "execution_count": null,
   "id": "57859a98-d380-465c-ae56-5c3b5439b9d2",
   "metadata": {},
   "outputs": [],
   "source": []
  },
  {
   "cell_type": "code",
   "execution_count": 11,
   "id": "42f59a70-c7d1-4a94-833e-3ff71d1a8949",
   "metadata": {},
   "outputs": [],
   "source": [
    "A = SparseTensor(row=g.A_row,\n",
    "                 col=g.A_col,\n",
    "                 value=g.A_val, is_sorted=True,\n",
    "                 trust_data=True).to_dense()\n",
    "b = g.b"
   ]
  },
  {
   "cell_type": "code",
   "execution_count": 12,
   "id": "cbb03971-b680-4eba-891b-682011625a1b",
   "metadata": {},
   "outputs": [
    {
     "data": {
      "text/plain": [
       "tensor(2.3842e-07)"
      ]
     },
     "execution_count": 12,
     "metadata": {},
     "output_type": "execute_result"
    }
   ],
   "source": [
    "(A @ batch.x_start - b).abs().max()"
   ]
  },
  {
   "cell_type": "code",
   "execution_count": null,
   "id": "e989a124-a8e3-49bb-8907-6e6d5f597b2e",
   "metadata": {},
   "outputs": [],
   "source": []
  },
  {
   "cell_type": "code",
   "execution_count": null,
   "id": "32934581-b321-4ac5-bb80-0adf170ea398",
   "metadata": {},
   "outputs": [],
   "source": [
    "model.load_state_dict(torch.load('best_model.pt', map_location=device))\n",
    "model.eval()"
   ]
  },
  {
   "cell_type": "code",
   "execution_count": null,
   "id": "c93b9b4a-162c-4f07-baca-ab602bcdc6c2",
   "metadata": {},
   "outputs": [],
   "source": []
  },
  {
   "cell_type": "code",
   "execution_count": 35,
   "id": "496ea812-2b23-4bb1-8741-b771712e2a43",
   "metadata": {},
   "outputs": [],
   "source": [
    "xs = model.evaluation(batch)"
   ]
  },
  {
   "cell_type": "code",
   "execution_count": null,
   "id": "f2926b05-dd9f-4280-854f-9df4efe4a909",
   "metadata": {},
   "outputs": [],
   "source": []
  }
 ],
 "metadata": {
  "kernelspec": {
   "display_name": "Python 3 (ipykernel)",
   "language": "python",
   "name": "python3"
  },
  "language_info": {
   "codemirror_mode": {
    "name": "ipython",
    "version": 3
   },
   "file_extension": ".py",
   "mimetype": "text/x-python",
   "name": "python",
   "nbconvert_exporter": "python",
   "pygments_lexer": "ipython3",
   "version": "3.10.12"
  }
 },
 "nbformat": 4,
 "nbformat_minor": 5
}
