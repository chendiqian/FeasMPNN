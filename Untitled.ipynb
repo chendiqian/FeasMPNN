{
 "cells": [
  {
   "cell_type": "code",
   "execution_count": 1,
   "id": "b7313b55-ee2a-4cea-b64d-60905f81c7d1",
   "metadata": {},
   "outputs": [],
   "source": [
    "%load_ext autoreload\n",
    "%autoreload 2\n",
    "%load_ext line_profiler"
   ]
  },
  {
   "cell_type": "code",
   "execution_count": 3,
   "id": "c9d6f4cc-1a96-42ce-9ab3-dc30955fb8d8",
   "metadata": {},
   "outputs": [],
   "source": [
    "from data.dataset import LPDataset\n",
    "\n",
    "dataset = LPDataset('./mis_ineq')\n",
    "g = dataset[1]"
   ]
  },
  {
   "cell_type": "code",
   "execution_count": 4,
   "id": "d191cbc7-d4f1-431b-8a56-6acab85031cb",
   "metadata": {},
   "outputs": [],
   "source": [
    "device = 'cuda' if torch.cuda.is_available() else 'cpu'"
   ]
  },
  {
   "cell_type": "code",
   "execution_count": 5,
   "id": "c1c0b44c-39c7-4cca-a6a7-46b31b566285",
   "metadata": {},
   "outputs": [],
   "source": [
    "from models.hetero_gnn import TripartiteHeteroGNN"
   ]
  },
  {
   "cell_type": "code",
   "execution_count": 6,
   "id": "2acd8cef-69a7-4a85-9103-e729a0ac3365",
   "metadata": {},
   "outputs": [],
   "source": [
    "model = TripartiteHeteroGNN(conv='gcnconv',\n",
    "                            hid_dim=128,\n",
    "                            num_conv_layers=4,\n",
    "                            num_pred_layers=2,\n",
    "                            num_mlp_layers=2,\n",
    "                            dropout=0.,\n",
    "                            norm='graphnorm',\n",
    "                            use_res=False,\n",
    "                            conv_sequence='cov').to(device)"
   ]
  },
  {
   "cell_type": "code",
   "execution_count": 7,
   "id": "3c908281-fa3e-4d16-b239-c9439f6d9faf",
   "metadata": {},
   "outputs": [],
   "source": [
    "from data.utils import collate_fn_lp"
   ]
  },
  {
   "cell_type": "code",
   "execution_count": 8,
   "id": "537e6e65-ecc0-496f-98df-553ee5c2fd87",
   "metadata": {},
   "outputs": [],
   "source": [
    "batch = collate_fn_lp([g])\n",
    "\n",
    "batch.x_start = torch.rand(batch.x_dict['vals'].shape[0])\n",
    "\n",
    "batch = batch.to(device)\n",
    "_ = model(batch)"
   ]
  },
  {
   "cell_type": "code",
   "execution_count": null,
   "id": "0bbb808f-da04-49ad-b495-67c548328394",
   "metadata": {},
   "outputs": [],
   "source": []
  },
  {
   "cell_type": "code",
   "execution_count": 9,
   "id": "32934581-b321-4ac5-bb80-0adf170ea398",
   "metadata": {},
   "outputs": [
    {
     "data": {
      "text/plain": [
       "TripartiteHeteroGNN(\n",
       "  (encoder): ModuleDict(\n",
       "    (vals): MLP(-1, 128, 128)\n",
       "    (cons): MLP(-1, 128, 128)\n",
       "    (obj): MLP(-1, 128, 128)\n",
       "  )\n",
       "  (start_pos_encoder): MLP(-1, 128, 128)\n",
       "  (gcns): ModuleList(\n",
       "    (0-3): 4 x HeteroConv(num_relations=6)\n",
       "  )\n",
       "  (pred_x): MLP(-1, 128, 1)\n",
       ")"
      ]
     },
     "execution_count": 9,
     "metadata": {},
     "output_type": "execute_result"
    }
   ],
   "source": [
    "model.load_state_dict(torch.load('best_model.pt', map_location=device))\n",
    "model.eval()"
   ]
  },
  {
   "cell_type": "code",
   "execution_count": null,
   "id": "129c6eb8-b7e3-40d3-b007-bf4c6937ca27",
   "metadata": {},
   "outputs": [],
   "source": []
  },
  {
   "cell_type": "code",
   "execution_count": 10,
   "id": "73ad83fc-f706-4293-ba0c-161eb0e5a55c",
   "metadata": {},
   "outputs": [],
   "source": [
    "from torch_sparse import SparseTensor\n",
    "\n",
    "A = SparseTensor(row=g.A_row,\n",
    "                 col=g.A_col,\n",
    "                 value=g.A_val, is_sorted=True,\n",
    "                 trust_data=True).to_dense().numpy()\n",
    "b = g.b.numpy()\n",
    "c = g.c.numpy()"
   ]
  },
  {
   "cell_type": "code",
   "execution_count": 11,
   "id": "496ea812-2b23-4bb1-8741-b771712e2a43",
   "metadata": {},
   "outputs": [],
   "source": [
    "batch.x_start = torch.rand(batch.x_dict['vals'].shape[0])\n",
    "\n",
    "# direction\n",
    "x_direction = batch.x_solution - batch.x_start\n",
    "batch.x_label = x_direction / x_direction.abs().max() + 1.e-7"
   ]
  },
  {
   "cell_type": "code",
   "execution_count": 12,
   "id": "1c8c07bc-d5e8-49df-bb7f-499636339406",
   "metadata": {},
   "outputs": [],
   "source": [
    "grad_x = model(batch)"
   ]
  },
  {
   "cell_type": "code",
   "execution_count": 13,
   "id": "8ef2ce67-b8c2-4612-b92a-e2f0d2d5789d",
   "metadata": {},
   "outputs": [],
   "source": [
    "from trainer import Trainer"
   ]
  },
  {
   "cell_type": "code",
   "execution_count": 14,
   "id": "9911c1f6-f579-4526-ab2f-24e618567ffc",
   "metadata": {},
   "outputs": [],
   "source": [
    "trainer = Trainer(device, 'l2', 1)"
   ]
  },
  {
   "cell_type": "code",
   "execution_count": 15,
   "id": "a7959ee5-525c-49cb-8034-421ec52af453",
   "metadata": {},
   "outputs": [
    {
     "data": {
      "text/plain": [
       "(tensor(0.0205, grad_fn=<MeanBackward0>), tensor(0.0237))"
      ]
     },
     "execution_count": 15,
     "metadata": {},
     "output_type": "execute_result"
    }
   ],
   "source": [
    "trainer.get_loss(grad_x, batch.x_label, batch['vals'].batch)"
   ]
  },
  {
   "cell_type": "code",
   "execution_count": null,
   "id": "b0bc2d8f-bd05-45dc-b327-9059634a0a89",
   "metadata": {},
   "outputs": [],
   "source": []
  },
  {
   "cell_type": "code",
   "execution_count": 16,
   "id": "adbb415b-5b1b-41a8-a33a-307b360ce92d",
   "metadata": {},
   "outputs": [],
   "source": [
    "from scipy.linalg import pinv\n",
    "\n",
    "A_inv = pinv(A)\n",
    "A_inv_b = A_inv @ b"
   ]
  },
  {
   "cell_type": "code",
   "execution_count": 30,
   "id": "e5ed25e3-b7ca-4728-9bd9-59ee56079739",
   "metadata": {},
   "outputs": [
    {
     "name": "stdout",
     "output_type": "stream",
     "text": [
      "obj: -5.41257196852499\n",
      "eval: (tensor(0.0072), tensor(0.0089))\n",
      "obj: -6.069479041281429\n",
      "eval: (tensor(0.0015), tensor(0.0030))\n",
      "obj: -6.50649143314482\n",
      "eval: (tensor(0.0040), tensor(0.0101))\n",
      "obj: -6.506491435568028\n",
      "eval: (tensor(0.0040), tensor(0.0101))\n",
      "obj: -6.875293129232892\n",
      "eval: (tensor(0.0145), tensor(0.0489))\n",
      "obj: -6.87529314748343\n",
      "eval: (tensor(0.0145), tensor(0.0489))\n",
      "obj: -6.87529314748343\n",
      "eval: (tensor(0.0145), tensor(0.0489))\n",
      "obj: -6.87529314748343\n",
      "eval: (tensor(0.0145), tensor(0.0489))\n",
      "obj: -6.87529314748343\n",
      "eval: (tensor(0.0145), tensor(0.0489))\n",
      "obj: -6.87529314748343\n",
      "eval: (tensor(0.0145), tensor(0.0489))\n",
      "obj: -6.87529314748343\n",
      "eval: (tensor(0.0145), tensor(0.0489))\n",
      "obj: -6.87529314748343\n",
      "eval: (tensor(0.0145), tensor(0.0489))\n",
      "obj: -6.87529314748343\n",
      "eval: (tensor(0.0145), tensor(0.0489))\n",
      "obj: -6.87529314748343\n",
      "eval: (tensor(0.0145), tensor(0.0489))\n",
      "obj: -6.87529314748343\n",
      "eval: (tensor(0.0145), tensor(0.0489))\n",
      "obj: -6.87529314748343\n",
      "eval: (tensor(0.0145), tensor(0.0489))\n",
      "obj: -6.87529314748343\n",
      "eval: (tensor(0.0145), tensor(0.0489))\n",
      "obj: -6.87529314748343\n",
      "eval: (tensor(0.0145), tensor(0.0489))\n",
      "obj: -6.87529314748343\n",
      "eval: (tensor(0.0145), tensor(0.0489))\n",
      "obj: -6.87529314748343\n",
      "eval: (tensor(0.0145), tensor(0.0489))\n"
     ]
    }
   ],
   "source": [
    "x = np.random.rand(batch.x_dict['vals'].shape[0])\n",
    "\n",
    "pbar = range(20)\n",
    "for iteration in pbar:\n",
    "    print(f'obj: {c.dot(x)}')\n",
    "    batch.x_start = torch.from_numpy(x).to(torch.float).to(device)\n",
    "\n",
    "    with torch.no_grad():\n",
    "        grad_x = model(batch)\n",
    "    label = batch.x_solution - batch.x_start\n",
    "    label /= label.abs().max() + 1.e-7\n",
    "\n",
    "    print(f'eval: {trainer.get_loss(grad_x, label, batch[\"vals\"].batch)}')\n",
    "\n",
    "    grad_x = grad_x.cpu().numpy()\n",
    "\n",
    "    alpha = 1.\n",
    "    gradx_mask_lower = grad_x < 0\n",
    "    if np.any(gradx_mask_lower):\n",
    "        alpha = min(alpha, (-x[gradx_mask_lower] / grad_x[gradx_mask_lower]).min())\n",
    "    gradx_mask_upper = grad_x > 0\n",
    "    if np.any(gradx_mask_upper):\n",
    "        alpha = min(alpha, ((1. - x[gradx_mask_upper]) / grad_x[gradx_mask_upper]).min())\n",
    "    gradx_mask_upper = np.logical_and(grad_x > 0, x < A_inv_b)\n",
    "    if np.any(gradx_mask_upper):\n",
    "        alpha = min(alpha, ((A_inv_b[gradx_mask_upper] - x[gradx_mask_upper]) / grad_x[gradx_mask_upper]).min())\n",
    "\n",
    "    x = x + alpha * grad_x"
   ]
  },
  {
   "cell_type": "code",
   "execution_count": null,
   "id": "a9e70a83-0f8c-4f69-a682-5bf28bb1ef57",
   "metadata": {},
   "outputs": [],
   "source": []
  },
  {
   "cell_type": "code",
   "execution_count": null,
   "id": "7529c2c8-756b-41da-ba89-eba5b73870a8",
   "metadata": {},
   "outputs": [],
   "source": []
  },
  {
   "cell_type": "code",
   "execution_count": 92,
   "id": "cf924e65-c51b-427f-837b-3dc9137d9509",
   "metadata": {},
   "outputs": [],
   "source": [
    "from solver.linprog import linprog"
   ]
  },
  {
   "cell_type": "code",
   "execution_count": 110,
   "id": "cf41cf4b-a9a1-4839-a93a-bbc9ffca0c12",
   "metadata": {},
   "outputs": [
    {
     "data": {
      "text/plain": [
       "array([0.18108461, 0.19329581, 0.19798445, 0.18446541, 0.50433196,\n",
       "       0.50988041, 0.84183662, 0.5591294 , 0.55011799, 0.83908535,\n",
       "       0.84605545, 0.84183662, 0.83908535])"
      ]
     },
     "execution_count": 110,
     "metadata": {},
     "output_type": "execute_result"
    }
   ],
   "source": [
    "linprog(c, A_ub=A, b_ub=b, bounds=(0, 1), options={'maxiter': 2}).x"
   ]
  },
  {
   "cell_type": "code",
   "execution_count": null,
   "id": "db5733c5-0a8c-40a7-9d0e-22a969ccdd66",
   "metadata": {},
   "outputs": [],
   "source": []
  }
 ],
 "metadata": {
  "kernelspec": {
   "display_name": "Python 3 (ipykernel)",
   "language": "python",
   "name": "python3"
  },
  "language_info": {
   "codemirror_mode": {
    "name": "ipython",
    "version": 3
   },
   "file_extension": ".py",
   "mimetype": "text/x-python",
   "name": "python",
   "nbconvert_exporter": "python",
   "pygments_lexer": "ipython3",
   "version": "3.10.12"
  }
 },
 "nbformat": 4,
 "nbformat_minor": 5
}
