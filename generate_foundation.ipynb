{
 "cells": [
  {
   "cell_type": "code",
   "execution_count": null,
   "id": "86067865-0742-4b44-a0e2-bc87447a977a",
   "metadata": {
    "is_executing": true,
    "tags": []
   },
   "outputs": [],
   "source": [
    "%load_ext autoreload\n",
    "%autoreload 2\n",
    "%load_ext line_profiler"
   ]
  },
  {
   "cell_type": "code",
   "execution_count": null,
   "id": "c613b1ca-4366-4c13-b0d4-47e581195d5b",
   "metadata": {
    "tags": []
   },
   "outputs": [],
   "source": [
    "from tqdm import tqdm\n",
    "\n",
    "import os\n",
    "import torch\n",
    "import warnings\n",
    "import numpy as np\n",
    "from scipy.linalg import LinAlgError\n",
    "from functools import partial\n",
    "\n",
    "from generate_instances import generic\n",
    "from scipy.linalg import null_space\n",
    "from torch_geometric.data import Batch, HeteroData, InMemoryDataset\n",
    "from qpsolvers import solve_qp\n",
    "from scipy.optimize import linprog\n",
    "from scipy.sparse import csc_matrix\n",
    "from scipy.linalg import qr"
   ]
  },
  {
   "cell_type": "code",
   "execution_count": null,
   "id": "5253b78c-64f5-4b2d-b4d9-fd7107bbdebd",
   "metadata": {
    "tags": []
   },
   "outputs": [],
   "source": [
    "rng = np.random.RandomState(1)"
   ]
  },
  {
   "cell_type": "code",
   "execution_count": null,
   "id": "ca5baa7a-a9fa-41b9-aa05-755f29c333b1",
   "metadata": {
    "tags": []
   },
   "outputs": [],
   "source": [
    "root = 'datasets/foundation_sparser'\n",
    "os.mkdir(root)\n",
    "os.mkdir(os.path.join(root, 'processed'))"
   ]
  },
  {
   "cell_type": "markdown",
   "id": "d1bc446f-746e-4b22-8db4-2a376dd8e689",
   "metadata": {},
   "source": [
    "### foundation"
   ]
  },
  {
   "cell_type": "code",
   "execution_count": null,
   "id": "cc297df0-fd8f-4edb-86ce-80c2265a3c6e",
   "metadata": {},
   "outputs": [],
   "source": [
    "def gen_func():\n",
    "    A_density_lb = 0.0001\n",
    "    A_density_ub = 0.001\n",
    "    P_density_lb = 0.00001\n",
    "    P_density_ub = 0.0001\n",
    "    size_lb = 2000\n",
    "    size_ub = 3000\n",
    "\n",
    "    P_density = np.random.uniform(P_density_lb, P_density_ub)\n",
    "    nrows = ncols = np.random.randint(size_lb, size_ub)\n",
    "    A_density = max(np.random.uniform(A_density_lb, A_density_ub), 2 / nrows)\n",
    "    return generic(nrows, ncols, A_density, P_density, rng)"
   ]
  },
  {
   "cell_type": "markdown",
   "id": "e4e01d11-8f2c-40a3-be31-7c8250564aac",
   "metadata": {},
   "source": [
    "# create QP"
   ]
  },
  {
   "cell_type": "code",
   "execution_count": null,
   "id": "07eb0423-ed04-42e9-accd-483f224901f7",
   "metadata": {},
   "outputs": [],
   "source": [
    "graphs = []\n",
    "pkg_idx = 0\n",
    "success_cnt = 0\n",
    "\n",
    "max_iter = 2000\n",
    "num = 1000\n",
    "batch_size = 100\n",
    "\n",
    "pbar = tqdm(range(max_iter))\n",
    "for i in pbar:\n",
    "    try:\n",
    "        A, b, G, h, P, q, lb, ub, success = gen_func()\n",
    "        P = csc_matrix(P)\n",
    "        assert success\n",
    "\n",
    "        m, n = A.shape\n",
    "        sol = linprog(c=np.concatenate([np.zeros(n), np.array([-1.])], axis=0), \n",
    "                      A_ub=np.concatenate([-np.eye(n), np.ones((n, 1))], axis=1), \n",
    "                      b_ub=np.zeros(n), \n",
    "                      A_eq=np.concatenate([A, np.zeros((m, 1))], axis=1), b_eq=b, \n",
    "                      # we set upper bound in case unbounded e.g. svm\n",
    "                      bounds=(0, 10.), method='highs')\n",
    "        assert sol.success\n",
    "        x_feasible = sol.x[:-1]\n",
    "        \n",
    "        # should not be too close to 0\n",
    "        assert np.all(x_feasible >= 0.05) and np.abs(A @ x_feasible - b).max() < 1.e-6\n",
    "\n",
    "        lmat, _ = qr(A.T)\n",
    "        nulls = lmat[:, m:]\n",
    "        \n",
    "        solution = solve_qp(P, q, G, h, A, b, lb=lb, ub=ub, solver=\"osqp\")\n",
    "        assert solution is not None\n",
    "        obj = 0.5 * solution @ P @ solution + q.dot(solution)\n",
    "        assert not np.isnan(obj)\n",
    "    except (AssertionError, LinAlgError):\n",
    "        continue\n",
    "    else:        \n",
    "        A = torch.from_numpy(A).to(torch.float)\n",
    "        b = torch.from_numpy(b).to(torch.float)\n",
    "        q = torch.from_numpy(q).to(torch.float)\n",
    "        solution = torch.from_numpy(solution).to(torch.float)\n",
    "        x_feasible = torch.from_numpy(x_feasible).to(torch.float)\n",
    "\n",
    "        # use sparse mat here\n",
    "        P = P.tocoo()\n",
    "        A_where = torch.where(A)\n",
    "\n",
    "        data = HeteroData(\n",
    "            cons={\n",
    "                'num_nodes': A.shape[0],\n",
    "                'x': torch.empty(A.shape[0]),\n",
    "                 },\n",
    "            vals={\n",
    "                'num_nodes': A.shape[1],\n",
    "                'x': torch.empty(A.shape[1]),\n",
    "            },\n",
    "            obj={\n",
    "                    'num_nodes': 1,\n",
    "                    'x': torch.zeros(1, 1).float(),\n",
    "                },\n",
    "            cons__to__vals={'edge_index': torch.vstack(A_where),\n",
    "                            'edge_attr': A[A_where][:, None]},\n",
    "            vals__to__vals={'edge_index': torch.from_numpy(np.vstack([P.row, P.col])),\n",
    "                            'edge_attr': torch.from_numpy(P.data[:, None]).float()},\n",
    "            obj__to__vals={'edge_index': torch.vstack([torch.zeros(A.shape[1]).long(),\n",
    "                                                       torch.arange(A.shape[1])]),\n",
    "                            'edge_attr': torch.ones(A.shape[1], 1).float()},\n",
    "            obj__to__cons={'edge_index': torch.vstack([torch.zeros(A.shape[0]).long(),\n",
    "                                                       torch.arange(A.shape[0])]),\n",
    "                            'edge_attr': torch.ones(A.shape[0], 1).float()},\n",
    "            x_solution=solution,\n",
    "            x_feasible=x_feasible,\n",
    "            obj_solution=obj,\n",
    "            b=b,\n",
    "            q=q,\n",
    "            nulls=torch.from_numpy(nulls).float().reshape(-1)\n",
    "        )\n",
    "        success_cnt += 1\n",
    "        graphs.append(data)\n",
    "\n",
    "    if len(graphs) >= batch_size or success_cnt == num:\n",
    "        torch.save(Batch.from_data_list(graphs), f'{root}/processed/batch{pkg_idx}.pt')\n",
    "        pkg_idx += 1\n",
    "        graphs = []\n",
    "\n",
    "    if success_cnt >= num:\n",
    "        break\n",
    "\n",
    "    pbar.set_postfix({'suc': success_cnt})"
   ]
  },
  {
   "cell_type": "code",
   "execution_count": null,
   "id": "9ba781a6-076b-462a-9366-0fb6a3457468",
   "metadata": {},
   "outputs": [],
   "source": [
    "from data.dataset import LPDataset"
   ]
  },
  {
   "cell_type": "code",
   "execution_count": null,
   "id": "0f9f79d2-e484-4f1c-a35c-3924381ad80f",
   "metadata": {
    "scrolled": true
   },
   "outputs": [],
   "source": [
    "ds = LPDataset(root, transform=None)"
   ]
  },
  {
   "cell_type": "code",
   "execution_count": null,
   "id": "9817dcad-9966-40e1-8c99-ffebc273b55b",
   "metadata": {},
   "outputs": [],
   "source": []
  }
 ],
 "metadata": {
  "kernelspec": {
   "display_name": "Python 3 (ipykernel)",
   "language": "python",
   "name": "python3"
  },
  "language_info": {
   "codemirror_mode": {
    "name": "ipython",
    "version": 3
   },
   "file_extension": ".py",
   "mimetype": "text/x-python",
   "name": "python",
   "nbconvert_exporter": "python",
   "pygments_lexer": "ipython3",
   "version": "3.10.14"
  }
 },
 "nbformat": 4,
 "nbformat_minor": 5
}
