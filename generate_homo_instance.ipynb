{
 "cells": [
  {
   "cell_type": "code",
   "execution_count": null,
   "id": "86067865-0742-4b44-a0e2-bc87447a977a",
   "metadata": {
    "is_executing": true,
    "tags": []
   },
   "outputs": [],
   "source": [
    "%load_ext autoreload\n",
    "%autoreload 2\n",
    "%load_ext line_profiler"
   ]
  },
  {
   "cell_type": "code",
   "execution_count": null,
   "id": "c613b1ca-4366-4c13-b0d4-47e581195d5b",
   "metadata": {
    "tags": []
   },
   "outputs": [],
   "source": [
    "from tqdm import tqdm\n",
    "\n",
    "import os\n",
    "import torch\n",
    "import warnings\n",
    "import numpy as np\n",
    "from scipy.linalg import LinAlgError"
   ]
  },
  {
   "cell_type": "code",
   "execution_count": null,
   "id": "ca5baa7a-a9fa-41b9-aa05-755f29c333b1",
   "metadata": {
    "tags": []
   },
   "outputs": [],
   "source": [
    "root = 'datasets/qp_200_50eq_full'\n",
    "os.mkdir(root)\n",
    "os.mkdir(os.path.join(root, 'processed'))"
   ]
  },
  {
   "cell_type": "markdown",
   "id": "e4e01d11-8f2c-40a3-be31-7c8250564aac",
   "metadata": {},
   "source": [
    "# create QP"
   ]
  },
  {
   "cell_type": "code",
   "execution_count": null,
   "id": "8b652b7b-01d0-438e-a131-6ef82950ec7f",
   "metadata": {},
   "outputs": [],
   "source": [
    "from scipy.linalg import qr\n",
    "from torch_geometric.data import Batch, HeteroData, InMemoryDataset\n",
    "from qpsolvers import solve_qp\n",
    "from scipy.optimize import linprog"
   ]
  },
  {
   "cell_type": "markdown",
   "id": "0642262a-c63e-4673-a6f1-0b808b85bcd2",
   "metadata": {},
   "source": [
    "We make exactly the same dataset for the code base IPM-LSTM  \n",
    "See their code base for more details: https://github.com/NetSysOpt/IPM-LSTM"
   ]
  },
  {
   "cell_type": "code",
   "execution_count": null,
   "id": "5adff0b9-d9b9-4270-a11c-e7fd55f5308d",
   "metadata": {},
   "outputs": [],
   "source": [
    "num_var = 200\n",
    "num_eq = 50"
   ]
  },
  {
   "cell_type": "code",
   "execution_count": null,
   "id": "9a5d518e-98be-4f06-b13f-a52479644265",
   "metadata": {},
   "outputs": [],
   "source": []
  },
  {
   "cell_type": "code",
   "execution_count": null,
   "id": "c89c04b2-d905-44e6-aceb-1e21f46c094b",
   "metadata": {},
   "outputs": [],
   "source": [
    "np.random.seed(18)\n",
    "P = np.diag(np.random.random(num_var))\n",
    "q = np.random.randn(num_var)\n",
    "\n",
    "np.random.seed(19)\n",
    "A = np.random.normal(loc=0, scale=1., size=(num_eq, num_var))\n",
    "# A[np.random.rand(*A.shape) > 0.1] = 0.\n",
    "\n",
    "bs = np.random.uniform(-1, 1, size=(1000, num_eq))"
   ]
  },
  {
   "cell_type": "code",
   "execution_count": null,
   "id": "ea56531f-10ac-489b-b4ee-6a602656265a",
   "metadata": {},
   "outputs": [],
   "source": [
    "lmat, _ = qr(A.T)\n",
    "nulls = lmat[:, m:]"
   ]
  },
  {
   "cell_type": "code",
   "execution_count": null,
   "id": "7a2c3380-7c47-45df-bb32-5090bed6eecd",
   "metadata": {},
   "outputs": [],
   "source": [
    "A_torch = torch.from_numpy(A).to(torch.float)\n",
    "q_torch = torch.from_numpy(q).to(torch.float)\n",
    "P_torch = torch.from_numpy(P).to(torch.float)"
   ]
  },
  {
   "cell_type": "code",
   "execution_count": null,
   "id": "07eb0423-ed04-42e9-accd-483f224901f7",
   "metadata": {},
   "outputs": [],
   "source": [
    "graphs = []\n",
    "pkg_idx = 0\n",
    "success_cnt = 0\n",
    "\n",
    "num = 1000\n",
    "\n",
    "pbar = tqdm(range(num))\n",
    "for i in pbar:\n",
    "    try:\n",
    "        b = bs[i]\n",
    "\n",
    "        m, n = A.shape\n",
    "        sol = linprog(c=np.concatenate([np.zeros(n), np.array([-1.])], axis=0), \n",
    "                      A_ub=np.concatenate([-np.eye(n), np.ones((n, 1))], axis=1), \n",
    "                      b_ub=np.zeros(n), \n",
    "                      A_eq=np.concatenate([A, np.zeros((m, 1))], axis=1), b_eq=b, \n",
    "                      # we set upper bound in case unbounded e.g. svm\n",
    "                      bounds=(0, 5.), method='highs')\n",
    "        assert sol.success\n",
    "        x_feasible = sol.x[:-1]\n",
    "\n",
    "        # should not be too close to 0\n",
    "        assert np.all(x_feasible >= 0.05) and np.abs(A @ x_feasible - b).max() < 1.e-6        \n",
    "\n",
    "        solution = solve_qp(P, q, None, None, A, b, lb=np.zeros(n).astype(np.float64), ub=None, solver=\"osqp\")\n",
    "        assert solution is not None\n",
    "        obj = 0.5 * solution @ P @ solution + q.dot(solution)\n",
    "        assert not np.isnan(obj)\n",
    "    except (AssertionError, LinAlgError):\n",
    "        continue\n",
    "    else:\n",
    "        b = torch.from_numpy(b).to(torch.float)\n",
    "        solution = torch.from_numpy(solution).to(torch.float)\n",
    "        x_feasible = torch.from_numpy(x_feasible).to(torch.float)\n",
    "\n",
    "        A_where = torch.where(A_torch)\n",
    "        P_where = torch.where(P_torch)\n",
    "\n",
    "        data = HeteroData(\n",
    "            cons={\n",
    "                'num_nodes': A.shape[0],\n",
    "                'x': torch.empty(A.shape[0]),\n",
    "                 },\n",
    "            vals={\n",
    "                'num_nodes': A.shape[1],\n",
    "                'x': torch.empty(A.shape[1]),\n",
    "            },\n",
    "            # we create a tripartite graph, but we may NOT use the global node\n",
    "            obj={\n",
    "                    'num_nodes': 1,\n",
    "                    'x': torch.zeros(1, 1).float(),\n",
    "                },\n",
    "            cons__to__vals={'edge_index': torch.vstack(A_where),\n",
    "                            'edge_attr': A_torch[A_where][:, None]},\n",
    "            vals__to__vals={'edge_index': torch.vstack(P_where),\n",
    "                            'edge_attr': P_torch[P_where][:, None]},\n",
    "            obj__to__vals={'edge_index': torch.vstack([torch.zeros(A.shape[1]).long(),\n",
    "                                                       torch.arange(A.shape[1])]),\n",
    "                            'edge_attr': torch.ones(A.shape[1], 1).float()},\n",
    "            obj__to__cons={'edge_index': torch.vstack([torch.zeros(A.shape[0]).long(),\n",
    "                                                       torch.arange(A.shape[0])]),\n",
    "                            'edge_attr': torch.ones(A.shape[0], 1).float()},\n",
    "            x_solution=solution,\n",
    "            x_feasible=x_feasible,\n",
    "            obj_solution=obj,\n",
    "            b=b,\n",
    "            q=q_torch,\n",
    "            nulls=torch.from_numpy(nulls).float().reshape(-1)\n",
    "        )\n",
    "        success_cnt += 1\n",
    "        graphs.append(data)\n",
    "\n",
    "    if len(graphs) >= 1000 or success_cnt == num:\n",
    "        torch.save(Batch.from_data_list(graphs), f'{root}/processed/batch{pkg_idx}.pt')\n",
    "        pkg_idx += 1\n",
    "        graphs = []\n",
    "\n",
    "    if success_cnt >= num:\n",
    "        break\n",
    "\n",
    "    pbar.set_postfix({'suc': success_cnt})"
   ]
  },
  {
   "cell_type": "code",
   "execution_count": null,
   "id": "b46a6bc3-9a7d-492a-b012-f991cb7d7454",
   "metadata": {},
   "outputs": [],
   "source": []
  },
  {
   "cell_type": "code",
   "execution_count": null,
   "id": "9ba781a6-076b-462a-9366-0fb6a3457468",
   "metadata": {},
   "outputs": [],
   "source": [
    "from data.dataset import LPDataset"
   ]
  },
  {
   "cell_type": "code",
   "execution_count": null,
   "id": "0f9f79d2-e484-4f1c-a35c-3924381ad80f",
   "metadata": {
    "scrolled": true
   },
   "outputs": [],
   "source": [
    "ds = LPDataset(root, transform=None)"
   ]
  },
  {
   "cell_type": "code",
   "execution_count": null,
   "id": "e61c30be-e0dd-43b5-9db0-f35c442d64ba",
   "metadata": {},
   "outputs": [],
   "source": []
  }
 ],
 "metadata": {
  "kernelspec": {
   "display_name": "Python 3 (ipykernel)",
   "language": "python",
   "name": "python3"
  },
  "language_info": {
   "codemirror_mode": {
    "name": "ipython",
    "version": 3
   },
   "file_extension": ".py",
   "mimetype": "text/x-python",
   "name": "python",
   "nbconvert_exporter": "python",
   "pygments_lexer": "ipython3",
   "version": "3.10.14"
  }
 },
 "nbformat": 4,
 "nbformat_minor": 5
}
