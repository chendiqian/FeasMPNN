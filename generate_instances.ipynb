{
 "cells": [
  {
   "cell_type": "code",
   "execution_count": null,
   "id": "86067865-0742-4b44-a0e2-bc87447a977a",
   "metadata": {
    "is_executing": true,
    "tags": []
   },
   "outputs": [],
   "source": [
    "%load_ext autoreload\n",
    "%autoreload 2\n",
    "%load_ext line_profiler"
   ]
  },
  {
   "cell_type": "code",
   "execution_count": null,
   "id": "c613b1ca-4366-4c13-b0d4-47e581195d5b",
   "metadata": {
    "tags": []
   },
   "outputs": [],
   "source": [
    "from solver.linprog import linprog\n",
    "from tqdm import tqdm\n",
    "\n",
    "import os\n",
    "import torch\n",
    "from scipy.linalg import LinAlgWarning, LinAlgError\n",
    "from scipy.optimize._optimize import OptimizeWarning\n",
    "from scipy.optimize._linprog_util import _clean_inputs, _get_Abc\n",
    "import warnings\n",
    "import numpy as np\n",
    "\n",
    "from generate_instances import generate_setcover, Graph, generate_indset, generate_cauctions, generate_capacited_facility_location"
   ]
  },
  {
   "cell_type": "code",
   "execution_count": null,
   "id": "5253b78c-64f5-4b2d-b4d9-fd7107bbdebd",
   "metadata": {
    "tags": []
   },
   "outputs": [],
   "source": [
    "rng = np.random.RandomState(1)"
   ]
  },
  {
   "cell_type": "code",
   "execution_count": null,
   "id": "ca5baa7a-a9fa-41b9-aa05-755f29c333b1",
   "metadata": {
    "tags": []
   },
   "outputs": [],
   "source": [
    "root = 'datasets/large_cauc'\n",
    "os.mkdir(root)\n",
    "os.mkdir(os.path.join(root, 'processed'))"
   ]
  },
  {
   "cell_type": "markdown",
   "id": "22b2dfbe-1ca0-4fda-b22f-b356c25a8e9b",
   "metadata": {},
   "source": [
    "### Setcover"
   ]
  },
  {
   "cell_type": "code",
   "execution_count": null,
   "id": "98b27565-ab4d-4872-8798-0050a16cfaa2",
   "metadata": {
    "tags": []
   },
   "outputs": [],
   "source": [
    "# density = 0.15\n",
    "# nrows_l = 15\n",
    "# nrows_u = 20\n",
    "# ncols_l = 15\n",
    "# ncols_u = 20\n",
    "\n",
    "density = 0.008\n",
    "nrows_l = 300\n",
    "nrows_u = 400\n",
    "ncols_l = 200\n",
    "ncols_u = 300\n",
    "\n",
    "bounds = (0., 1.)\n",
    "\n",
    "def surrogate_gen():\n",
    "    nrows = rng.randint(nrows_l, nrows_u)\n",
    "    ncols = rng.randint(ncols_l, ncols_u)\n",
    "    nnzrs = int(nrows * ncols * density)\n",
    "    A, b, c = generate_setcover(nrows, ncols, nnzrs, rng)\n",
    "    return None, None, A, b, c"
   ]
  },
  {
   "cell_type": "markdown",
   "id": "8feba305-fe78-4c36-9e05-c9925320ce8f",
   "metadata": {},
   "source": [
    "### Indset"
   ]
  },
  {
   "cell_type": "code",
   "execution_count": null,
   "id": "d011cf5b-7a78-4eee-bec4-4c95e823787f",
   "metadata": {},
   "outputs": [],
   "source": [
    "def surrogate_gen():\n",
    "    # nnodes = rng.randint(10, 20)\n",
    "    nnodes = rng.randint(250, 300)\n",
    "    edge_probability = 0.01\n",
    "    graph = Graph.erdos_renyi(number_of_nodes=nnodes, edge_probability=edge_probability, random=rng)\n",
    "    A, b, c = generate_indset(graph=graph, nnodes=nnodes)\n",
    "    return None, None, A, b, c\n",
    "\n",
    "bounds = (0., 1.)"
   ]
  },
  {
   "cell_type": "markdown",
   "id": "5b10bae9-954f-4f8d-891b-c11ef61e61d2",
   "metadata": {},
   "source": [
    "### Cauctions"
   ]
  },
  {
   "cell_type": "code",
   "execution_count": null,
   "id": "409d4b02-d2c1-4765-9137-e840fd511ad0",
   "metadata": {},
   "outputs": [],
   "source": [
    "def surrogate_gen():\n",
    "    # n_items=rng.randint(15, 20)\n",
    "    # n_bids=rng.randint(15, 20)\n",
    "    n_items=rng.randint(300, 400)\n",
    "    n_bids=rng.randint(300, 400)\n",
    "    A, b, c = generate_cauctions(n_items=n_items, n_bids=n_bids, rng=rng, min_value=0.5, max_value=1., add_item_prob=0.5)\n",
    "    # c = np.ones_like(c, dtype=np.float32) * -1.\n",
    "    return None, None, A, b, c\n",
    "\n",
    "bounds = (0., 1.)"
   ]
  },
  {
   "cell_type": "markdown",
   "id": "70957397-d822-4a34-b05d-8eeeba50214a",
   "metadata": {},
   "source": [
    "### Facilities"
   ]
  },
  {
   "cell_type": "code",
   "execution_count": null,
   "id": "54e45f1f-07de-42ac-8d2d-2c1ac4c5f8d8",
   "metadata": {},
   "outputs": [],
   "source": [
    "def surrogate_gen():\n",
    "    n_customers = rng.randint(60, 70)\n",
    "    n_facilities = 5\n",
    "    ratio = 0.5\n",
    "    # min would be like 0.2-ish\n",
    "    A_eq, b_eq, A_ub, b_ub, c = generate_capacited_facility_location(n_customers=n_customers, \n",
    "                                                                     n_facilities=n_facilities, \n",
    "                                                                     ratio=ratio, rng=rng)\n",
    "    return A_eq, b_eq, A_ub, b_ub, c\n",
    "\n",
    "bounds = (0., 1.)"
   ]
  },
  {
   "cell_type": "markdown",
   "id": "e4e01d11-8f2c-40a3-be31-7c8250564aac",
   "metadata": {},
   "source": [
    "# create eq"
   ]
  },
  {
   "cell_type": "code",
   "execution_count": null,
   "id": "8b652b7b-01d0-438e-a131-6ef82950ec7f",
   "metadata": {},
   "outputs": [],
   "source": [
    "from solver.linprog_ip import _ip_hsd_feas\n",
    "from scipy.linalg import null_space\n",
    "from torch_geometric.data import Batch, HeteroData, InMemoryDataset\n",
    "from collections import namedtuple\n",
    "\n",
    "_LPProblem = namedtuple('_LPProblem',\n",
    "                        'c A_ub b_ub A_eq b_eq bounds x0 integrality')\n",
    "_LPProblem.__new__.__defaults__ = (None,) * 7  # make c the only required arg"
   ]
  },
  {
   "cell_type": "code",
   "execution_count": null,
   "id": "d579298c-85ff-4c98-a053-e48047282a0f",
   "metadata": {},
   "outputs": [],
   "source": [
    "def normalize_cons(A, b):\n",
    "    if A is None or b is None:\n",
    "        return A, b\n",
    "    Ab = np.concatenate([A, b[:, None]], axis=1)\n",
    "    max_logit = np.abs(Ab).max(axis=1)\n",
    "    max_logit[max_logit == 0] = 1.\n",
    "    Ab = Ab / max_logit[:, None]\n",
    "    A = Ab[:, :-1]\n",
    "    b = Ab[:, -1]\n",
    "    return A, b"
   ]
  },
  {
   "cell_type": "code",
   "execution_count": null,
   "id": "07eb0423-ed04-42e9-accd-483f224901f7",
   "metadata": {},
   "outputs": [],
   "source": [
    "warnings.filterwarnings(\"error\")\n",
    "\n",
    "ips = []\n",
    "graphs = []\n",
    "pkg_idx = 0\n",
    "success_cnt = 0\n",
    "\n",
    "max_iter = 12000\n",
    "num = 10000\n",
    "\n",
    "for i in tqdm(range(max_iter)):\n",
    "    A_eq, b_eq, A_ub, b_ub, c = surrogate_gen()\n",
    "    c = c / (np.abs(c).max() + 1.e-10)  # does not change the result\n",
    "    A_eq, b_eq = normalize_cons(A_eq, b_eq)\n",
    "    A_ub, b_ub = normalize_cons(A_ub, b_ub)\n",
    "\n",
    "    # process LP into standard form Ax=b, x>=0\n",
    "    lp = _LPProblem(c, A_ub, b_ub, A_eq, b_eq, bounds, None, None)\n",
    "    lp = _clean_inputs(lp)\n",
    "    A, b, c, *_ = _get_Abc(lp, 0.)\n",
    "    \n",
    "    try:\n",
    "        res = linprog(\n",
    "                c, \n",
    "                A_ub=None,\n",
    "                b_ub=None,\n",
    "                A_eq=A, b_eq=b, bounds=None, method='interior-point')\n",
    "        nulls = null_space(A)\n",
    "    except (LinAlgWarning, OptimizeWarning, AssertionError, LinAlgError):\n",
    "        continue\n",
    "    else:\n",
    "        if res.success and not np.isnan(res.fun):\n",
    "            # create graph on the fly\n",
    "            x_feasible, *_ = _ip_hsd_feas(A, b, np.zeros(A.shape[1]), 0.,\n",
    "                                          alpha0=0.99995, beta=0.1,\n",
    "                                          maxiter=100, tol=1.e-6, sparse=False,\n",
    "                                          lstsq=False, sym_pos=True, cholesky=None,\n",
    "                                          pc=True, ip=True, permc_spec='MMD_AT_PLUS_A',\n",
    "                                          rand_start=True)\n",
    "            \n",
    "            A = torch.from_numpy(A).to(torch.float)\n",
    "            b = torch.from_numpy(b).to(torch.float)\n",
    "            c = torch.from_numpy(c).to(torch.float)\n",
    "            x = torch.from_numpy(res.x).to(torch.float)\n",
    "            x_feasible = torch.from_numpy(x_feasible).to(torch.float)\n",
    "\n",
    "            A_where = torch.where(A)\n",
    "            data = HeteroData(\n",
    "                cons={\n",
    "                    'num_nodes': b.shape[0],\n",
    "                    'x': torch.empty(b.shape[0]),\n",
    "                     },\n",
    "                vals={\n",
    "                    'num_nodes': c.shape[0],\n",
    "                    'x': torch.empty(c.shape[0]),\n",
    "                },\n",
    "                cons__to__vals={'edge_index': torch.vstack(A_where),\n",
    "                                'edge_attr': A[A_where][:, None]},\n",
    "                x_solution=x,\n",
    "                x_feasible=x_feasible,\n",
    "                obj_solution=c.dot(x),\n",
    "                c=c,\n",
    "                b=b,\n",
    "                nulls=torch.from_numpy(nulls).float().reshape(-1)\n",
    "            )\n",
    "            success_cnt += 1\n",
    "            graphs.append(data)\n",
    "\n",
    "    if len(graphs) >= 1000 or success_cnt == num:\n",
    "        torch.save(Batch.from_data_list(graphs), f'{root}/processed/batch{pkg_idx}.pt')\n",
    "        pkg_idx += 1\n",
    "        graphs = []\n",
    "\n",
    "    if success_cnt >= num:\n",
    "        break\n",
    "\n",
    "warnings.resetwarnings()"
   ]
  },
  {
   "cell_type": "code",
   "execution_count": null,
   "id": "9ba781a6-076b-462a-9366-0fb6a3457468",
   "metadata": {},
   "outputs": [],
   "source": [
    "from data.dataset import LPDataset"
   ]
  },
  {
   "cell_type": "code",
   "execution_count": null,
   "id": "0f9f79d2-e484-4f1c-a35c-3924381ad80f",
   "metadata": {},
   "outputs": [],
   "source": [
    "ds = LPDataset(root)"
   ]
  },
  {
   "cell_type": "code",
   "execution_count": null,
   "id": "7294ffea-3e2d-4341-9e8e-ee8c042d7163",
   "metadata": {},
   "outputs": [],
   "source": []
  }
 ],
 "metadata": {
  "kernelspec": {
   "display_name": "Python 3 (ipykernel)",
   "language": "python",
   "name": "python3"
  },
  "language_info": {
   "codemirror_mode": {
    "name": "ipython",
    "version": 3
   },
   "file_extension": ".py",
   "mimetype": "text/x-python",
   "name": "python",
   "nbconvert_exporter": "python",
   "pygments_lexer": "ipython3",
   "version": "3.12.4"
  }
 },
 "nbformat": 4,
 "nbformat_minor": 5
}
