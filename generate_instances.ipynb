{
 "cells": [
  {
   "cell_type": "code",
   "execution_count": null,
   "id": "86067865-0742-4b44-a0e2-bc87447a977a",
   "metadata": {
    "is_executing": true,
    "tags": []
   },
   "outputs": [],
   "source": [
    "%load_ext autoreload\n",
    "%autoreload 2\n",
    "%load_ext line_profiler"
   ]
  },
  {
   "cell_type": "code",
   "execution_count": null,
   "id": "c613b1ca-4366-4c13-b0d4-47e581195d5b",
   "metadata": {
    "tags": []
   },
   "outputs": [],
   "source": [
    "from tqdm import tqdm\n",
    "\n",
    "import os\n",
    "import torch\n",
    "import warnings\n",
    "import numpy as np\n",
    "from scipy.linalg import LinAlgError\n",
    "from functools import partial\n",
    "\n",
    "from generate_instances import generic, postprocess, soft_svm, portfolio"
   ]
  },
  {
   "cell_type": "code",
   "execution_count": null,
   "id": "5253b78c-64f5-4b2d-b4d9-fd7107bbdebd",
   "metadata": {
    "tags": []
   },
   "outputs": [],
   "source": [
    "rng = np.random.RandomState(1)"
   ]
  },
  {
   "cell_type": "code",
   "execution_count": null,
   "id": "ca5baa7a-a9fa-41b9-aa05-755f29c333b1",
   "metadata": {
    "tags": []
   },
   "outputs": [],
   "source": [
    "root = 'datasets/qp_port_800_0.01_sma2'\n",
    "os.mkdir(root)\n",
    "os.mkdir(os.path.join(root, 'processed'))"
   ]
  },
  {
   "cell_type": "markdown",
   "id": "22b2dfbe-1ca0-4fda-b22f-b356c25a8e9b",
   "metadata": {},
   "source": [
    "### generic"
   ]
  },
  {
   "cell_type": "code",
   "execution_count": null,
   "id": "98b27565-ab4d-4872-8798-0050a16cfaa2",
   "metadata": {
    "tags": []
   },
   "outputs": [],
   "source": [
    "A_density = 0.008\n",
    "P_density = 0.01\n",
    "nrows = ncols = 400\n",
    "\n",
    "gen_func = partial(generic, nrows=nrows, ncols=ncols, A_density=A_density, P_density=P_density, rng=rng)"
   ]
  },
  {
   "cell_type": "markdown",
   "id": "0ce900bc-8438-40a9-83bb-2c6daeca1b93",
   "metadata": {},
   "source": [
    "### soft margin SVM"
   ]
  },
  {
   "cell_type": "code",
   "execution_count": null,
   "id": "dc2504c7-d377-47b3-9829-11a248abbb91",
   "metadata": {},
   "outputs": [],
   "source": [
    "num = 800 # Number of points\n",
    "dim = 800 # Dimension of the points\n",
    "lamb = 0.5 # regularization parameter (hardness of the margin)\n",
    "density = 0.01\n",
    "\n",
    "gen_func = partial(soft_svm, nums=num, dims=dim, lamb=lamb, density=density, rng=rng)"
   ]
  },
  {
   "cell_type": "markdown",
   "id": "598c47a6-24d7-44d5-8410-3bb72cfe385b",
   "metadata": {},
   "source": [
    "### portfolio"
   ]
  },
  {
   "cell_type": "code",
   "execution_count": null,
   "id": "83701e46-4baf-4de3-8553-45b3a90fac49",
   "metadata": {},
   "outputs": [],
   "source": [
    "n_assets = 800\n",
    "density = 0.01\n",
    "\n",
    "gen_func = partial(portfolio, n_assets=n_assets, density=density, rng=rng)"
   ]
  },
  {
   "cell_type": "markdown",
   "id": "e4e01d11-8f2c-40a3-be31-7c8250564aac",
   "metadata": {},
   "source": [
    "# create QP"
   ]
  },
  {
   "cell_type": "code",
   "execution_count": null,
   "id": "8b652b7b-01d0-438e-a131-6ef82950ec7f",
   "metadata": {},
   "outputs": [],
   "source": [
    "from scipy.linalg import null_space\n",
    "from torch_geometric.data import Batch, HeteroData, InMemoryDataset\n",
    "from qpsolvers import solve_qp\n",
    "from scipy.optimize import linprog"
   ]
  },
  {
   "cell_type": "code",
   "execution_count": null,
   "id": "07eb0423-ed04-42e9-accd-483f224901f7",
   "metadata": {},
   "outputs": [],
   "source": [
    "graphs = []\n",
    "pkg_idx = 0\n",
    "success_cnt = 0\n",
    "\n",
    "max_iter = 2000\n",
    "num = 1000\n",
    "\n",
    "pbar = tqdm(range(max_iter))\n",
    "for i in pbar:\n",
    "    try:\n",
    "        A, b, G, h, P, q, lb, ub, success = gen_func()\n",
    "        assert success\n",
    "\n",
    "        # x_feasible, *_ = _ip_hsd_feas(A, b, np.zeros(A.shape[1]), 0.,\n",
    "        #                               alpha0=0.99995, beta=0.1,\n",
    "        #                               maxiter=100, tol=1.e-6, sparse=True,\n",
    "        #                               lstsq=False, sym_pos=True, cholesky=None,\n",
    "        #                               pc=True, ip=True, permc_spec='MMD_AT_PLUS_A',\n",
    "        #                               rand_start=False)\n",
    "        m, n = A.shape\n",
    "        sol = linprog(c=np.concatenate([np.zeros(n), np.array([-1.])], axis=0), \n",
    "                      A_ub=np.concatenate([-np.eye(n), np.ones((n, 1))], axis=1), \n",
    "                      b_ub=np.zeros(n), \n",
    "                      A_eq=np.concatenate([A, np.zeros((m, 1))], axis=1), b_eq=b, bounds=(0, None), method='highs')\n",
    "        x_feasible = sol.x[:-1]\n",
    "        assert sol.success\n",
    "        \n",
    "        # should not be too close to 0\n",
    "        assert np.all(x_feasible >= 0.1) and np.abs(A @ x_feasible - b).max() < 1.e-6\n",
    "\n",
    "        nulls = null_space(A)\n",
    "        solution = solve_qp(P, q, G, h, A, b, lb=lb, ub=ub, solver=\"cvxopt\")\n",
    "        assert solution is not None\n",
    "        obj = 0.5 * solution @ P @ solution + q.dot(solution)\n",
    "        assert not np.isnan(obj)\n",
    "    except (AssertionError, LinAlgError):\n",
    "        continue\n",
    "    else:        \n",
    "        A = torch.from_numpy(A).to(torch.float)\n",
    "        b = torch.from_numpy(b).to(torch.float)\n",
    "        q = torch.from_numpy(q).to(torch.float)\n",
    "        solution = torch.from_numpy(solution).to(torch.float)\n",
    "        x_feasible = torch.from_numpy(x_feasible).to(torch.float)\n",
    "\n",
    "        P = torch.from_numpy(P).to(torch.float)\n",
    "        A_where = torch.where(A)\n",
    "        P_where = torch.where(P)\n",
    "\n",
    "        data = HeteroData(\n",
    "            cons={\n",
    "                'num_nodes': A.shape[0],\n",
    "                'x': torch.empty(A.shape[0]),\n",
    "                 },\n",
    "            vals={\n",
    "                'num_nodes': A.shape[1],\n",
    "                'x': torch.empty(A.shape[1]),\n",
    "            },\n",
    "            cons__to__vals={'edge_index': torch.vstack(A_where),\n",
    "                            'edge_attr': A[A_where][:, None]},\n",
    "            vals__to__vals={'edge_index': torch.vstack(P_where),\n",
    "                            'edge_attr': P[P_where][:, None]},\n",
    "            x_solution=solution,\n",
    "            x_feasible=x_feasible,\n",
    "            obj_solution=obj,\n",
    "            b=b,\n",
    "            q=q,\n",
    "            nulls=torch.from_numpy(nulls).float().reshape(-1)\n",
    "        )\n",
    "        success_cnt += 1\n",
    "        graphs.append(data)\n",
    "\n",
    "    if len(graphs) >= 1000 or success_cnt == num:\n",
    "        torch.save(Batch.from_data_list(graphs), f'{root}/processed/batch{pkg_idx}.pt')\n",
    "        pkg_idx += 1\n",
    "        graphs = []\n",
    "\n",
    "    if success_cnt >= num:\n",
    "        break\n",
    "\n",
    "    pbar.set_postfix({'suc': success_cnt})"
   ]
  },
  {
   "cell_type": "code",
   "execution_count": null,
   "id": "9ba781a6-076b-462a-9366-0fb6a3457468",
   "metadata": {},
   "outputs": [],
   "source": [
    "from data.dataset import LPDataset"
   ]
  },
  {
   "cell_type": "code",
   "execution_count": null,
   "id": "0f9f79d2-e484-4f1c-a35c-3924381ad80f",
   "metadata": {
    "scrolled": true
   },
   "outputs": [],
   "source": [
    "ds = LPDataset(root, transform=None)"
   ]
  },
  {
   "cell_type": "code",
   "execution_count": null,
   "id": "3eea7ebb-c4a5-432b-8d3f-c23156b2216e",
   "metadata": {},
   "outputs": [],
   "source": []
  }
 ],
 "metadata": {
  "kernelspec": {
   "display_name": "Python 3 (ipykernel)",
   "language": "python",
   "name": "python3"
  },
  "language_info": {
   "codemirror_mode": {
    "name": "ipython",
    "version": 3
   },
   "file_extension": ".py",
   "mimetype": "text/x-python",
   "name": "python",
   "nbconvert_exporter": "python",
   "pygments_lexer": "ipython3",
   "version": "3.10.14"
  }
 },
 "nbformat": 4,
 "nbformat_minor": 5
}
