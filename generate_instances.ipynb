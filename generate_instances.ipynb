{
 "cells": [
  {
   "cell_type": "code",
   "execution_count": 1,
   "id": "86067865-0742-4b44-a0e2-bc87447a977a",
   "metadata": {
    "is_executing": true,
    "tags": []
   },
   "outputs": [],
   "source": [
    "%load_ext autoreload\n",
    "%autoreload 2\n",
    "%load_ext line_profiler"
   ]
  },
  {
   "cell_type": "code",
   "execution_count": 2,
   "id": "c613b1ca-4366-4c13-b0d4-47e581195d5b",
   "metadata": {
    "tags": []
   },
   "outputs": [],
   "source": [
    "from solver.linprog import linprog\n",
    "from tqdm import tqdm\n",
    "\n",
    "import gzip\n",
    "import pickle\n",
    "import torch\n",
    "from scipy.linalg import LinAlgWarning, LinAlgError\n",
    "from scipy.optimize._optimize import OptimizeWarning\n",
    "from scipy.optimize._linprog_util import _clean_inputs, _get_Abc\n",
    "import warnings\n",
    "import numpy as np\n",
    "from functools import partial\n",
    "from collections import namedtuple\n",
    "\n",
    "from generate_instances import generate_setcover, Graph, generate_indset, generate_cauctions, generate_capacited_facility_location"
   ]
  },
  {
   "cell_type": "code",
   "execution_count": 3,
   "id": "5253b78c-64f5-4b2d-b4d9-fd7107bbdebd",
   "metadata": {
    "tags": []
   },
   "outputs": [],
   "source": [
    "rng = np.random.RandomState(1)"
   ]
  },
  {
   "cell_type": "code",
   "execution_count": 33,
   "id": "ca5baa7a-a9fa-41b9-aa05-755f29c333b1",
   "metadata": {
    "tags": []
   },
   "outputs": [],
   "source": [
    "root = './mid_setc'"
   ]
  },
  {
   "cell_type": "code",
   "execution_count": 34,
   "id": "e8afd782-6558-4de5-8bb5-4beeef8cddee",
   "metadata": {},
   "outputs": [],
   "source": [
    "!mkdir ./mid_setc\n",
    "!mkdir ./mid_setc/raw\n",
    "!mkdir ./mid_setc/processed"
   ]
  },
  {
   "cell_type": "markdown",
   "id": "22b2dfbe-1ca0-4fda-b22f-b356c25a8e9b",
   "metadata": {},
   "source": [
    "### Setcover"
   ]
  },
  {
   "cell_type": "code",
   "execution_count": 45,
   "id": "98b27565-ab4d-4872-8798-0050a16cfaa2",
   "metadata": {
    "tags": []
   },
   "outputs": [],
   "source": [
    "# density = 0.15\n",
    "# nrows_l = 15\n",
    "# nrows_u = 20\n",
    "# ncols_l = 15\n",
    "# ncols_u = 20\n",
    "\n",
    "density = 0.01\n",
    "nrows_l = 200\n",
    "nrows_u = 250\n",
    "ncols_l = 150\n",
    "ncols_u = 200\n",
    "\n",
    "bounds = (0., 1.)\n",
    "\n",
    "surrogate_gen = partial(generate_setcover, nrows_l=nrows_l, nrows_u=nrows_u, ncols_l=ncols_l, ncols_u=ncols_u, density=density, rng=rng)"
   ]
  },
  {
   "cell_type": "markdown",
   "id": "8feba305-fe78-4c36-9e05-c9925320ce8f",
   "metadata": {},
   "source": [
    "### Indset"
   ]
  },
  {
   "cell_type": "code",
   "execution_count": 6,
   "id": "d011cf5b-7a78-4eee-bec4-4c95e823787f",
   "metadata": {},
   "outputs": [],
   "source": [
    "def surrogate_gen():\n",
    "    # nnodes = rng.randint(10, 20)\n",
    "    nnodes = rng.randint(100, 150)\n",
    "    # nnodes = rng.randint(300, 500)\n",
    "    graph = Graph.barabasi_albert(number_of_nodes=nnodes, affinity=2, random=rng)\n",
    "    A, b, c = generate_indset(graph=graph, nnodes=nnodes)\n",
    "    return A, b, c\n",
    "\n",
    "bounds = (0., 1.)"
   ]
  },
  {
   "cell_type": "markdown",
   "id": "5b10bae9-954f-4f8d-891b-c11ef61e61d2",
   "metadata": {},
   "source": [
    "### Cauctions"
   ]
  },
  {
   "cell_type": "code",
   "execution_count": null,
   "id": "409d4b02-d2c1-4765-9137-e840fd511ad0",
   "metadata": {},
   "outputs": [],
   "source": [
    "def surrogate_gen():\n",
    "    n_items=rng.randint(20, 21)\n",
    "    n_bids=rng.randint(20, 21)\n",
    "    # n_items = 500\n",
    "    # n_bids = 600\n",
    "    A, b, c = generate_cauctions(n_items=n_items, n_bids=n_bids, rng=rng, min_value=0.01, max_value=0.1)\n",
    "    return A, b, c\n",
    "\n",
    "bounds = None"
   ]
  },
  {
   "cell_type": "markdown",
   "id": "70957397-d822-4a34-b05d-8eeeba50214a",
   "metadata": {},
   "source": [
    "### Facilities"
   ]
  },
  {
   "cell_type": "code",
   "execution_count": 14,
   "id": "54e45f1f-07de-42ac-8d2d-2c1ac4c5f8d8",
   "metadata": {},
   "outputs": [],
   "source": [
    "def surrogate_gen():\n",
    "    # n_customers = rng.randint(3, 5)\n",
    "    # n_facilities = rng.randint(3, 5)\n",
    "    n_customers = rng.randint(10, 15)\n",
    "    n_facilities = rng.randint(10, 15)\n",
    "    ratio = 5\n",
    "    A, b, c = generate_capacited_facility_location(n_customers=n_customers, n_facilities=n_facilities, ratio=ratio, rng=rng)\n",
    "    return A, b, c\n",
    "\n",
    "bounds = (0., 1.)"
   ]
  },
  {
   "cell_type": "markdown",
   "id": "4ca1c9c7-11ba-4d53-80a3-1d6b3e8cfc53",
   "metadata": {},
   "source": [
    "## create"
   ]
  },
  {
   "cell_type": "code",
   "execution_count": 17,
   "id": "63dfcd2f-a42c-41d5-a202-9946f01eb426",
   "metadata": {},
   "outputs": [],
   "source": [
    "_LPProblem = namedtuple('_LPProblem',\n",
    "                        'c A_ub b_ub A_eq b_eq bounds x0 integrality')\n",
    "_LPProblem.__new__.__defaults__ = (None,) * 7  # make c the only required arg"
   ]
  },
  {
   "cell_type": "markdown",
   "id": "e4e01d11-8f2c-40a3-be31-7c8250564aac",
   "metadata": {},
   "source": [
    "# eq"
   ]
  },
  {
   "cell_type": "code",
   "execution_count": 18,
   "id": "8b652b7b-01d0-438e-a131-6ef82950ec7f",
   "metadata": {},
   "outputs": [],
   "source": [
    "from solver.linprog_ip import _ip_hsd_feas\n",
    "from scipy.linalg import null_space\n",
    "from torch_geometric.data import Batch, HeteroData, InMemoryDataset"
   ]
  },
  {
   "cell_type": "code",
   "execution_count": 51,
   "id": "07eb0423-ed04-42e9-accd-483f224901f7",
   "metadata": {},
   "outputs": [
    {
     "name": "stderr",
     "output_type": "stream",
     "text": [
      " 63%|██████████████████████████████████████████████████████████████████████████████▎                                              | 7523/12000 [3:16:43<1:57:04,  1.57s/it]\n"
     ]
    }
   ],
   "source": [
    "warnings.filterwarnings(\"error\")\n",
    "\n",
    "ips = []\n",
    "graphs = []\n",
    "pkg_idx = 0\n",
    "success_cnt = 0\n",
    "fail_cnt = 0\n",
    "\n",
    "max_iter = 12000\n",
    "num = 10000\n",
    "\n",
    "for i in tqdm(range(max_iter)):\n",
    "    A, b, c = surrogate_gen()\n",
    "    c = c / (np.abs(c).max() + 1.e-10)  # does not change the result\n",
    "    Ab = np.concatenate([A, b[:, None]], axis=1)\n",
    "    max_logit = np.abs(Ab).max(axis=1)\n",
    "    max_logit[max_logit == 0] = 1.\n",
    "    Ab = Ab / max_logit[:, None]\n",
    "    A = Ab[:, :-1]\n",
    "    b = Ab[:, -1]\n",
    "\n",
    "    # process LP into standard form Ax=b, x>=0\n",
    "    lp = _LPProblem(c, A, b, None, None, bounds, None, None)\n",
    "    lp = _clean_inputs(lp)\n",
    "    A, b, c, *_ = _get_Abc(lp, 0.)\n",
    "    \n",
    "    try:\n",
    "        res = linprog(\n",
    "                c, \n",
    "                A_ub=None,\n",
    "                b_ub=None,\n",
    "                A_eq=A, b_eq=b, bounds=None, method='interior-point')\n",
    "    except (LinAlgWarning, OptimizeWarning, AssertionError, LinAlgError):\n",
    "        fail_cnt += 1\n",
    "        continue\n",
    "    else:\n",
    "        if res.success and not np.isnan(res.fun):\n",
    "            nulls = null_space(A)\n",
    "            proj = nulls @ (nulls / (nulls * nulls).sum(0)).T\n",
    "\n",
    "            ips.append((A.astype(np.float32),\n",
    "                        b.astype(np.float32),\n",
    "                        c.astype(np.float32),\n",
    "                        res.x,\n",
    "                        proj))\n",
    "\n",
    "            # create graph on the fly\n",
    "            x_feasible, *_ = _ip_hsd_feas(A, b, np.zeros(A.shape[1]), 0.,\n",
    "                                          alpha0=0.99995, beta=0.1,\n",
    "                                          maxiter=100, tol=1.e-6, sparse=False,\n",
    "                                          lstsq=False, sym_pos=True, cholesky=None,\n",
    "                                          pc=True, ip=True, permc_spec='MMD_AT_PLUS_A',\n",
    "                                          rand_start=True)\n",
    "            \n",
    "            A = torch.from_numpy(A).to(torch.float)\n",
    "            b = torch.from_numpy(b).to(torch.float)\n",
    "            c = torch.from_numpy(c).to(torch.float)\n",
    "            x = torch.from_numpy(res.x).to(torch.float)\n",
    "            x_feasible = torch.from_numpy(x_feasible).to(torch.float)\n",
    "            \n",
    "            A_row, A_col = torch.where(A)\n",
    "            \n",
    "            # proj_matrix @ x projects onto the nullspace of A\n",
    "            proj_matrix = torch.from_numpy(proj).to(torch.float)\n",
    "            \n",
    "            data = HeteroData(\n",
    "                cons={'x': torch.cat([A.mean(1, keepdims=True),\n",
    "                                      A.std(1, keepdims=True)], dim=1)},\n",
    "                vals={'x': torch.cat([A.mean(0, keepdims=True),\n",
    "                                      A.std(0, keepdims=True)], dim=0).T},\n",
    "                obj={'x': torch.cat([c.mean(0, keepdims=True),\n",
    "                                     c.std(0, keepdims=True)], dim=0)[None]},\n",
    "            \n",
    "                cons__to__vals={'edge_index': torch.vstack(torch.where(A)),\n",
    "                                'edge_attr': A[torch.where(A)][:, None]},\n",
    "                vals__to__obj={'edge_index': torch.vstack([torch.arange(A.shape[1]),\n",
    "                                                           torch.zeros(A.shape[1], dtype=torch.long)]),\n",
    "                               'edge_attr': c[:, None]},\n",
    "                cons__to__obj={'edge_index': torch.vstack([torch.arange(A.shape[0]),\n",
    "                                                           torch.zeros(A.shape[0], dtype=torch.long)]),\n",
    "                               'edge_attr': b[:, None]},\n",
    "                x_solution=x,\n",
    "                x_feasible=x_feasible,\n",
    "                obj_solution=c.dot(x),\n",
    "                c=c,\n",
    "                b=b,\n",
    "                A_row=A_row,\n",
    "                A_col=A_col,\n",
    "                A_val=A[A_row, A_col],\n",
    "                proj_matrix=proj_matrix.reshape(-1),\n",
    "            )\n",
    "            success_cnt += 1\n",
    "            graphs.append(data)\n",
    "\n",
    "    if len(ips) >= 1000 or success_cnt == num:\n",
    "        # with gzip.open(f'{root}/raw/instance_{pkg_idx}.pkl.gz', \"wb\") as file:\n",
    "        #     pickle.dump(ips, file)\n",
    "        torch.save(Batch.from_data_list(graphs), f'{root}/processed/batch{pkg_idx}.pt')\n",
    "        pkg_idx += 1\n",
    "        graphs = []\n",
    "        ips = []\n",
    "\n",
    "    if success_cnt >= num:\n",
    "        break\n",
    "\n",
    "warnings.resetwarnings()"
   ]
  },
  {
   "cell_type": "code",
   "execution_count": null,
   "id": "9980200c-776c-4d9a-8e18-e22555c465ad",
   "metadata": {},
   "outputs": [],
   "source": []
  }
 ],
 "metadata": {
  "kernelspec": {
   "display_name": "Python 3 (ipykernel)",
   "language": "python",
   "name": "python3"
  },
  "language_info": {
   "codemirror_mode": {
    "name": "ipython",
    "version": 3
   },
   "file_extension": ".py",
   "mimetype": "text/x-python",
   "name": "python",
   "nbconvert_exporter": "python",
   "pygments_lexer": "ipython3",
   "version": "3.10.12"
  }
 },
 "nbformat": 4,
 "nbformat_minor": 5
}
