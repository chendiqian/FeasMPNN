{
 "cells": [
  {
   "cell_type": "code",
   "execution_count": null,
   "id": "86067865-0742-4b44-a0e2-bc87447a977a",
   "metadata": {
    "is_executing": true,
    "tags": []
   },
   "outputs": [],
   "source": [
    "%load_ext autoreload\n",
    "%autoreload 2\n",
    "%load_ext line_profiler"
   ]
  },
  {
   "cell_type": "code",
   "execution_count": null,
   "id": "c613b1ca-4366-4c13-b0d4-47e581195d5b",
   "metadata": {
    "tags": []
   },
   "outputs": [],
   "source": [
    "from solver.linprog import linprog\n",
    "from tqdm import tqdm\n",
    "\n",
    "import os\n",
    "import torch\n",
    "from torch_sparse import SparseTensor\n",
    "from data.dataset import LPDataset\n",
    "import numpy as np\n",
    "from torch_geometric.data import Batch, HeteroData"
   ]
  },
  {
   "cell_type": "code",
   "execution_count": null,
   "id": "ca5baa7a-a9fa-41b9-aa05-755f29c333b1",
   "metadata": {
    "tags": []
   },
   "outputs": [],
   "source": [
    "target_root = 'datasets/large_setc_ipm'\n",
    "os.mkdir(target_root)\n",
    "os.mkdir(os.path.join(target_root, 'processed'))"
   ]
  },
  {
   "cell_type": "code",
   "execution_count": null,
   "id": "f7bcfcc1-123b-4e12-a546-2683fa7cfa65",
   "metadata": {},
   "outputs": [],
   "source": [
    "root = 'datasets/large_setc'\n",
    "ds = LPDataset(root)"
   ]
  },
  {
   "cell_type": "code",
   "execution_count": null,
   "id": "0b780cdb-9218-4ff7-89b1-06970ff0c23b",
   "metadata": {},
   "outputs": [],
   "source": [
    "class SubSample:\n",
    "    def __init__(self, k):\n",
    "        self.k = k\n",
    "\n",
    "    def __call__(self, data):\n",
    "        len_seq = data.gt_primals.shape[1]\n",
    "        if self.k == 1:\n",
    "            data.gt_primals = data.gt_primals[:, -1:]\n",
    "        elif self.k == len_seq:\n",
    "            return data\n",
    "        elif self.k > len_seq:\n",
    "            data.gt_primals = torch.cat([data.gt_primals,\n",
    "                                         data.gt_primals[:, -1:].repeat(1, self.k - len_seq)], dim=1)\n",
    "        else:\n",
    "            data.gt_primals = data.gt_primals[:, np.linspace(1, len_seq - 1, self.k).astype(np.int64)]\n",
    "        return data"
   ]
  },
  {
   "cell_type": "code",
   "execution_count": null,
   "id": "07eb0423-ed04-42e9-accd-483f224901f7",
   "metadata": {},
   "outputs": [],
   "source": [
    "graphs = []\n",
    "pkg_idx = 0\n",
    "\n",
    "for i, data in enumerate(tqdm(ds)):\n",
    "    A = SparseTensor(row=data['cons', 'to', 'vals'].edge_index[0],\n",
    "                 col=data['cons', 'to', 'vals'].edge_index[1],\n",
    "                 value=data['cons', 'to', 'vals'].edge_attr.squeeze(),\n",
    "                 is_sorted=True, trust_data=True).to_dense().numpy()\n",
    "    sol = linprog(data.c.numpy(),\n",
    "              A_ub=None,\n",
    "              b_ub=None,\n",
    "              A_eq=A, b_eq=data.b.numpy(), bounds=None,\n",
    "              method='interior-point', callback=lambda res: res.x)\n",
    "    x = np.stack(sol.intermediate, axis=1)\n",
    "    assert not np.isnan(sol['fun'])\n",
    "    \n",
    "    gt_primals = torch.from_numpy(x).to(torch.float)\n",
    "    \n",
    "    newdata = HeteroData(\n",
    "        cons={\n",
    "            'num_nodes': data.b.shape[0],\n",
    "            'x': torch.empty(data.b.shape[0]),\n",
    "             },\n",
    "        vals={\n",
    "            'num_nodes': data.c.shape[0],\n",
    "            'x': torch.empty(data.c.shape[0]),\n",
    "        },\n",
    "        cons__to__vals={'edge_index': data[('cons', 'to', 'vals')].edge_index,\n",
    "                        'edge_attr': data[('cons', 'to', 'vals')].edge_attr},\n",
    "        obj_solution=data.obj_solution,\n",
    "        c=data.c,\n",
    "        b=data.b,\n",
    "        gt_primals=gt_primals)\n",
    "\n",
    "    newdata = SubSample(8)(newdata)\n",
    "    graphs.append(newdata)\n",
    "\n",
    "    if len(graphs) >= 1000:\n",
    "        torch.save(Batch.from_data_list(graphs), f'{target_root}/processed/batch{pkg_idx}.pt')\n",
    "        pkg_idx += 1\n",
    "        graphs = []\n",
    "\n",
    "if len(graphs):\n",
    "    torch.save(Batch.from_data_list(graphs), f'{target_root}/processed/batch{pkg_idx}.pt')\n",
    "    graphs = []"
   ]
  },
  {
   "cell_type": "code",
   "execution_count": null,
   "id": "0f9f79d2-e484-4f1c-a35c-3924381ad80f",
   "metadata": {},
   "outputs": [],
   "source": [
    "ds = LPDataset(target_root)"
   ]
  },
  {
   "cell_type": "code",
   "execution_count": null,
   "id": "e3c8611c-50b3-448b-8825-1a951c628ba4",
   "metadata": {},
   "outputs": [],
   "source": []
  }
 ],
 "metadata": {
  "kernelspec": {
   "display_name": "Python 3 (ipykernel)",
   "language": "python",
   "name": "python3"
  },
  "language_info": {
   "codemirror_mode": {
    "name": "ipython",
    "version": 3
   },
   "file_extension": ".py",
   "mimetype": "text/x-python",
   "name": "python",
   "nbconvert_exporter": "python",
   "pygments_lexer": "ipython3",
   "version": "3.10.14"
  }
 },
 "nbformat": 4,
 "nbformat_minor": 5
}
