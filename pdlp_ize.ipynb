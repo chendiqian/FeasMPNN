{
 "cells": [
  {
   "cell_type": "code",
   "execution_count": null,
   "id": "b53e85e7-f704-4130-a76e-5edce14346d3",
   "metadata": {
    "is_executing": true,
    "tags": []
   },
   "outputs": [],
   "source": [
    "%load_ext autoreload\n",
    "%autoreload 2"
   ]
  },
  {
   "cell_type": "code",
   "execution_count": null,
   "id": "e760be0b-434c-4327-8bd7-fb89c4c721bf",
   "metadata": {
    "tags": []
   },
   "outputs": [],
   "source": [
    "from tqdm import tqdm\n",
    "\n",
    "import os\n",
    "import torch\n",
    "from torch_sparse import SparseTensor\n",
    "from data.dataset import LPDataset\n",
    "import numpy as np\n",
    "from torch_geometric.data import Batch, HeteroData, Data\n",
    "\n",
    "import scipy.sparse\n",
    "from ortools.pdlp import solve_log_pb2\n",
    "from ortools.pdlp import solvers_pb2\n",
    "from ortools.pdlp.python import pdlp"
   ]
  },
  {
   "cell_type": "code",
   "execution_count": null,
   "id": "b16e97b3-46da-4334-95ac-39d267b15bbb",
   "metadata": {
    "tags": []
   },
   "outputs": [],
   "source": [
    "target_root = 'datasets/large_setc_pdlp'\n",
    "os.mkdir(target_root)\n",
    "os.mkdir(os.path.join(target_root, 'processed'))"
   ]
  },
  {
   "cell_type": "code",
   "execution_count": null,
   "id": "cdded16c-e7a7-4f3e-b533-bc0dff77c0f1",
   "metadata": {},
   "outputs": [],
   "source": [
    "root = 'datasets/large_setc'\n",
    "ds = LPDataset(root)"
   ]
  },
  {
   "cell_type": "markdown",
   "id": "61dc1d16-4ae3-4570-b3c4-9dff4a34b6a1",
   "metadata": {},
   "source": [
    "https://github.com/google/or-tools/blob/stable/ortools/pdlp/samples/simple_pdlp_program.py"
   ]
  },
  {
   "cell_type": "code",
   "execution_count": null,
   "id": "085a694f-bb0f-47a5-91a4-371859d524be",
   "metadata": {},
   "outputs": [],
   "source": [
    "graphs = []\n",
    "pkg_idx = 0\n",
    "\n",
    "for i, data in enumerate(tqdm(ds)):\n",
    "    A = SparseTensor(row=data['cons', 'to', 'vals'].edge_index[0],\n",
    "                 col=data['cons', 'to', 'vals'].edge_index[1],\n",
    "                 value=data['cons', 'to', 'vals'].edge_attr.squeeze(),\n",
    "                 is_sorted=True, trust_data=True).to_scipy('csc')\n",
    "\n",
    "    lp = pdlp.QuadraticProgram()\n",
    "    # lp.objective_offset = -14\n",
    "    lp.objective_vector = data.c.tolist()\n",
    "    lp.constraint_lower_bounds = data.b.tolist()\n",
    "    lp.constraint_upper_bounds = data.b.tolist()\n",
    "    lp.variable_lower_bounds = [0] * data.c.shape[0]\n",
    "    lp.variable_upper_bounds = [np.inf] * data.c.shape[0]\n",
    "    lp.constraint_matrix = A\n",
    "    \n",
    "    result = pdlp.primal_dual_hybrid_gradient(lp, params)\n",
    "    solve_log = result.solve_log\n",
    "    \n",
    "    assert solve_log.termination_reason == solve_log_pb2.TERMINATION_REASON_OPTIMAL\n",
    "        \n",
    "    newdata = HeteroData(\n",
    "        cons={\n",
    "            'num_nodes': data.b.shape[0],\n",
    "            'x': torch.empty(data.b.shape[0]),\n",
    "             },\n",
    "        vals={\n",
    "            'num_nodes': data.c.shape[0],\n",
    "            'x': torch.empty(data.c.shape[0]),\n",
    "        },\n",
    "        cons__to__vals={'edge_index': data[('cons', 'to', 'vals')].edge_index,\n",
    "                        'edge_attr': data[('cons', 'to', 'vals')].edge_attr},\n",
    "        obj_solution=data.obj_solution,\n",
    "        c=data.c,\n",
    "        b=data.b,\n",
    "        primal_solution=torch.from_numpy(result.primal_solution.copy()).float(),\n",
    "        dual_solution=torch.from_numpy(result.dual_solution.copy()).float())\n",
    "\n",
    "    graphs.append(newdata)\n",
    "\n",
    "    if len(graphs) >= 1000:\n",
    "        torch.save(Batch.from_data_list(graphs), f'{target_root}/processed/batch{pkg_idx}.pt')\n",
    "        pkg_idx += 1\n",
    "        graphs = []\n",
    "\n",
    "if len(graphs):\n",
    "    torch.save(Batch.from_data_list(graphs), f'{target_root}/processed/batch{pkg_idx}.pt')\n",
    "    graphs = []"
   ]
  },
  {
   "cell_type": "code",
   "execution_count": null,
   "id": "7a421735-21b2-49db-aa49-7f05e898a39f",
   "metadata": {},
   "outputs": [],
   "source": [
    "ds = LPDataset(target_root)"
   ]
  },
  {
   "cell_type": "code",
   "execution_count": null,
   "id": "f70888bf-f8af-40bb-9980-1ecc83aaf6ed",
   "metadata": {},
   "outputs": [],
   "source": []
  }
 ],
 "metadata": {
  "kernelspec": {
   "display_name": "Python 3 (ipykernel)",
   "language": "python",
   "name": "python3"
  },
  "language_info": {
   "codemirror_mode": {
    "name": "ipython",
    "version": 3
   },
   "file_extension": ".py",
   "mimetype": "text/x-python",
   "name": "python",
   "nbconvert_exporter": "python",
   "pygments_lexer": "ipython3",
   "version": "3.10.14"
  }
 },
 "nbformat": 4,
 "nbformat_minor": 5
}
