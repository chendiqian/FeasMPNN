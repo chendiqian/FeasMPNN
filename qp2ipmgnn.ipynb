{
 "cells": [
  {
   "cell_type": "code",
   "execution_count": 1,
   "id": "86067865-0742-4b44-a0e2-bc87447a977a",
   "metadata": {
    "is_executing": true,
    "tags": []
   },
   "outputs": [],
   "source": [
    "%load_ext autoreload\n",
    "%autoreload 2\n",
    "%load_ext line_profiler"
   ]
  },
  {
   "cell_type": "code",
   "execution_count": 2,
   "id": "c613b1ca-4366-4c13-b0d4-47e581195d5b",
   "metadata": {
    "tags": []
   },
   "outputs": [],
   "source": [
    "from tqdm import tqdm\n",
    "\n",
    "import os\n",
    "import torch\n",
    "import numpy as np"
   ]
  },
  {
   "cell_type": "code",
   "execution_count": 15,
   "id": "94581101-d0c3-46a7-a67e-83c7e4658554",
   "metadata": {},
   "outputs": [],
   "source": [
    "from data.dataset import LPDataset\n",
    "\n",
    "root = 'datasets/qp_svm_50_30_0.1'\n",
    "new_root = root + '_ipm'\n",
    "os.mkdir(new_root)\n",
    "os.mkdir(os.path.join(new_root, 'processed'))\n",
    "\n",
    "ds = LPDataset(root, transform=None)"
   ]
  },
  {
   "cell_type": "code",
   "execution_count": null,
   "id": "a715c78c-b09c-41f5-9a58-989d1891134f",
   "metadata": {},
   "outputs": [],
   "source": []
  },
  {
   "cell_type": "code",
   "execution_count": 16,
   "id": "f0fb2e65-5983-4a94-b6d8-ca0c57d48a88",
   "metadata": {},
   "outputs": [],
   "source": [
    "from data.utils import recover_qp_from_data\n",
    "from qpsolvers.conversions.linear_from_box_inequalities import linear_from_box_inequalities\n",
    "from qpsolvers.solvers.cvxopt_ import __to_cvxopt\n",
    "from solver.qp import coneqp\n",
    "\n",
    "from torch_geometric.data import Batch, HeteroData"
   ]
  },
  {
   "cell_type": "code",
   "execution_count": 17,
   "id": "be28d348-c672-4a8a-9af0-485d7ccd705c",
   "metadata": {},
   "outputs": [
    {
     "name": "stderr",
     "output_type": "stream",
     "text": [
      "100%|█████████████████████████████████████████████████████████████████████████████████████████████████████████████████████████████████| 4000/4000 [00:23<00:00, 173.68it/s]\n"
     ]
    }
   ],
   "source": [
    "new_graphs = []\n",
    "step_length = 8\n",
    "\n",
    "pbar = tqdm(ds)\n",
    "for data in pbar:\n",
    "    P, q, A, b, G, h, lb, ub = recover_qp_from_data(data, np.float64)\n",
    "    G, h = linear_from_box_inequalities(G, h, lb, ub, use_sparse=False)\n",
    "    P = __to_cvxopt(P)\n",
    "    q = __to_cvxopt(q)\n",
    "    if G is not None and h is not None:\n",
    "        G = __to_cvxopt(G)\n",
    "        h = __to_cvxopt(h)\n",
    "    if A is not None and b is not None:\n",
    "        A = __to_cvxopt(A)\n",
    "        b = __to_cvxopt(b)\n",
    "    initvals_dict = {\"x\": __to_cvxopt(data.x_feasible.numpy().astype(np.float64))}\n",
    "    res = coneqp(P, q, G=G, h=h, A=A, b=b, initvals=initvals_dict)\n",
    "    x_solution = np.array(res['x']).flatten()\n",
    "\n",
    "    trajectory = np.stack(res['trajectory'][1:], axis=1)\n",
    "    if step_length > trajectory.shape[1]:\n",
    "        trajectory = np.concatenate([trajectory, np.tile(trajectory[:, -1], (step_length - trajectory.shape[1], 1)).T], axis=1)\n",
    "    else:\n",
    "        trajectory = trajectory[:, np.linspace(0, trajectory.shape[1] - 1, step_length).astype(np.int64)]\n",
    "\n",
    "    data = HeteroData(\n",
    "                cons={\n",
    "                    'num_nodes': data['cons'].num_nodes,\n",
    "                    'x': data['cons'].x,\n",
    "                     },\n",
    "                vals={\n",
    "                    'num_nodes': data['vals'].num_nodes,\n",
    "                    'x': data['vals'].x,\n",
    "                },\n",
    "                cons__to__vals={'edge_index': data[('cons', 'to', 'vals')].edge_index,\n",
    "                                'edge_attr': data[('cons', 'to', 'vals')].edge_attr},\n",
    "                vals__to__vals={'edge_index': data[('vals', 'to', 'vals')].edge_index,\n",
    "                                'edge_attr': data[('vals', 'to', 'vals')].edge_attr},\n",
    "                x_solution=torch.from_numpy(x_solution).float(),\n",
    "                x_feasible=data.x_feasible,\n",
    "                trajectory=torch.from_numpy(trajectory).float(),\n",
    "                obj_solution=data.obj_solution,\n",
    "                b=data.b,\n",
    "                q=data.q,\n",
    "            )\n",
    "    new_graphs.append(data)"
   ]
  },
  {
   "cell_type": "code",
   "execution_count": 18,
   "id": "5c075529-f90f-4e5d-a63c-d4ae964882c8",
   "metadata": {},
   "outputs": [],
   "source": [
    "torch.save(Batch.from_data_list(new_graphs), f'{new_root}/processed/batch0.pt')"
   ]
  },
  {
   "cell_type": "code",
   "execution_count": 19,
   "id": "ddfec598-ded0-4043-a927-d21cf4d7ba39",
   "metadata": {},
   "outputs": [
    {
     "name": "stderr",
     "output_type": "stream",
     "text": [
      "Processing...\n",
      "Done!\n"
     ]
    }
   ],
   "source": [
    "ds = LPDataset(new_root, transform=None)"
   ]
  },
  {
   "cell_type": "code",
   "execution_count": null,
   "id": "727fb81b-0544-4f02-8cb4-e02caef0a00d",
   "metadata": {},
   "outputs": [],
   "source": []
  }
 ],
 "metadata": {
  "kernelspec": {
   "display_name": "Python 3 (ipykernel)",
   "language": "python",
   "name": "python3"
  },
  "language_info": {
   "codemirror_mode": {
    "name": "ipython",
    "version": 3
   },
   "file_extension": ".py",
   "mimetype": "text/x-python",
   "name": "python",
   "nbconvert_exporter": "python",
   "pygments_lexer": "ipython3",
   "version": "3.10.14"
  }
 },
 "nbformat": 4,
 "nbformat_minor": 5
}
