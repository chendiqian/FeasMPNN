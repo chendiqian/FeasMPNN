{
 "cells": [
  {
   "cell_type": "markdown",
   "id": "fcdc1858-6b3c-4784-98c4-fa5e4df831f4",
   "metadata": {},
   "source": [
    "https://link.springer.com/content/pdf/10.1007/s11075-012-9599-1.pdf"
   ]
  },
  {
   "cell_type": "code",
   "execution_count": 239,
   "id": "b492bcbe-6fca-43da-b334-a52b4ad4a17b",
   "metadata": {},
   "outputs": [],
   "source": [
    "%load_ext line_profiler"
   ]
  },
  {
   "cell_type": "code",
   "execution_count": 2,
   "id": "521680d1-a9c6-45be-a8c8-857d8887b4d2",
   "metadata": {},
   "outputs": [],
   "source": [
    "import torch\n",
    "import numpy as np\n",
    "from torch_sparse import SparseTensor"
   ]
  },
  {
   "cell_type": "code",
   "execution_count": null,
   "id": "e061e7bd-145c-4de6-bdd9-39565d9e8f5a",
   "metadata": {},
   "outputs": [],
   "source": [
    "from data.dataset import LPDataset\n",
    "import torch\n",
    "import numpy as np\n",
    "from tqdm import tqdm\n",
    "from torch_sparse import SparseTensor\n",
    "\n",
    "ds = torch.load('datasets/large_mis/processed/batch0.pt')"
   ]
  },
  {
   "cell_type": "code",
   "execution_count": null,
   "id": "d447a329-fef8-4e08-aa5a-39cc9477ebf6",
   "metadata": {},
   "outputs": [],
   "source": [
    "g = ds[i]\n",
    "A = SparseTensor(row=g['cons', 'to', 'vals'].edge_index[0],\n",
    "                 col=g['cons', 'to', 'vals'].edge_index[1],\n",
    "                 value=g['cons', 'to', 'vals'].edge_attr.squeeze(),\n",
    "                 is_sorted=True, trust_data=True).to_dense().numpy()"
   ]
  },
  {
   "cell_type": "code",
   "execution_count": null,
   "id": "0843986c-9938-47f0-a3e5-072b475590a7",
   "metadata": {},
   "outputs": [],
   "source": [
    "def density(x):\n",
    "    return np.nonzero(x)[0].shape[0] / np.prod(x.shape)"
   ]
  },
  {
   "cell_type": "code",
   "execution_count": 672,
   "id": "2e69ea0b-39e8-4ec8-b5c9-04025078431d",
   "metadata": {},
   "outputs": [],
   "source": [
    "from scipy.sparse import csr_matrix, coo_matrix\n",
    "\n",
    "\n",
    "def sparse_null_space(A: np.ndarray):\n",
    "    nnz_rows = np.where(A)[0]\n",
    "    row_idx, counts = np.unique(nnz_rows, return_counts=True)\n",
    "    sort_idx = np.argsort(counts)\n",
    "    A_sorted = A[sort_idx, :]\n",
    "\n",
    "    m, n = A.shape\n",
    "    H = np.eye(n)\n",
    "    \n",
    "    for i in range(m):\n",
    "        s_i = H.dot(A_sorted[i])\n",
    "        if np.all(s_i == 0.):\n",
    "            continue\n",
    "        ji = np.argmax(np.abs(s_i)[:n - i])\n",
    "        si_prime = - s_i / s_i[ji]\n",
    "        si_prime = np.hstack([si_prime[:ji], si_prime[ji+1:]])\n",
    "        H_new = np.zeros((si_prime.shape[0], n), dtype=np.float32)\n",
    "        nnz = np.where(si_prime)[0]\n",
    "        H_new[nnz, :] = si_prime[nnz, None] * H[ji : ji+1, :]\n",
    "        H_new[:ji] += H[:ji]\n",
    "        H_new[ji:] += H[ji+1:]\n",
    "        H = H_new\n",
    "    return H.T"
   ]
  },
  {
   "cell_type": "code",
   "execution_count": 673,
   "id": "b1c0b476-965e-4308-bae1-9332378d18be",
   "metadata": {},
   "outputs": [],
   "source": [
    "# from scipy.sparse import csr_matrix, coo_matrix, eye as sp_eye, vstack as sp_vstack\n",
    "\n",
    "\n",
    "# def sparse_null_space(A: np.ndarray):\n",
    "#     nnz_rows = np.where(A)[0]\n",
    "#     row_idx, counts = np.unique(nnz_rows, return_counts=True)\n",
    "#     sort_idx = np.argsort(counts)\n",
    "#     A_sorted = csr_matrix(A[sort_idx, :])\n",
    "\n",
    "#     m, n = A.shape\n",
    "#     H = sp_eye(n, format='csr')\n",
    "    \n",
    "#     for i in range(m):\n",
    "#         s_i = H @ A_sorted[i].T\n",
    "#         if np.all(s_i.data == 0.) or len(s_i.data) == 0.:\n",
    "#             continue\n",
    "#         ji = np.argmax(np.abs(s_i)[:n - i])\n",
    "#         si_prime = - s_i / s_i[ji].data.item()\n",
    "#         si_prime = sp_vstack([si_prime[:ji], si_prime[ji+1:]])\n",
    "#         H_new = si_prime * H[ji, :]\n",
    "#         H_new[:ji] += H[:ji]\n",
    "#         H_new[ji:] += H[ji+1:]\n",
    "#         H = H_new\n",
    "#     return H.T"
   ]
  },
  {
   "cell_type": "code",
   "execution_count": 674,
   "id": "616c7972-1498-4b58-8ceb-78a53d88353a",
   "metadata": {},
   "outputs": [],
   "source": [
    "H = sparse_null_space(A)"
   ]
  },
  {
   "cell_type": "code",
   "execution_count": null,
   "id": "00a3c183-8d95-4e4d-88e2-94ef43f7f23e",
   "metadata": {},
   "outputs": [],
   "source": []
  },
  {
   "cell_type": "code",
   "execution_count": 675,
   "id": "2d22e2aa-e352-4730-abd3-c7ec6ab06a34",
   "metadata": {},
   "outputs": [
    {
     "data": {
      "text/plain": [
       "True"
      ]
     },
     "execution_count": 675,
     "metadata": {},
     "output_type": "execute_result"
    }
   ],
   "source": [
    "np.allclose(A @ H, 0.)"
   ]
  },
  {
   "cell_type": "code",
   "execution_count": 676,
   "id": "2e798f32-a9fc-410e-b3bb-fd84ff4c3ead",
   "metadata": {},
   "outputs": [
    {
     "data": {
      "text/plain": [
       "Timer unit: 1e-09 s\n",
       "\n",
       "Total time: 0.143467 s\n",
       "File: /var/folders/6v/m172f7bs02l0tkwy4_9yxttm0000gn/T/ipykernel_86621/3000469663.py\n",
       "Function: sparse_null_space at line 4\n",
       "\n",
       "Line #      Hits         Time  Per Hit   % Time  Line Contents\n",
       "==============================================================\n",
       "     4                                           def sparse_null_space(A: np.ndarray):\n",
       "     5         1    6957000.0    7e+06      4.8      nnz_rows = np.where(A)[0]\n",
       "     6         1     315000.0 315000.0      0.2      row_idx, counts = np.unique(nnz_rows, return_counts=True)\n",
       "     7         1      35000.0  35000.0      0.0      sort_idx = np.argsort(counts)\n",
       "     8         1     719000.0 719000.0      0.5      A_sorted = A[sort_idx, :]\n",
       "     9                                           \n",
       "    10         1       2000.0   2000.0      0.0      m, n = A.shape\n",
       "    11         1     709000.0 709000.0      0.5      H = np.eye(n)\n",
       "    12                                               \n",
       "    13       647      92000.0    142.2      0.1      for i in range(m):\n",
       "    14       646   21669000.0  33543.3     15.1          s_i = H.dot(A_sorted[i])\n",
       "    15       646    5267000.0   8153.3      3.7          if np.all(s_i == 0.):\n",
       "    16                                                       continue\n",
       "    17       646    2565000.0   3970.6      1.8          ji = np.argmax(np.abs(s_i)[:n - i])\n",
       "    18       646    1497000.0   2317.3      1.0          si_prime = - s_i / s_i[ji]\n",
       "    19       646    4325000.0   6695.0      3.0          si_prime = np.hstack([si_prime[:ji], si_prime[ji+1:]])\n",
       "    20       646   26562000.0  41117.6     18.5          H_new = np.zeros((si_prime.shape[0], n), dtype=np.float32)\n",
       "    21       646    2520000.0   3900.9      1.8          nnz = np.where(si_prime)[0]\n",
       "    22       646    3339000.0   5168.7      2.3          H_new[nnz, :] = si_prime[nnz, None] * H[ji : ji+1, :]\n",
       "    23       646    9107000.0  14097.5      6.3          H_new[:ji] += H[:ji]\n",
       "    24       646   46495000.0  71973.7     32.4          H_new[ji:] += H[ji+1:]\n",
       "    25       646   11291000.0  17478.3      7.9          H = H_new\n",
       "    26         1       1000.0   1000.0      0.0      return H.T"
      ]
     },
     "metadata": {},
     "output_type": "display_data"
    }
   ],
   "source": [
    "%lprun -f sparse_null_space sparse_null_space(A)"
   ]
  },
  {
   "cell_type": "code",
   "execution_count": null,
   "id": "7b875ea7-a386-477b-bad4-b286f1b2b612",
   "metadata": {},
   "outputs": [],
   "source": []
  },
  {
   "cell_type": "code",
   "execution_count": 677,
   "id": "045b14d0-28e1-4aa0-b02d-51da7e7c55a1",
   "metadata": {},
   "outputs": [],
   "source": [
    "q, r = np.linalg.qr(H)"
   ]
  },
  {
   "cell_type": "code",
   "execution_count": 678,
   "id": "cac536ee-afef-4a3c-a98b-a587fd3c53f9",
   "metadata": {},
   "outputs": [
    {
     "data": {
      "text/plain": [
       "2.9802322e-08"
      ]
     },
     "execution_count": 678,
     "metadata": {},
     "output_type": "execute_result"
    }
   ],
   "source": [
    "np.abs(A @ q).max()"
   ]
  },
  {
   "cell_type": "code",
   "execution_count": 680,
   "id": "21e431b2-5920-478f-b8e4-297ff5020493",
   "metadata": {},
   "outputs": [
    {
     "data": {
      "text/plain": [
       "0.006807684232626496"
      ]
     },
     "execution_count": 680,
     "metadata": {},
     "output_type": "execute_result"
    }
   ],
   "source": [
    "density(H)"
   ]
  },
  {
   "cell_type": "code",
   "execution_count": 681,
   "id": "5c50dea5-02fd-456d-be04-b32686aec25f",
   "metadata": {},
   "outputs": [
    {
     "data": {
      "text/plain": [
       "0.6590909090909091"
      ]
     },
     "execution_count": 681,
     "metadata": {},
     "output_type": "execute_result"
    }
   ],
   "source": [
    "density(q)"
   ]
  },
  {
   "cell_type": "code",
   "execution_count": null,
   "id": "48296ff1-297d-48c6-a71e-657a3b82c5ae",
   "metadata": {},
   "outputs": [],
   "source": []
  },
  {
   "cell_type": "code",
   "execution_count": 682,
   "id": "a39af140-1a0c-4eae-bd3c-3964f692bdac",
   "metadata": {},
   "outputs": [],
   "source": [
    "pj = H @ H.T"
   ]
  },
  {
   "cell_type": "code",
   "execution_count": 683,
   "id": "26e0d264-33a0-4ba9-aeb6-d64f43a9b0bd",
   "metadata": {},
   "outputs": [
    {
     "data": {
      "text/plain": [
       "0.013558128743552954"
      ]
     },
     "execution_count": 683,
     "metadata": {},
     "output_type": "execute_result"
    }
   ],
   "source": [
    "density(pj)"
   ]
  },
  {
   "cell_type": "code",
   "execution_count": 684,
   "id": "ae724699-f8ad-4387-9993-60f5826d3c89",
   "metadata": {},
   "outputs": [],
   "source": [
    "x = np.random.rand(H.shape[0])"
   ]
  },
  {
   "cell_type": "code",
   "execution_count": 685,
   "id": "96f07fe9-5dff-40ec-9df5-7e1e7638ab91",
   "metadata": {},
   "outputs": [],
   "source": [
    "x1 = pj @ x"
   ]
  },
  {
   "cell_type": "code",
   "execution_count": 686,
   "id": "741aef32-3520-4295-8bcb-aeb00712d20e",
   "metadata": {},
   "outputs": [
    {
     "data": {
      "text/plain": [
       "0.5197014786043137"
      ]
     },
     "execution_count": 686,
     "metadata": {},
     "output_type": "execute_result"
    }
   ],
   "source": [
    "x.dot(x1) / np.linalg.norm(x, ord=2.) / np.linalg.norm(x1, ord=2.)"
   ]
  },
  {
   "cell_type": "code",
   "execution_count": null,
   "id": "0d0243c3-85fd-4fa9-847b-d0dae8809490",
   "metadata": {},
   "outputs": [],
   "source": []
  },
  {
   "cell_type": "code",
   "execution_count": 687,
   "id": "00e4481a-152f-48fa-8f3a-c0dfb0fdaa38",
   "metadata": {},
   "outputs": [],
   "source": [
    "pj2 = q @ q.T"
   ]
  },
  {
   "cell_type": "code",
   "execution_count": 688,
   "id": "33e10d0f-5974-4481-b281-1d57acdcd5dd",
   "metadata": {},
   "outputs": [
    {
     "data": {
      "text/plain": [
       "1.0"
      ]
     },
     "execution_count": 688,
     "metadata": {},
     "output_type": "execute_result"
    }
   ],
   "source": [
    "density(pj2)"
   ]
  },
  {
   "cell_type": "code",
   "execution_count": 689,
   "id": "947c0641-f48e-4b17-b55c-2c091fa6eea0",
   "metadata": {},
   "outputs": [],
   "source": [
    "x2 = pj2 @ x"
   ]
  },
  {
   "cell_type": "code",
   "execution_count": 690,
   "id": "5dfcf929-2c02-438f-8228-dfc09ff7bc86",
   "metadata": {},
   "outputs": [
    {
     "data": {
      "text/plain": [
       "0.5954144780351396"
      ]
     },
     "execution_count": 690,
     "metadata": {},
     "output_type": "execute_result"
    }
   ],
   "source": [
    "x.dot(x2) / np.linalg.norm(x, ord=2.) / np.linalg.norm(x2, ord=2.)"
   ]
  },
  {
   "cell_type": "code",
   "execution_count": null,
   "id": "529269ee-cd15-45f2-99a3-75048e4d08f9",
   "metadata": {},
   "outputs": [],
   "source": []
  },
  {
   "cell_type": "code",
   "execution_count": 691,
   "id": "e0b081dd-fbee-4ec3-a78c-ef881557dd12",
   "metadata": {},
   "outputs": [],
   "source": [
    "proj = H @ (H / (H * H).sum(0)).T"
   ]
  },
  {
   "cell_type": "code",
   "execution_count": 692,
   "id": "50c0dc96-0e3c-4797-9580-e7ce8be3876c",
   "metadata": {},
   "outputs": [
    {
     "data": {
      "text/plain": [
       "0.013558128743552954"
      ]
     },
     "execution_count": 692,
     "metadata": {},
     "output_type": "execute_result"
    }
   ],
   "source": [
    "density(proj)"
   ]
  },
  {
   "cell_type": "code",
   "execution_count": 693,
   "id": "98db712e-8e00-4578-b2fe-2b49316341bb",
   "metadata": {},
   "outputs": [],
   "source": [
    "x3 = proj @ x"
   ]
  },
  {
   "cell_type": "code",
   "execution_count": 694,
   "id": "9a6dd581-3e1b-42f0-a39d-a1f14f104466",
   "metadata": {},
   "outputs": [
    {
     "data": {
      "text/plain": [
       "0.5832242564961544"
      ]
     },
     "execution_count": 694,
     "metadata": {},
     "output_type": "execute_result"
    }
   ],
   "source": [
    "x.dot(x3) / np.linalg.norm(x, ord=2.) / np.linalg.norm(x3, ord=2.)"
   ]
  },
  {
   "cell_type": "code",
   "execution_count": null,
   "id": "61f325b4-963d-4cf8-ac30-3750fa62da01",
   "metadata": {},
   "outputs": [],
   "source": []
  },
  {
   "cell_type": "code",
   "execution_count": 695,
   "id": "93a6db37-eaea-4061-b82c-62fc56217bca",
   "metadata": {},
   "outputs": [],
   "source": [
    "from torch_geometric.data import Batch"
   ]
  },
  {
   "cell_type": "code",
   "execution_count": 697,
   "id": "b3636a34-e376-40ee-9912-30906ae4b7f8",
   "metadata": {},
   "outputs": [
    {
     "name": "stderr",
     "output_type": "stream",
     "text": [
      "100%|██████████████████████████████████████████████████████████████████████████████████████████████████████████████████████████████████| 1000/1000 [02:18<00:00,  7.21it/s]\n",
      "100%|██████████████████████████████████████████████████████████████████████████████████████████████████████████████████████████████████| 1000/1000 [02:17<00:00,  7.26it/s]\n",
      "100%|██████████████████████████████████████████████████████████████████████████████████████████████████████████████████████████████████| 1000/1000 [02:38<00:00,  6.33it/s]\n",
      "100%|██████████████████████████████████████████████████████████████████████████████████████████████████████████████████████████████████| 1000/1000 [02:39<00:00,  6.26it/s]\n",
      "100%|██████████████████████████████████████████████████████████████████████████████████████████████████████████████████████████████████| 1000/1000 [02:44<00:00,  6.07it/s]\n",
      "100%|██████████████████████████████████████████████████████████████████████████████████████████████████████████████████████████████████| 1000/1000 [02:30<00:00,  6.65it/s]\n",
      "100%|██████████████████████████████████████████████████████████████████████████████████████████████████████████████████████████████████| 1000/1000 [02:48<00:00,  5.93it/s]\n",
      "100%|██████████████████████████████████████████████████████████████████████████████████████████████████████████████████████████████████| 1000/1000 [02:37<00:00,  6.34it/s]\n",
      "100%|██████████████████████████████████████████████████████████████████████████████████████████████████████████████████████████████████| 1000/1000 [02:28<00:00,  6.72it/s]\n",
      "100%|██████████████████████████████████████████████████████████████████████████████████████████████████████████████████████████████████| 1000/1000 [02:36<00:00,  6.38it/s]\n"
     ]
    }
   ],
   "source": [
    "for pkg in range(10):\n",
    "    new_g = []\n",
    "    ds = torch.load(f'datasets/large_mis/processed/batch{pkg}.pt')\n",
    "    for i in tqdm(range(len(ds))):\n",
    "        g = ds[i]\n",
    "        A = SparseTensor(row=g['cons', 'to', 'vals'].edge_index[0],\n",
    "                     col=g['cons', 'to', 'vals'].edge_index[1],\n",
    "                     value=g['cons', 'to', 'vals'].edge_attr.squeeze(),\n",
    "                     is_sorted=True, trust_data=True).to_dense().numpy()\n",
    "\n",
    "        H = sparse_null_space(A)\n",
    "        proj = H @ (H / (H * H).sum(0)).T\n",
    "    \n",
    "        wh = np.vstack(np.where(proj))\n",
    "        proj_edge_index = torch.from_numpy(wh).long()\n",
    "        proj_val = torch.from_numpy(proj[wh[0], wh[1]]).float()\n",
    "    \n",
    "        data = HeteroData(\n",
    "                    cons={\n",
    "                        'num_nodes': g.b.shape[0],\n",
    "                         },\n",
    "                    vals={\n",
    "                        'num_nodes': g.c.shape[0],\n",
    "                    },\n",
    "                \n",
    "                    cons__to__vals={'edge_index': g['cons', 'to', 'vals'].edge_index,\n",
    "                                    'edge_attr': g['cons', 'to', 'vals'].edge_attr},\n",
    "    \n",
    "                    vals__to__vals={'edge_index': proj_edge_index,\n",
    "                                    'edge_attr': proj_val},\n",
    "    \n",
    "                    x_solution=g.x_solution,\n",
    "                    x_feasible=g.x_feasible,\n",
    "                    obj_solution=g.obj_solution,\n",
    "                    c=g.c,\n",
    "                    b=g.b,\n",
    "                )\n",
    "    \n",
    "        new_g.append(data)\n",
    "    torch.save(Batch.from_data_list(new_g), f'datasets/large_mis_sp/processed/batch{pkg}.pt')"
   ]
  },
  {
   "cell_type": "code",
   "execution_count": null,
   "id": "5849aed3-a196-4f57-b7c2-e444d32112c1",
   "metadata": {},
   "outputs": [],
   "source": []
  }
 ],
 "metadata": {
  "kernelspec": {
   "display_name": "Python 3 (ipykernel)",
   "language": "python",
   "name": "python3"
  },
  "language_info": {
   "codemirror_mode": {
    "name": "ipython",
    "version": 3
   },
   "file_extension": ".py",
   "mimetype": "text/x-python",
   "name": "python",
   "nbconvert_exporter": "python",
   "pygments_lexer": "ipython3",
   "version": "3.10.12"
  }
 },
 "nbformat": 4,
 "nbformat_minor": 5
}
